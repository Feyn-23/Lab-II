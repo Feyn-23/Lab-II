{
 "cells": [
  {
   "cell_type": "markdown",
   "source": [
    "Fitting amplitudes using scipy wrapper library [lmfit](https://lmfit.github.io/lmfit-py/)"
   ],
   "metadata": {
    "collapsed": false
   }
  },
  {
   "cell_type": "code",
   "execution_count": 67,
   "outputs": [],
   "source": [
    "from lmfit import Parameters\n",
    "\n",
    "paramsR = Parameters()\n",
    "paramsL = Parameters()\n",
    "paramsC = Parameters()\n",
    "\n",
    "paramsR.add('R_r',996.7, min=950, max=1500)\n",
    "paramsR.add('R',2000,min=1.5e03, max=3e03)\n",
    "paramsR.add('L',4.741e-02, min=3.0e-02, max=5.5e-02)\n",
    "paramsR.add('C',1.46e-09, min=1e-09, max=2e-09)\n",
    "paramsR.add('V_0',2.4,min=0.0,max=3.0)\n",
    "\n",
    "paramsL.add('R',min=1.5e03, max=3e03)\n",
    "paramsL.add('L',4.741e-02, min=3.0e-02, max=5.5e-02)\n",
    "paramsL.add('C',1.46e-09, min=1e-09, max=2e-09)\n",
    "paramsL.add('V_0',1.5,min=0.0,max=3.0)\n",
    "\n",
    "paramsC.add('R',min=1.5e03, max=3e03)\n",
    "paramsC.add('L',4.741e-02, min=3.0e-02, max=5.5e-02)\n",
    "paramsC.add('C',1.46e-09, min=1e-09, max=2e-09)\n",
    "paramsC.add('V_0',1.5,min=0.0,max=3.0)\n"
   ],
   "metadata": {
    "collapsed": false,
    "pycharm": {
     "name": "#%%\n"
    }
   }
  },
  {
   "cell_type": "markdown",
   "source": [
    "We estimate the uncertainty on the amplitudes measurements as the standard deviation of a sample population obtained with a squared wave at f = 19kHz(#TODO rimisura a freequenza piu bassa)"
   ],
   "metadata": {
    "collapsed": false,
    "pycharm": {
     "name": "#%% md\n"
    }
   }
  },
  {
   "cell_type": "code",
   "execution_count": 68,
   "outputs": [],
   "source": [
    "import numpy as np\n",
    "\n",
    "folder = 'data/actual data/Voltage-time/'\n",
    "file_name = 'freq19kHz.csv'\n",
    "data_file = folder + file_name\n",
    "swAmpGen  = np.loadtxt(data_file, delimiter = ',', skiprows = 1, usecols = (1), unpack = True)\n",
    "swAmpPositive = []\n",
    "for x in range(len(swAmpGen)):\n",
    "    if (swAmpGen[x] > 0.0):\n",
    "        swAmpPositive.append(swAmpGen[x])\n",
    "swAmpNegative = []\n",
    "for x in range(len(swAmpGen)):\n",
    "    if (swAmpGen[x] < 0.0):\n",
    "        swAmpNegative.append(swAmpGen[x])"
   ],
   "metadata": {
    "collapsed": false,
    "pycharm": {
     "name": "#%%\n"
    }
   }
  },
  {
   "cell_type": "code",
   "execution_count": 69,
   "outputs": [
    {
     "name": "stdout",
     "output_type": "stream",
     "text": [
      "Deviazione standard sulle ampiezze positive della tensione del generatore:  0.0506\n",
      "Deviazione standard sulle ampiezze negative della tensione del generatore:  0.0477\n"
     ]
    }
   ],
   "source": [
    "from statistics import stdev\n",
    "errorePos = stdev(swAmpPositive)\n",
    "erroreNeg = stdev(swAmpNegative)\n",
    "print(\"Deviazione standard sulle ampiezze positive della tensione del generatore: \",'{:.4f}'.format(errorePos))\n",
    "print(\"Deviazione standard sulle ampiezze negative della tensione del generatore: \",'{:.4f}'.format(erroreNeg))"
   ],
   "metadata": {
    "collapsed": false,
    "pycharm": {
     "name": "#%%\n"
    }
   }
  },
  {
   "cell_type": "markdown",
   "source": [
    "Now importing the experimental data"
   ],
   "metadata": {
    "collapsed": false
   }
  },
  {
   "cell_type": "code",
   "execution_count": 1,
   "outputs": [],
   "source": [
    "import numpy as np\n",
    "import matplotlib.pyplot as plt\n",
    "from lmfit import Model\n",
    "\n",
    "file_folder = 'data/actual data/Frequency response/'\n",
    "file_name = 'amplitudes1.csv'\n",
    "data_file = file_folder + file_name\n",
    "x,ampGen,ampR,ampL,ampC  = np.loadtxt(data_file, delimiter = ',', skiprows = 1, usecols = (0,1,2,3,4), unpack = True)\n"
   ],
   "metadata": {
    "collapsed": false,
    "pycharm": {
     "name": "#%%\n"
    }
   }
  },
  {
   "cell_type": "markdown",
   "source": [
    "We now assume the previously calculated value to be the error on all the measurements"
   ],
   "metadata": {
    "collapsed": false
   }
  },
  {
   "cell_type": "code",
   "execution_count": 71,
   "outputs": [],
   "source": [
    "errors = []\n",
    "for i in range(len(ampGen)):\n",
    "   errors.append(errorePos)\n",
    "\n",
    "weights = np.reciprocal(errors)"
   ],
   "metadata": {
    "collapsed": false,
    "pycharm": {
     "name": "#%%\n"
    }
   }
  },
  {
   "cell_type": "markdown",
   "source": [
    "Now defining the models our data will be fitted to:"
   ],
   "metadata": {
    "collapsed": false
   }
  },
  {
   "cell_type": "markdown",
   "source": [
    "We now define the function we are going to fit the data with: $$ V_R = \\frac{R_rV_0}{\\sqrt{R^2+{ \\left(\\omega L - \\frac{1}{\\omega C}\\right)}^2}}$$\n",
    "$$ V_L = \\frac{\\omega L V_0}{\\sqrt{R^2+{ \\left(\\omega L - \\frac{1}{\\omega C}\\right)}^2}}$$\n",
    "$$ V_C = \\frac{\\frac{V_0}{\\omega C}}{\\sqrt{R^2+{ \\left(\\omega L - \\frac{1}{\\omega C}\\right)}^2}}$$\n",
    "\n",
    " $\\omega = 2 \\pi f$ with $f$ being the sinusoidal generator frequency. We've chosen to estimate the uncertainty associated to the amplitude measures with the sample standard deviation $\\sigma$ since how the DAQ program outputs the amplitude values is not known.\n"
   ],
   "metadata": {
    "collapsed": false
   }
  },
  {
   "cell_type": "code",
   "execution_count": 72,
   "outputs": [],
   "source": [
    "def R_amp_model(x, R_r , R, L, C, V_0):\n",
    "    num = R_r * V_0\n",
    "    den = np.sqrt( R**2 + (2*np.pi*x* L - 1/(2*np.pi*x* C))**2)\n",
    "    return num / den\n",
    "def L_amp_model(x, R, L, C, V_0):\n",
    "    num = 2*np.pi*x *L * V_0\n",
    "    den = np.sqrt( R**2 + (2*np.pi*x *L - 1/(2*np.pi*x *C))**2)\n",
    "    return num / den\n",
    "def C_amp_model(x, R, L, C, V_0):\n",
    "    num = V_0 / (2*np.pi*x *C)\n",
    "    den = np.sqrt( R**2 + (2*np.pi*x *L - 1/(2*np.pi*x *C))**2)\n",
    "    return num / den\n",
    "\n",
    "Rmodel = Model(R_amp_model)\n",
    "Lmodel = Model(L_amp_model)\n",
    "Cmodel = Model(C_amp_model)\n"
   ],
   "metadata": {
    "collapsed": false,
    "pycharm": {
     "name": "#%%\n"
    }
   }
  },
  {
   "cell_type": "markdown",
   "source": [
    "Now performing the fits:"
   ],
   "metadata": {
    "collapsed": false
   }
  },
  {
   "cell_type": "code",
   "execution_count": 73,
   "outputs": [],
   "source": [
    "# by default model='leastsq'\n",
    "resultR = Rmodel.fit(ampR,x=x,params=paramsR,weights=weights)\n",
    "resultL = Lmodel.fit(ampL,x=x,params=paramsL,weights=weights)\n",
    "resultC = Cmodel.fit(ampC,x=x,params=paramsC,weights=weights)"
   ],
   "metadata": {
    "collapsed": false,
    "pycharm": {
     "name": "#%%\n"
    }
   }
  },
  {
   "cell_type": "markdown",
   "source": [
    "...And printing out the fit results"
   ],
   "metadata": {
    "collapsed": false
   }
  },
  {
   "cell_type": "code",
   "execution_count": 74,
   "outputs": [
    {
     "name": "stdout",
     "output_type": "stream",
     "text": [
      "R\n",
      "\n",
      "[[Model]]\n",
      "    Model(R_amp_model)\n",
      "[[Fit Statistics]]\n",
      "    # fitting method   = leastsq\n",
      "    # function evals   = 37\n",
      "    # data points      = 986\n",
      "    # variables        = 5\n",
      "    chi-square         = 23.5589709\n",
      "    reduced chi-square = 0.02401526\n",
      "    Akaike info crit   = -3671.87158\n",
      "    Bayesian info crit = -3647.40330\n",
      "[[Variables]]\n",
      "    R_r:  1040.97741 +/- 13887169.8 (1334051.03%) (init = 996.7)\n",
      "    R:    2113.81408 +/- 2519426.96 (119188.67%) (init = 2000)\n",
      "    L:    0.04900916 +/- 58.4133700 (119188.67%) (init = 0.04741)\n",
      "    C:    1.4586e-09 +/- 1.7385e-06 (119188.65%) (init = 1.46e-09)\n",
      "    V_0:  2.49491404 +/- 33268.4461 (1333450.59%) (init = 2.4)\n",
      "[[Correlations]] (unreported correlations are < 0.100)\n",
      "    C(L, C)     = -1.000\n",
      "    C(R, L)     = 1.000\n",
      "    C(R, C)     = -1.000\n",
      "    C(R_r, V_0) = -0.996\n",
      "L\n",
      "\n",
      "[[Model]]\n",
      "    Model(L_amp_model)\n",
      "[[Fit Statistics]]\n",
      "    # fitting method   = leastsq\n",
      "    # function evals   = 22\n",
      "    # data points      = 986\n",
      "    # variables        = 4\n",
      "    chi-square         = 1249.04401\n",
      "    reduced chi-square = 1.27193891\n",
      "    Akaike info crit   = 241.166709\n",
      "    Bayesian info crit = 260.741334\n",
      "[[Variables]]\n",
      "    R:    1889.10744 +/- 169.623008 (8.98%) (init = 1500)\n",
      "    L:    0.04282368 +/- 0.00377050 (8.80%) (init = 0.04741)\n",
      "    C:    1.6506e-09 +/- 1.4542e-10 (8.81%) (init = 1.46e-09)\n",
      "    V_0:  2.45034982 +/- 0.00364127 (0.15%) (init = 1.5)\n",
      "[[Correlations]] (unreported correlations are < 0.100)\n",
      "    C(L, C)   = -1.000\n",
      "    C(R, L)   = 1.000\n",
      "    C(R, C)   = -1.000\n",
      "    C(R, V_0) = 0.788\n",
      "    C(L, V_0) = 0.779\n",
      "    C(C, V_0) = -0.778\n",
      "C\n",
      "\n",
      "[[Model]]\n",
      "    Model(C_amp_model)\n",
      "[[Fit Statistics]]\n",
      "    # fitting method   = leastsq\n",
      "    # function evals   = 46\n",
      "    # data points      = 986\n",
      "    # variables        = 4\n",
      "    chi-square         = 399.679244\n",
      "    reduced chi-square = 0.40700534\n",
      "    Akaike info crit   = -882.352102\n",
      "    Bayesian info crit = -862.777477\n",
      "[[Variables]]\n",
      "    R:    1640.50139 +/- 188534.049 (11492.47%) (init = 1500)\n",
      "    L:    0.03722437 +/- 4.27812242 (11492.80%) (init = 0.04741)\n",
      "    C:    1.9367e-09 +/- 2.2258e-07 (11492.80%) (init = 1.46e-09)\n",
      "    V_0:  2.43002675 +/- 0.00180871 (0.07%) (init = 1.5)\n",
      "[[Correlations]] (unreported correlations are < 0.100)\n",
      "    C(L, C)   = -1.000\n",
      "    C(R, C)   = -1.000\n",
      "    C(R, L)   = 1.000\n",
      "    C(R, V_0) = 0.715\n",
      "    C(C, V_0) = -0.715\n",
      "    C(L, V_0) = 0.715\n"
     ]
    },
    {
     "data": {
      "text/plain": "<Figure size 432x288 with 1 Axes>",
      "image/png": "[encoded data removed]"
     },
     "metadata": {
      "needs_background": "light"
     },
     "output_type": "display_data"
    }
   ],
   "source": [
    "print('R\\n')\n",
    "print(resultR.fit_report())\n",
    "print('L\\n')\n",
    "print(resultL.fit_report())\n",
    "print('C\\n')\n",
    "print(resultC.fit_report())\n",
    "plt.plot(x, ampR, 'o')\n",
    "plt.plot(x, resultR.init_fit, '--', label='initial fit R')\n",
    "plt.plot(x, resultR.best_fit, '-', label='best fit R')\n",
    "plt.plot(x, ampL, 'o')\n",
    "plt.plot(x, resultL.init_fit, '--', label='initial fit L')\n",
    "plt.plot(x, resultL.best_fit, '-', label='best fit L')\n",
    "plt.plot(x, ampC, 'o')\n",
    "plt.plot(x, resultC.init_fit, '--', label='initial fit C')\n",
    "plt.plot(x, resultC.best_fit, '-', label='best fit C')\n",
    "plt.legend()\n",
    "\n",
    "plt.savefig('figs/amplitudes.pdf')\n",
    "plt.show()"
   ],
   "metadata": {
    "collapsed": false,
    "pycharm": {
     "name": "#%%\n"
    }
   }
  },
  {
   "cell_type": "markdown",
   "source": [
    "Alternative plotting"
   ],
   "metadata": {
    "collapsed": false
   }
  },
  {
   "cell_type": "code",
   "execution_count": 75,
   "outputs": [
    {
     "data": {
      "text/plain": "<Figure size 432x288 with 1 Axes>",
      "image/png": "[encoded data removed]"
     },
     "metadata": {
      "needs_background": "light"
     },
     "output_type": "display_data"
    }
   ],
   "source": [
    "errore = errorePos\n",
    "standard_frequencies = np.linspace(5000, 35000, 100)\n",
    "\n",
    "plt.errorbar(x, resultR.best_fit,xerr=None,yerr=errore, label='fit V_R')\n",
    "plt.errorbar(x, ampR,\n",
    "             xerr=None, yerr=errore,\n",
    "             linestyle = 'none',\n",
    "             color = 'orange',\n",
    "             capsize = 3, capthick = 1, label = \"V_R data\")\n",
    "plt.errorbar(x, resultL.best_fit,xerr=None,yerr=errore, label='fit V_L')\n",
    "plt.errorbar(x, ampL,\n",
    "             xerr=None, yerr=errore,\n",
    "             linestyle = 'none',\n",
    "             color = 'orange',\n",
    "             capsize = 3, capthick = 1, label = \"V_C data\")\n",
    "plt.errorbar(x, resultC.best_fit,xerr=None,yerr=errore, label='fit V_C')\n",
    "plt.errorbar(x, ampC,\n",
    "             xerr=None, yerr=errore,\n",
    "             linestyle = 'none',\n",
    "             color = 'orange',\n",
    "             capsize = 3, capthick = 1, label = \"V_C data\")\n",
    "plt.legend()\n",
    "\n",
    "plt.savefig('figs/prova.pdf')"
   ],
   "metadata": {
    "collapsed": false,
    "pycharm": {
     "name": "#%%\n"
    }
   }
  }
 ],
 "metadata": {
  "kernelspec": {
   "display_name": "Python 3",
   "language": "python",
   "name": "python3"
  },
  "language_info": {
   "codemirror_mode": {
    "name": "ipython",
    "version": 2
   },
   "file_extension": ".py",
   "mimetype": "text/x-python",
   "name": "python",
   "nbconvert_exporter": "python",
   "pygments_lexer": "ipython2",
   "version": "2.7.6"
  }
 },
 "nbformat": 4,
 "nbformat_minor": 0
}