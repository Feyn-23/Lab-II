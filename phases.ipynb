{
 "cells": [
  {
   "cell_type": "markdown",
   "source": [
    "# Phases\n",
    "\n",
    "Expected phases models(values expressed in radiants):\n",
    "$$ \\phi_R = \\arctan{\\frac{1 - \\omega^2 L C}{R \\omega C}}$$\n",
    "$$ \\phi_R = \\arctan{\\frac{1 - \\omega^2 L C}{R \\omega C}} + \\frac{\\pi}{2}$$\n",
    "$$ \\phi_R = \\arctan{\\frac{1 - \\omega^2 L C}{R \\omega C}} - \\frac{\\pi}{2}$$"
   ],
   "metadata": {
    "collapsed": false
   }
  },
  {
   "cell_type": "code",
   "execution_count": 45,
   "outputs": [],
   "source": [
    "import numpy as np\n",
    "import matplotlib.pyplot as plt\n",
    "from numpy import exp, loadtxt, pi, sqrt\n",
    "\n",
    "from lmfit import Model"
   ],
   "metadata": {
    "collapsed": false,
    "pycharm": {
     "name": "#%%\n"
    }
   }
  },
  {
   "cell_type": "code",
   "execution_count": 46,
   "outputs": [],
   "source": [
    "file_folder = 'data/actual data/Frequency response/'\n",
    "file_name = 'phases1.csv'\n",
    "data_file = file_folder + file_name\n",
    "x,phaseF,phaseR,phaseL,phaseC  = np.loadtxt(data_file, delimiter = ',', skiprows = 1, usecols = (0,1,2,3,4), unpack = True)\n",
    "#x corresponds to the frequency"
   ],
   "metadata": {
    "collapsed": false,
    "pycharm": {
     "name": "#%%\n"
    }
   }
  },
  {
   "cell_type": "code",
   "execution_count": 47,
   "metadata": {
    "collapsed": true
   },
   "outputs": [
    {
     "name": "stdout",
     "output_type": "stream",
     "text": [
      "R\n",
      "\n",
      "[[Model]]\n",
      "    Model(R_phase_model)\n",
      "[[Fit Statistics]]\n",
      "    # fitting method   = leastsq\n",
      "    # function evals   = 20\n",
      "    # data points      = 986\n",
      "    # variables        = 3\n",
      "    chi-square         = 15011.5294\n",
      "    reduced chi-square = 15.2711388\n",
      "    Akaike info crit   = 2690.79662\n",
      "    Bayesian info crit = 2705.47758\n",
      "[[Variables]]\n",
      "    R:  2958.80142 +/- 29221.4556 (987.61%) (init = 1500)\n",
      "    L:  0.03137323 +/- 0.54931941 (1750.92%) (init = 0.04741)\n",
      "    C:  1.0310e-09 +/- 1.8027e-08 (1748.54%) (init = 1.46e-09)\n",
      "[[Correlations]] (unreported correlations are < 0.100)\n",
      "    C(L, C) = -1.000\n",
      "    C(R, C) = -1.000\n",
      "    C(R, L) = 1.000\n",
      "L\n",
      "\n",
      "[[Model]]\n",
      "    Model(L_phase_model)\n",
      "[[Fit Statistics]]\n",
      "    # fitting method   = leastsq\n",
      "    # function evals   = 33\n",
      "    # data points      = 986\n",
      "    # variables        = 3\n",
      "    chi-square         = 31.7621849\n",
      "    reduced chi-square = 0.03231148\n",
      "    Akaike info crit   = -3381.28461\n",
      "    Bayesian info crit = -3366.60364\n",
      "[[Variables]]\n",
      "    R:  2094.85099 +/- 29346.5675 (1400.89%) (init = 1500)\n",
      "    L:  0.03000000 +/- 0.42050405 (1401.68%) (init = 0.04741)\n",
      "    C:  1.9745e-09 +/- 2.7676e-08 (1401.64%) (init = 1.46e-09)\n",
      "[[Correlations]] (unreported correlations are < 0.100)\n",
      "    C(L, C) = -1.000\n",
      "    C(R, L) = 1.000\n",
      "    C(R, C) = -1.000\n",
      "C\n",
      "\n",
      "[[Model]]\n",
      "    Model(C_phase_model)\n",
      "[[Fit Statistics]]\n",
      "    # fitting method   = leastsq\n",
      "    # function evals   = 22\n",
      "    # data points      = 986\n",
      "    # variables        = 3\n",
      "    chi-square         = 26034.6319\n",
      "    reduced chi-square = 26.4848748\n",
      "    Akaike info crit   = 3233.69720\n",
      "    Bayesian info crit = 3248.37817\n",
      "[[Variables]]\n",
      "    R:  1507.12040 +/- 4427392.03 (293764.98%) (init = 1500)\n",
      "    L:  0.03001573 +/- 19.3451951 (64450.19%) (init = 0.04741)\n",
      "    C:  1.0002e-09 +/- 6.4464e-07 (64448.77%) (init = 1.46e-09)\n",
      "[[Correlations]] (unreported correlations are < 0.100)\n",
      "    C(L, C) = -1.000\n",
      "    C(R, C) = -1.000\n",
      "    C(R, L) = 1.000\n"
     ]
    },
    {
     "data": {
      "text/plain": "<Figure size 432x288 with 1 Axes>",
      "image/png": "[encoded data removed]"
     },
     "metadata": {
      "needs_background": "light"
     },
     "output_type": "display_data"
    }
   ],
   "source": [
    "from lmfit import Parameters\n",
    "\n",
    "paramsF = Parameters()\n",
    "paramsR = Parameters()\n",
    "paramsL = Parameters()\n",
    "paramsC = Parameters()\n",
    "\n",
    "paramsF.add('phi_f',6.28, min=0,max=6.3)\n",
    "\n",
    "paramsR.add('R', min=1.5e03, max=3e03)\n",
    "paramsR.add('L', 4.741e-02, min=3.0e-02, max=5.5e-02)\n",
    "paramsR.add('C', 1.46e-09, min=1e-09, max=2e-09)\n",
    "\n",
    "paramsL.add('R', min=1.5e03, max=3e03)\n",
    "paramsL.add('L', 4.741e-02, min=3.0e-02, max=5.5e-02)\n",
    "paramsL.add('C', 1.46e-09, min=1e-09, max=2e-09)\n",
    "\n",
    "paramsC.add('R', min=1.5e03, max=3e03)\n",
    "paramsC.add('L', 4.741e-02, min=3.0e-02, max=5.5e-02)\n",
    "paramsC.add('C', 1.46e-09, min=1e-09, max=2e-09)\n",
    "\n",
    "def F_phase_model(x,phi_F):\n",
    "    return phi_F\n",
    "\n",
    "def R_phase_model(x, R, L, C):\n",
    "    num = 1 - (2 * np.pi * x)**2 * L * C\n",
    "    den = R * (2 * np.pi * x) * C\n",
    "    return np.arctan(num / den)\n",
    "\n",
    "\n",
    "def L_phase_model(x, R, L, C):\n",
    "    num = 1 - (2 * np.pi * x)**2 * L * C\n",
    "    den = R * (2 * np.pi * x) * C\n",
    "    return np.arctan(num / den) + np.pi/2\n",
    "\n",
    "def C_phase_model(x, R, L, C):\n",
    "    num = 1 - (2 * np.pi * x)**2 * L * C\n",
    "    den = R * (2 * np.pi * x) * C\n",
    "    return np.arctan(num / den) - np.pi/2\n",
    "\n",
    "\n",
    "Fmodel = Model(F_phase_model)\n",
    "Rmodel = Model(R_phase_model)\n",
    "Lmodel = Model(L_phase_model)\n",
    "Cmodel = Model(C_phase_model)\n",
    "\n",
    "# resultF = Fmodel.fit(phaseF,x=x,params=paramsF)\n",
    "resultR = Rmodel.fit(phaseR, x=x, params=paramsR)\n",
    "resultL = Lmodel.fit(phaseL, x=x, params=paramsL)\n",
    "resultC = Cmodel.fit(phaseC, x=x, params=paramsC)\n",
    "\n",
    "# print('F\\n')\n",
    "# print(resultF.fit_report())\n",
    "print('R\\n')\n",
    "print(resultR.fit_report())\n",
    "print('L\\n')\n",
    "print(resultL.fit_report())\n",
    "print('C\\n')\n",
    "print(resultC.fit_report())\n",
    "# plt.plot(x, phaseF, 'o')\n",
    "# plt.plot(x, resultF.init_fit, '--', label='initial fit F')\n",
    "# plt.plot(x, resultF.best_fit, '-', label='best fit F')\n",
    "plt.plot(x, phaseR, 'o')\n",
    "plt.plot(x, resultR.init_fit, '--', label='initial fit R')\n",
    "plt.plot(x, resultR.best_fit, '-', label='best fit R')\n",
    "plt.plot(x, phaseL, 'o')\n",
    "plt.plot(x, resultL.init_fit, '--', label='initial fit L')\n",
    "plt.plot(x, resultL.best_fit, '-', label='best fit L')\n",
    "plt.plot(x, phaseC, 'o')\n",
    "plt.plot(x, resultC.init_fit, '--', label='initial fit C')\n",
    "plt.plot(x, resultC.best_fit, '-', label='best fit C')\n",
    "plt.legend()\n",
    "\n",
    "plt.savefig('figs/phases.pdf')\n",
    "plt.show()"
   ]
  }
 ],
 "metadata": {
  "kernelspec": {
   "display_name": "Python 3",
   "language": "python",
   "name": "python3"
  },
  "language_info": {
   "codemirror_mode": {
    "name": "ipython",
    "version": 2
   },
   "file_extension": ".py",
   "mimetype": "text/x-python",
   "name": "python",
   "nbconvert_exporter": "python",
   "pygments_lexer": "ipython2",
   "version": "2.7.6"
  }
 },
 "nbformat": 4,
 "nbformat_minor": 0
}