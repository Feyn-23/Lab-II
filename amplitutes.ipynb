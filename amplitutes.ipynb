{
 "cells": [
  {
   "cell_type": "markdown",
   "metadata": {},
   "source": [
    "# Amplitudes analysis\n",
    "\n",
    "Importing all necessary stuff:"
   ]
  },
  {
   "cell_type": "code",
   "execution_count": 2,
   "outputs": [],
   "source": [
    "import numpy as np\n",
    "from statistics import stdev\n",
    "from matplotlib import pyplot as plt #this is the traditional method"
   ],
   "metadata": {
    "collapsed": false,
    "pycharm": {
     "name": "#%%\n"
    }
   }
  },
  {
   "cell_type": "markdown",
   "source": [
    "We now collect the data from the files:"
   ],
   "metadata": {
    "collapsed": false
   }
  },
  {
   "cell_type": "code",
   "execution_count": 12,
   "metadata": {
    "pycharm": {
     "name": "#%%\n"
    }
   },
   "outputs": [],
   "source": [
    "file_folder = 'data/actual data/Frequency response/'\n",
    "file_name = 'amplitudes1.csv'\n",
    "data_file = file_folder + file_name\n",
    "\n",
    "frequencies, amplitudeGen, amplitudeR, amplitudeL, amplitudeC  = np.loadtxt(data_file, delimiter = ',', skiprows = 1, usecols = (0, 1, 2, 3, 4), unpack = True)\n",
    "\n",
    "# amplitudes values are in mV units\n",
    "amplitudeGen *= 10**(-3)\n",
    "amplitudeR *= 10**(-3)\n",
    "amplitudeL *= 10**(-3)\n",
    "amplitudeC *= 10**(-3)"
   ]
  },
  {
   "cell_type": "markdown",
   "source": [
    "We now define the function we are going to fit the data with: $$ V_R = \\frac{R_rV_0}{\\sqrt{R^2+{ \\left(\\omega L - \\frac{1}{\\omega C}\\right)}^2}}$$\n",
    "$$ V_L = \\frac{\\omega L V_0}{\\sqrt{R^2+{ \\left(\\omega L - \\frac{1}{\\omega C}\\right)}^2}}$$\n",
    "$$ V_C = \\frac{\\frac{V_0}{\\omega C}}{\\sqrt{R^2+{ \\left(\\omega L - \\frac{1}{\\omega C}\\right)}^2}}$$\n",
    "\n",
    " $\\omega = 2 \\pi f$ with $f$ being the sinusoidal generator frequency. We've chosen to estimate the uncertainty associated to the amplitude measures with the sample standard deviation $\\sigma$ since how the DAQ program outputs the amplitude values is not known.\n"
   ],
   "metadata": {
    "collapsed": false
   }
  },
  {
   "cell_type": "code",
   "execution_count": null,
   "metadata": {
    "pycharm": {
     "name": "#%%\n"
    }
   },
   "outputs": [],
   "source": [
    "def R_amp_model(f, R_r , R, L, C, V_0):\n",
    "    num = R_r * V_0\n",
    "    den = np.sqrt( R**2 + (2*np.pi*f * L - 1/(2*np.pi*f * C))**2)\n",
    "    return num / den\n",
    "def L_amp_model(f, R, L, C, V_0):\n",
    "    num = 2*np.pi*f * L * V_0\n",
    "    den = np.sqrt( R**2 + (2*np.pi*f * L - 1/(2*np.pi*f * C))**2)\n",
    "    return num / den\n",
    "def C_amp_model(f, R, L, C, V_0):\n",
    "    num = V_0 / (2*np.pi*f * C)\n",
    "    den = np.sqrt( R**2 + (2*np.pi*f * L - 1/(2*np.pi*f * C))**2)\n",
    "    return num / den"
   ]
  },
  {
   "cell_type": "markdown",
   "source": [
    "We now have to make our initial guess of the fitting parameters"
   ],
   "metadata": {
    "collapsed": false
   }
  },
  {
   "cell_type": "code",
   "execution_count": null,
   "metadata": {
    "pycharm": {
     "name": "#%%\n"
    }
   },
   "outputs": [],
   "source": [
    "#initial guesses(theoretical values)\n",
    "R_r = 996.7\n",
    "R = 1.17252e+03\n",
    "L = 4.741e-02\n",
    "C = 1.46e-09\n",
    "V_0 = 0.5\n",
    "initial_guess_R = np.array([R_r , R, L, C, V_0])\n",
    "initial_guess_L = np.array([R, L, C, V_0])\n",
    "initial_guess_C = np.array([R, L, C, V_0])\n",
    "# initial_error = np.array([delta_V0, delta_theta, delta_V1])\n",
    "old_fit_R = np.copy(initial_guess_R)  # save a copy to compare new with old\n",
    "old_fit_L = np.copy(initial_guess_L)  # save a copy to compare new with old\n",
    "old_fit_C = np.copy(initial_guess_C)  # save a copy to compare new with old\n",
    "\n",
    "# estimated_error = photodiode_error(theta, delta_V0, delta_theta, delta_V1,\n",
    "#                                    V0, theta0)    #propagate uncertainty using initial values"
   ]
  },
  {
   "cell_type": "markdown",
   "source": [
    "We now compute $\\sigma$"
   ],
   "metadata": {
    "collapsed": false
   }
  },
  {
   "cell_type": "code",
   "execution_count": null,
   "outputs": [],
   "source": [
    "from statistics import stdev\n",
    "\n",
    "amplitude_stdev = stdev(amplitudeGen)\n",
    "\n",
    "\n",
    "amplitude_stdev"
   ],
   "metadata": {
    "collapsed": false,
    "pycharm": {
     "name": "#%%\n"
    }
   }
  },
  {
   "cell_type": "markdown",
   "source": [
    "### Curve fit routine\n",
    "We are now going to use curve_fit function from scipy"
   ],
   "metadata": {
    "collapsed": false
   }
  },
  {
   "cell_type": "code",
   "execution_count": null,
   "metadata": {
    "pycharm": {
     "name": "#%%\n"
    }
   },
   "outputs": [],
   "source": [
    "# load curve_fit routine from scipy\n",
    "from scipy.optimize import curve_fit # import method used here\n",
    "\n",
    "# the method returns two arrays: one with the resulting fit parameters and then the covariance matrix\n",
    "fit_R, covariance_R = curve_fit(R_amp_model, frequencies_gen, amplitude_R, p0 = initial_guess_R,sigma=amplitude_stdev,absolute_sigma=True)\n",
    "fit_L, covariance_L = curve_fit(L_amp_model, frequencies_gen, amplitude_L, p0 = initial_guess_L,sigma=amplitude_stdev,absolute_sigma=True)\n",
    "fit_C, covariance_C = curve_fit(C_amp_model, frequencies_gen, amplitude_C, p0 = initial_guess_C,sigma=amplitude_stdev,absolute_sigma=True)\n",
    "\n",
    "#the elements on the the diagonal represent the errors on the fit parameters\n",
    "error_R = np.sqrt(np.diag(covariance_R))\n",
    "error_L = np.sqrt(np.diag(covariance_L))\n",
    "error_C = np.sqrt(np.diag(covariance_C))\n",
    "\n",
    "print('R\\n')\n",
    "print(old_fit_R)\n",
    "print(fit_R)\n",
    "print('L\\n')\n",
    "print(old_fit_L)\n",
    "print(fit_L)\n",
    "print('C\\n')\n",
    "print(old_fit_C)\n",
    "print(fit_C)\n",
    "\n",
    "#setting the current fit results as old\n",
    "old_fit_R = np.copy(fit_R)\n",
    "old_fit_L = np.copy(fit_L)\n",
    "old_fit_C = np.copy(fit_C)"
   ]
  },
  {
   "cell_type": "markdown",
   "source": [
    "Now printing out the first fit results"
   ],
   "metadata": {
    "collapsed": false
   }
  },
  {
   "cell_type": "code",
   "execution_count": null,
   "outputs": [],
   "source": [
    "print()\n",
    "print('R_r    = ','{:.3f}'.format(fit_R[0]), '±', '{:.5f}'.format(error_R[0]), ' $\\Omega$')\n",
    "print('R    = ','{:.3f}'.format(fit_R[1]), '±', '{:.6f}'.format(error_R[1]), ' $\\Omega$')\n",
    "print('L    = ','{:.5f}'.format(fit_R[2]), '±', '{:.3f}'.format(error_R[2]), ' Henry')\n",
    "print('C    = ','{:.12f}'.format(fit_R[3]), '±', '{:.12f}'.format(error_R[3]), ' F')\n",
    "print('V_0    = ','{:.3f}'.format(fit_R[4]), '±', '{:.3f}'.format(error_R[4]), ' V')\n",
    "\n",
    "print()\n",
    "print('R    = ','{:.3f}'.format(fit_L[0]), '±', '{:.3f}'.format(error_L[0]), ' $\\Omega$')\n",
    "print('L    = ','{:.5f}'.format(fit_L[1]), '±', '{:.3f}'.format(error_L[1]), ' Henry')\n",
    "print('C    = ','{:.12f}'.format(fit_L[2]), '±', '{:.12f}'.format(error_L[2]), ' F')\n",
    "print('V_0    = ','{:.3f}'.format(fit_L[3]), '±', '{:.3f}'.format(error_L[3]), ' V')\n",
    "\n",
    "print()\n",
    "print('R    = ','{:.3f}'.format(fit_C[0]), '±', '{:.3f}'.format(error_C[0]), ' $\\Omega$')\n",
    "print('L    = ','{:.5f}'.format(fit_C[1]), '±', '{:.3f}'.format(error_C[1]), ' Henry')\n",
    "print('C    = ','{:.12f}'.format(fit_C[2]), '±', '{:.12f}'.format(error_C[2]), ' F')\n",
    "print('V_0    = ','{:.3f}'.format(fit_C[3]), '±', '{:.3f}'.format(error_C[3]), ' V')"
   ],
   "metadata": {
    "collapsed": false,
    "pycharm": {
     "name": "#%%\n"
    }
   }
  },
  {
   "cell_type": "markdown",
   "source": [
    "We now iterate the process to find new fitting parameters until the values(amplitudes) become stable"
   ],
   "metadata": {
    "collapsed": false
   }
  },
  {
   "cell_type": "code",
   "execution_count": null,
   "metadata": {
    "pycharm": {
     "name": "#%%\n"
    }
   },
   "outputs": [],
   "source": [
    "new_initial_values_R = np.array([fit_R[0], fit_R[1], fit_R[2],fit_R[3],fit_R[4]])\n",
    "new_initial_values_L = np.array([fit_L[0], fit_L[1], fit_L[2],fit_L[3]])\n",
    "new_initial_values_C = np.array([fit_C[0], fit_C[1], fit_C[2],fit_C[3]])\n",
    "\n",
    "# estimated_error = photodiode_error(theta, delta_V0, delta_theta, delta_V1,\n",
    "#                                    fit_R[0], fit_R[1]) # propagate error using new values for V0, etc\n",
    "\n",
    "fit_R, covariance_R = curve_fit(R_amp_model, frequencies_gen, amplitude_R, p0 = new_initial_values_R,sigma=amplitude_stdev,absolute_sigma=True)\n",
    "fit_L, covariance_L = curve_fit(L_amp_model, frequencies_gen, amplitude_R, p0 = new_initial_values_L,sigma=amplitude_stdev,absolute_sigma=True)\n",
    "fit_C, covariance_C = curve_fit(C_amp_model, frequencies_gen, amplitude_R, p0 = new_initial_values_C,sigma=amplitude_stdev,absolute_sigma=True)\n",
    "\n",
    "error_R = np.sqrt(np.diag(covariance_R))\n",
    "error_L = np.sqrt(np.diag(covariance_L))\n",
    "error_C = np.sqrt(np.diag(covariance_C))\n",
    "\n",
    "print('R\\n')\n",
    "print(old_fit_R)\n",
    "print(fit_R)\n",
    "print('L\\n')\n",
    "print(old_fit_L)\n",
    "print(fit_L)\n",
    "print('C\\n')\n",
    "print(old_fit_C)\n",
    "print(fit_C)\n",
    "\n",
    "old_fit_R = np.copy(fit_R)\n",
    "old_fit_L = np.copy(fit_L)\n",
    "old_fit_C = np.copy(fit_C)\n"
   ]
  },
  {
   "cell_type": "markdown",
   "source": [
    "### Fit accuracy\n",
    "Ok now that we've found the best-fit parameters we are interested in the"
   ],
   "metadata": {
    "collapsed": false
   }
  },
  {
   "cell_type": "code",
   "execution_count": null,
   "outputs": [],
   "source": [
    "\n",
    "from scipy.stats import chi2\n",
    "\n",
    "V_R_model = R_amp_model(frequencies_gen, fit_R[0], fit_R[1], fit_R[2], fit_R[3],fit_R[4])\n",
    "residual_R = amplitude_R - V_R_model\n",
    "V_L_model = L_amp_model(frequencies_gen, fit_L[0], fit_L[1], fit_L[2], fit_L[3])\n",
    "residual_L = amplitude_L - V_L_model\n",
    "V_C_model = C_amp_model(frequencies_gen, fit_C[0], fit_C[1], fit_C[2], fit_C[3])\n",
    "residual_C = amplitude_C - V_C_model\n",
    "\n",
    "# data_uncertainty = photodiode_error(theta, delta_V0, delta_theta, delta_V1, fit_R[0], fit_R[1])\n",
    "\n",
    "# in our case the uncertainty is estimated to be sigma\n",
    "data_uncertainty = amplitude_stdev\n",
    "\n",
    "chisq_R = sum((residual_R/ data_uncertainty)**2) #typo corrected\n",
    "degrees_of_freedom_R = len(residual_R) - len(initial_guess_R)\n",
    "reduced_chisq_R = chisq_R / degrees_of_freedom_R  # this should be close to one\n",
    "CDF_R = chi2.cdf(chisq_R, degrees_of_freedom_R)   # this should be close to 50 percent\n",
    "\n",
    "chisq_L = sum((residual_L/ data_uncertainty)**2) #typo corrected\n",
    "degrees_of_freedom_L = len(residual_L) - len(initial_guess_L)\n",
    "reduced_chisq_L = chisq_L / degrees_of_freedom_L  # this should be close to one\n",
    "CDF_L = chi2.cdf(chisq_L, degrees_of_freedom_L)   # this should be close to 50 percent\n",
    "\n",
    "chisq_C = sum((residual_C/ data_uncertainty)**2) #typo corrected\n",
    "degrees_of_freedom_C = len(residual_C) - len(initial_guess_C)\n",
    "reduced_chisq_C = chisq_C / degrees_of_freedom_C  # this should be close to one\n",
    "CDF_C = chi2.cdf(chisq_C, degrees_of_freedom_C)   # this should be close to 50 percent\n",
    "\n",
    "print('chi-square         = ',chisq_R)\n",
    "print('degrees of freedom = ',degrees_of_freedom_R)\n",
    "print('reduced chi-square = ',reduced_chisq_R)\n",
    "print('fractional probability of chisq ≤', chisq_R, 'for ', degrees_of_freedom_R, 'dof is', CDF_R)\n",
    "\n",
    "print('chi-square         = ',chisq_L)\n",
    "print('degrees of freedom = ',degrees_of_freedom_L)\n",
    "print('reduced chi-square = ',reduced_chisq_L)\n",
    "print('fractional probability of chisq ≤', chisq_L, 'for ', degrees_of_freedom_L, 'dof is', CDF_L)\n",
    "\n",
    "print('chi-square         = ',chisq_C)\n",
    "print('degrees of freedom = ',degrees_of_freedom_C)\n",
    "print('reduced chi-square = ',reduced_chisq_C)\n",
    "print('fractional probability of chisq ≤', chisq_C, 'for ', degrees_of_freedom_C, 'dof is', CDF_C)"
   ],
   "metadata": {
    "collapsed": false,
    "pycharm": {
     "name": "#%%\n"
    }
   }
  },
  {
   "cell_type": "markdown",
   "source": [
    "Now importing [matplotlib](https://matplotlib.org) used for graphical output"
   ],
   "metadata": {
    "collapsed": false
   }
  },
  {
   "cell_type": "code",
   "execution_count": null,
   "metadata": {
    "pycharm": {
     "name": "#%%\n"
    }
   },
   "outputs": [],
   "source": [
    "%matplotlib inline\n",
    "\n",
    "plt.figure(figsize = (11,8))                  #specify figure size as 7 x 5 inches\n",
    "#for default size, type plt.figure()\n",
    "\n",
    "plt.xlabel(r\"$f$ [Hz]\", fontsize = 18) #label axis (using LaTeX commands)\n",
    "plt.ylabel(r\"$V_R$ [volts]\", fontsize = 18)   #use 18 point font for label text\n",
    "\n",
    "# plot the data as before in blue\n",
    "plt.errorbar(frequencies_gen, amplitude_R,\n",
    "             xerr=None, yerr=amplitude_stdev,\n",
    "             linestyle = 'none',\n",
    "             color = 'blue',\n",
    "             capsize = 3, capthick = 1, label = \"data\")\n",
    "\n",
    "#create curve showing fit to data\n",
    "freq_fit = np.linspace(5000, 35000, 50)\n",
    "VR_fit = R_amp_model(freq_fit, fit_R[0], fit_R[1], fit_R[2],fit_R[3],fit_R[4])\n",
    "\n",
    "#plot the curve fit in red\n",
    "plt.errorbar(freq_fit, VR_fit, xerr = None, yerr = amplitude_stdev, color = 'red', label = 'fit' )\n",
    "plt.xlim(4900 , 36000)\n",
    "plt.ylim(0.0,0.25)\n",
    "# plt.xticks([0, 30, 60, 90, 120, 150, 180, 210, 240, 270, 300, 330, 360],\n",
    "#            ('0', '', '', 90,  '',  '', 180,  '',  '', 270,  '',  '', 360))\n",
    "plt.legend(loc = 'best')\n",
    "\n",
    "plt.savefig('Resistor-amplitude.pdf')\n",
    "plt.show()\n"
   ]
  },
  {
   "cell_type": "markdown",
   "metadata": {
    "pycharm": {
     "name": "#%% md\n"
    }
   },
   "source": []
  }
 ],
 "metadata": {
  "kernelspec": {
   "display_name": "Python 3 (ipykernel)",
   "language": "python",
   "name": "python3"
  },
  "language_info": {
   "codemirror_mode": {
    "name": "ipython",
    "version": 3
   },
   "file_extension": ".py",
   "mimetype": "text/x-python",
   "name": "python",
   "nbconvert_exporter": "python",
   "pygments_lexer": "ipython3",
   "version": "3.9.10"
  }
 },
 "nbformat": 4,
 "nbformat_minor": 1
}