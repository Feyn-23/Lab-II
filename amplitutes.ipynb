{
 "cells": [
  {
   "cell_type": "markdown",
   "metadata": {},
   "source": [
    "# Amplitudes fitting\n",
    "\n",
    "Importing all necessary stuff:"
   ]
  },
  {
   "cell_type": "code",
   "execution_count": 21,
   "outputs": [],
   "source": [
    "import numpy as np\n",
    "from statistics import stdev\n",
    "from matplotlib import pyplot as plt #this is the traditional method"
   ],
   "metadata": {
    "collapsed": false,
    "pycharm": {
     "name": "#%%\n"
    }
   }
  },
  {
   "cell_type": "markdown",
   "source": [
    "Getting data from files:"
   ],
   "metadata": {
    "collapsed": false
   }
  },
  {
   "cell_type": "code",
   "execution_count": null,
   "metadata": {
    "pycharm": {
     "name": "#%%\n",
     "is_executing": true
    }
   },
   "outputs": [],
   "source": [
    "file_name = 'amplitudes.csv'\n",
    "file_folder = 'data/sample data/'\n",
    "data_file = file_folder + file_name\n",
    "\n",
    "frequencies_gen, amplitude_F, amplitude_R, amplitude_L, amplitude_C  = np.loadtxt(data_file, delimiter = ',', skiprows = 1, usecols = (0, 1, 2, 3, 4), unpack = True)"
   ]
  },
  {
   "cell_type": "markdown",
   "source": [
    "We now define the function we are going to fit the data with: $$ V_R = \\frac{R_rV_0}{\\sqrt{R^2+{ \\left(\\omega L - \\frac{1}{\\omega C}\\right)}^2}}$$\n",
    "$$ V_L = \\frac{\\omega L V_0}{\\sqrt{R^2+{ \\left(\\omega L - \\frac{1}{\\omega C}\\right)}^2}}$$\n",
    "$$ V_C = \\frac{\\frac{V_0}{\\omega C}}{\\sqrt{R^2+{ \\left(\\omega L - \\frac{1}{\\omega C}\\right)}^2}}$$\n",
    "\n",
    " $\\omega = 2 \\pi f$ with $f$ being the sinusoidal generator frequency. We've chosen to estimate the uncertainty associated to the amplitude measures with the sample standard deviation $\\sigma$ since how the DAQ program outputs the amplitude values is not known.\n"
   ],
   "metadata": {
    "collapsed": false
   }
  },
  {
   "cell_type": "code",
   "execution_count": 23,
   "metadata": {
    "pycharm": {
     "name": "#%%\n"
    }
   },
   "outputs": [],
   "source": [
    "def resistance_amp_model(f, R_r , R, L, C, V_0):\n",
    "    num = R_r * V_0\n",
    "    den = np.sqrt( R**2 + (2*np.pi*f * L - 1/(2*np.pi*f * C))**2)\n",
    "    return num / den"
   ]
  },
  {
   "cell_type": "markdown",
   "source": [
    "We now have to make our initial guess of the fitting parameters"
   ],
   "metadata": {
    "collapsed": false
   }
  },
  {
   "cell_type": "code",
   "execution_count": 24,
   "metadata": {
    "pycharm": {
     "name": "#%%\n"
    }
   },
   "outputs": [],
   "source": [
    "#initial guesses\n",
    "R_r = 997.8\n",
    "R = 1174.2\n",
    "L = 0.0472\n",
    "C = 1.47e-9\n",
    "V_0 = 0.5\n",
    "\n",
    "initial_guess = np.array([R_r , R, L, C, V_0])\n",
    "# initial_error = np.array([delta_V0, delta_theta, delta_V1])\n",
    "old_fit = np.copy(initial_guess)  # save a copy to compare new with old\n",
    "\n",
    "# estimated_error = photodiode_error(theta, delta_V0, delta_theta, delta_V1,\n",
    "#                                    V0, theta0)    #propagate uncertainty using initial values"
   ]
  },
  {
   "cell_type": "markdown",
   "source": [],
   "metadata": {
    "collapsed": false
   }
  },
  {
   "cell_type": "code",
   "execution_count": 25,
   "outputs": [
    {
     "data": {
      "text/plain": "0.06048302751076127"
     },
     "execution_count": 25,
     "metadata": {},
     "output_type": "execute_result"
    }
   ],
   "source": [
    "from statistics import stdev\n",
    "\n",
    "amplitude_stdev = stdev(amp_R)\n",
    "amplitude_stdev"
   ],
   "metadata": {
    "collapsed": false,
    "pycharm": {
     "name": "#%%\n"
    }
   }
  },
  {
   "cell_type": "markdown",
   "source": [
    "### Curve fit routine\n",
    "We are now going to use curve_fit function from scipy"
   ],
   "metadata": {
    "collapsed": false
   }
  },
  {
   "cell_type": "code",
   "execution_count": 26,
   "metadata": {
    "pycharm": {
     "name": "#%%\n"
    }
   },
   "outputs": [
    {
     "name": "stdout",
     "output_type": "stream",
     "text": [
      "[9.9780e+02 1.1742e+03 4.7200e-02 1.4700e-09 5.0000e-01]\n",
      "[1.02841368e+03 2.32679165e+03 4.98005586e-02 1.35262930e-09\n",
      " 5.13869591e-01]\n",
      "\n",
      "R_r    =  1028.414 ± nan  $\\Omega$\n",
      "R    =  2326.792 ± nan  $\\Omega$\n",
      "L    =  0.04980 ± nan  Henry\n",
      "C    =  0.000000001353 ± nan  F\n",
      "V_0    =  0.514 ± nan  V\n"
     ]
    },
    {
     "name": "stderr",
     "output_type": "stream",
     "text": [
      "/var/folders/wx/z_3n9gy53dzd_bsxjtdg_t4h0000gn/T/ipykernel_3820/2452547715.py:9: RuntimeWarning: invalid value encountered in sqrt\n",
      "  error = np.sqrt(np.diag(covariance))\n"
     ]
    }
   ],
   "source": [
    "# load curve_fit routine from scipy\n",
    "from scipy.optimize import curve_fit # import method used here\n",
    "\n",
    "# the method returns two arrays: one with the resulting fit parameters and then the covariance matrix\n",
    "fit, covariance = curve_fit(resistance_amp_model, f_gen, amp_R,\n",
    "                            p0 = initial_guess)\n",
    "                            # sigma = estimated_error, absolute_sigma = True)\n",
    "\n",
    "error = np.sqrt(np.diag(covariance))\n",
    "\n",
    "print(old_fit)\n",
    "print(fit)\n",
    "\n",
    "old_fit = np.copy(fit)\n",
    "\n",
    "print()\n",
    "print('R_r    = ','{:.3f}'.format(fit[0]), '±', '{:.3f}'.format(error[0]), ' $\\Omega$')\n",
    "print('R    = ','{:.3f}'.format(fit[1]), '±', '{:.3f}'.format(error[1]), ' $\\Omega$')\n",
    "print('L    = ','{:.5f}'.format(fit[2]), '±', '{:.3f}'.format(error[2]), ' Henry')\n",
    "print('C    = ','{:.12f}'.format(fit[3]), '±', '{:.12f}'.format(error[3]), ' F')\n",
    "print('V_0    = ','{:.3f}'.format(fit[4]), '±', '{:.3f}'.format(error[4]), ' V')\n"
   ]
  },
  {
   "cell_type": "code",
   "execution_count": 27,
   "metadata": {
    "pycharm": {
     "name": "#%%\n"
    }
   },
   "outputs": [
    {
     "name": "stdout",
     "output_type": "stream",
     "text": [
      "[1.02841368e+03 2.32679165e+03 4.98005586e-02 1.35262930e-09\n",
      " 5.13869591e-01]\n",
      "[1.02841368e+03 2.32679165e+03 4.98005586e-02 1.35262930e-09\n",
      " 5.13869591e-01]\n"
     ]
    }
   ],
   "source": [
    "new_initial_values = np.array([fit[0], fit[1], fit[2],fit[3],fit[4]])\n",
    "\n",
    "# estimated_error = photodiode_error(theta, delta_V0, delta_theta, delta_V1,\n",
    "#                                    fit[0], fit[1]) # propagate error using new values for V0, etc\n",
    "\n",
    "fit, covariance = curve_fit(resistance_amp_model, f_gen, amp_R,\n",
    "                            p0 = initial_guess)\n",
    "# sigma = estimated_error, absolute_sigma = True)\n",
    "\n",
    "# error = np.sqrt(np.diag(covariance))\n",
    "\n",
    "print(old_fit)\n",
    "print(fit)\n",
    "\n",
    "old_fit = np.copy(fit)\n",
    "\n",
    "V_Rmodel = resistance_amp_model(f_gen, fit[0], fit[1], fit[2], fit[3],fit[4])\n",
    "residual = amp_R - V_Rmodel\n",
    "\n",
    "# data_uncertainty = photodiode_error(theta, delta_V0, delta_theta, delta_V1, fit[0], fit[1])\n",
    "#\n",
    "# chisq = sum((residual/ data_uncertainty)**2) #typo corrected\n",
    "# degrees_of_freedom = len(residual) - len(initial_guess)\n",
    "# reduced_chisq = chisq / degrees_of_freedom  # this should be close to one\n",
    "# CDF = chi2.cdf(chisq, degrees_of_freedom)   # this should be close to 50 percent\n",
    "#\n",
    "# print('chi-square         = ',chisq)\n",
    "# print('degrees of freedom = ',degrees_of_freedom)\n",
    "# print('reduced chi-square = ',reduced_chisq)\n",
    "# print('fractional probability of chisq ≤', chisq, 'for ', degrees_of_freedom, 'dof is', CDF)"
   ]
  },
  {
   "cell_type": "markdown",
   "source": [
    "Now importing [matplotlib](https://matplotlib.org) used for graphical output"
   ],
   "metadata": {
    "collapsed": false
   }
  },
  {
   "cell_type": "code",
   "execution_count": 28,
   "metadata": {
    "pycharm": {
     "name": "#%%\n"
    }
   },
   "outputs": [
    {
     "data": {
      "text/plain": "<Figure size 792x576 with 1 Axes>",
      "image/png": "[encoded data removed]"
     },
     "metadata": {
      "needs_background": "light"
     },
     "output_type": "display_data"
    }
   ],
   "source": [
    "%matplotlib inline\n",
    "\n",
    "plt.figure(figsize = (11,8))                  #specify figure size as 7 x 5 inches\n",
    "#for default size, type plt.figure() \n",
    "\n",
    "plt.xlabel(r\"$f$ [Hz]\", fontsize = 18) #label axis (using LaTeX commands)\n",
    "plt.ylabel(r\"$V_R$ [volts]\", fontsize = 18)   #use 18 point font for label text\n",
    "\n",
    "# plot the data as before in blue\n",
    "plt.errorbar(f_gen, amp_R,\n",
    "             xerr=None, yerr=None,\n",
    "             linestyle = 'none',\n",
    "             color = 'blue',\n",
    "             capsize = 3, capthick = 1, label = \"data\")\n",
    "\n",
    "#create curve showing fit to data \n",
    "freq_fit = np.linspace(5000, 35000, 50)\n",
    "VR_fit = resistance_amp_model(freq_fit, fit[0], fit[1], fit[2],fit[3],fit[4])\n",
    "\n",
    "#plot the curve fit in red\n",
    "plt.errorbar(freq_fit, VR_fit, xerr = None, yerr = None, color = 'red', label = 'fit' )\n",
    "plt.xlim(4900 , 36000)\n",
    "plt.ylim(0.0,0.25)\n",
    "# plt.xticks([0, 30, 60, 90, 120, 150, 180, 210, 240, 270, 300, 330, 360],\n",
    "#            ('0', '', '', 90,  '',  '', 180,  '',  '', 270,  '',  '', 360))\n",
    "plt.legend(loc = 'best')\n",
    "\n",
    "plt.savefig('Resistor-amplitude.pdf')\n",
    "plt.show()\n"
   ]
  },
  {
   "cell_type": "markdown",
   "metadata": {},
   "source": [
    "## Goodness of fit\n",
    "\n",
    "Now we are going to calculate the chi-square of the fit."
   ]
  },
  {
   "cell_type": "code",
   "execution_count": 29,
   "metadata": {
    "pycharm": {
     "name": "#%%\n"
    }
   },
   "outputs": [],
   "source": [
    "V_Rmodel = resistance_amp_model(f_gen, fit[0], fit[1], fit[2], fit[3],fit[4])\n",
    "residual = amp_R - V_Rmodel"
   ]
  },
  {
   "cell_type": "code",
   "execution_count": 29,
   "metadata": {
    "pycharm": {
     "name": "#%%\n"
    }
   },
   "outputs": [],
   "source": []
  }
 ],
 "metadata": {
  "kernelspec": {
   "display_name": "Python 3 (ipykernel)",
   "language": "python",
   "name": "python3"
  },
  "language_info": {
   "codemirror_mode": {
    "name": "ipython",
    "version": 3
   },
   "file_extension": ".py",
   "mimetype": "text/x-python",
   "name": "python",
   "nbconvert_exporter": "python",
   "pygments_lexer": "ipython3",
   "version": "3.9.10"
  }
 },
 "nbformat": 4,
 "nbformat_minor": 1
}