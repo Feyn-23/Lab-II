{
 "cells": [
  {
   "cell_type": "markdown",
   "metadata": {},
   "source": [
    "# Amplitudes fitting\n",
    "\n",
    "Importing all necessary stuff:"
   ]
  },
  {
   "cell_type": "code",
   "execution_count": 116,
   "outputs": [],
   "source": [
    "import numpy as np\n",
    "from statistics import stdev\n",
    "from matplotlib import pyplot as plt #this is the traditional method"
   ],
   "metadata": {
    "collapsed": false,
    "pycharm": {
     "name": "#%%\n"
    }
   }
  },
  {
   "cell_type": "markdown",
   "source": [
    "We now collect the data from the files:"
   ],
   "metadata": {
    "collapsed": false
   }
  },
  {
   "cell_type": "code",
   "execution_count": 117,
   "metadata": {
    "pycharm": {
     "name": "#%%\n"
    }
   },
   "outputs": [],
   "source": [
    "file_name = 'amplitudes.csv'\n",
    "file_folder = 'data/sample data/'\n",
    "data_file = file_folder + file_name\n",
    "\n",
    "frequencies_gen, amplitude_F, amplitude_R, amplitude_L, amplitude_C  = np.loadtxt(data_file, delimiter = ',', skiprows = 1, usecols = (0, 1, 2, 3, 4), unpack = True)\n"
   ]
  },
  {
   "cell_type": "markdown",
   "source": [
    "We now define the function we are going to fit the data with: $$ V_R = \\frac{R_rV_0}{\\sqrt{R^2+{ \\left(\\omega L - \\frac{1}{\\omega C}\\right)}^2}}$$\n",
    "$$ V_L = \\frac{\\omega L V_0}{\\sqrt{R^2+{ \\left(\\omega L - \\frac{1}{\\omega C}\\right)}^2}}$$\n",
    "$$ V_C = \\frac{\\frac{V_0}{\\omega C}}{\\sqrt{R^2+{ \\left(\\omega L - \\frac{1}{\\omega C}\\right)}^2}}$$\n",
    "\n",
    " $\\omega = 2 \\pi f$ with $f$ being the sinusoidal generator frequency. We've chosen to estimate the uncertainty associated to the amplitude measures with the sample standard deviation $\\sigma$ since how the DAQ program outputs the amplitude values is not known.\n"
   ],
   "metadata": {
    "collapsed": false
   }
  },
  {
   "cell_type": "code",
   "execution_count": 118,
   "metadata": {
    "pycharm": {
     "name": "#%%\n"
    }
   },
   "outputs": [],
   "source": [
    "def R_amp_model(f, R_r , R, L, C, V_0):\n",
    "    num = R_r * V_0\n",
    "    den = np.sqrt( R**2 + (2*np.pi*f * L - 1/(2*np.pi*f * C))**2)\n",
    "    return num / den\n",
    "def L_amp_model(f, R, L, C, V_0):\n",
    "    num = 2*np.pi*f * L * V_0\n",
    "    den = np.sqrt( R**2 + (2*np.pi*f * L - 1/(2*np.pi*f * C))**2)\n",
    "    return num / den\n",
    "def C_amp_model(f, R, L, C, V_0):\n",
    "    num = V_0 / (2*np.pi*f * C)\n",
    "    den = np.sqrt( R**2 + (2*np.pi*f * L - 1/(2*np.pi*f * C))**2)\n",
    "    return num / den"
   ]
  },
  {
   "cell_type": "markdown",
   "source": [
    "We now have to make our initial guess of the fitting parameters"
   ],
   "metadata": {
    "collapsed": false
   }
  },
  {
   "cell_type": "code",
   "execution_count": 119,
   "metadata": {
    "pycharm": {
     "name": "#%%\n"
    }
   },
   "outputs": [],
   "source": [
    "#initial guesses\n",
    "R_r = 997.8\n",
    "R = 1174.2\n",
    "L = 0.0472\n",
    "C = 1.47e-9\n",
    "V_0 = 0.5\n",
    "initial_guess_R = np.array([R_r , R, L, C, V_0])\n",
    "initial_guess_L = np.array([R, L, C, V_0])\n",
    "initial_guess_C = np.array([R, L, C, V_0])\n",
    "# initial_error = np.array([delta_V0, delta_theta, delta_V1])\n",
    "old_fit_R = np.copy(initial_guess_R)  # save a copy to compare new with old\n",
    "old_fit_L = np.copy(initial_guess_L)  # save a copy to compare new with old\n",
    "old_fit_C = np.copy(initial_guess_C)  # save a copy to compare new with old\n",
    "\n",
    "# estimated_error = photodiode_error(theta, delta_V0, delta_theta, delta_V1,\n",
    "#                                    V0, theta0)    #propagate uncertainty using initial values"
   ]
  },
  {
   "cell_type": "markdown",
   "source": [
    "We now compute $\\sigma$"
   ],
   "metadata": {
    "collapsed": false
   }
  },
  {
   "cell_type": "code",
   "execution_count": null,
   "outputs": [],
   "source": [
    "from statistics import stdev\n",
    "\n",
    "amplitude_stdev = stdev(amplitude_F,)\n",
    "\n",
    "amplitude_stdev = np.loadtxt(data_file, delimiter = ',', skiprows = 1, usecols = (10), unpack = True)\n",
    "\n",
    "amplitude_stdev"
   ],
   "metadata": {
    "collapsed": false,
    "pycharm": {
     "name": "#%%\n",
     "is_executing": true
    }
   }
  },
  {
   "cell_type": "markdown",
   "source": [
    "### Curve fit routine\n",
    "We are now going to use curve_fit function from scipy"
   ],
   "metadata": {
    "collapsed": false
   }
  },
  {
   "cell_type": "code",
   "execution_count": 121,
   "metadata": {
    "pycharm": {
     "name": "#%%\n"
    }
   },
   "outputs": [
    {
     "name": "stdout",
     "output_type": "stream",
     "text": [
      "R\n",
      "\n",
      "[9.9780e+02 1.1742e+03 4.7200e-02 1.4700e-09 5.0000e-01]\n",
      "[1.03336832e+03 2.32971776e+03 4.98631951e-02 1.35093044e-09\n",
      " 5.12048913e-01]\n",
      "L\n",
      "\n",
      "[1.1742e+03 4.7200e-02 1.4700e-09 5.0000e-01]\n",
      "[3.20317793e+03 6.39187334e-02 1.02278317e-09 4.92011405e-01]\n",
      "C\n",
      "\n",
      "[1.1742e+03 4.7200e-02 1.4700e-09 5.0000e-01]\n",
      "[3.02847690e+03 6.04069934e-02 1.08733507e-09 4.89509088e-01]\n"
     ]
    },
    {
     "name": "stderr",
     "output_type": "stream",
     "text": [
      "/var/folders/wx/z_3n9gy53dzd_bsxjtdg_t4h0000gn/T/ipykernel_3820/2031914072.py:10: RuntimeWarning: invalid value encountered in sqrt\n",
      "  error_R = np.sqrt(np.diag(covariance_R))\n"
     ]
    }
   ],
   "source": [
    "# load curve_fit routine from scipy\n",
    "from scipy.optimize import curve_fit # import method used here\n",
    "\n",
    "# the method returns two arrays: one with the resulting fit parameters and then the covariance matrix\n",
    "fit_R, covariance_R = curve_fit(R_amp_model, frequencies_gen, amplitude_R, p0 = initial_guess_R,sigma=amplitude_stdev,absolute_sigma=True)\n",
    "fit_L, covariance_L = curve_fit(L_amp_model, frequencies_gen, amplitude_L, p0 = initial_guess_L,sigma=amplitude_stdev,absolute_sigma=True)\n",
    "fit_C, covariance_C = curve_fit(C_amp_model, frequencies_gen, amplitude_C, p0 = initial_guess_C,sigma=amplitude_stdev,absolute_sigma=True)\n",
    "\n",
    "#the elements on the the diagonal represent the errors on the fit parameters\n",
    "error_R = np.sqrt(np.diag(covariance_R))\n",
    "error_L = np.sqrt(np.diag(covariance_L))\n",
    "error_C = np.sqrt(np.diag(covariance_C))\n",
    "\n",
    "print('R\\n')\n",
    "print(old_fit_R)\n",
    "print(fit_R)\n",
    "print('L\\n')\n",
    "print(old_fit_L)\n",
    "print(fit_L)\n",
    "print('C\\n')\n",
    "print(old_fit_C)\n",
    "print(fit_C)\n",
    "\n",
    "#setting the current fit results as old\n",
    "old_fit_R = np.copy(fit_R)\n",
    "old_fit_L = np.copy(fit_L)\n",
    "old_fit_C = np.copy(fit_C)"
   ]
  },
  {
   "cell_type": "markdown",
   "source": [
    "Now printing out the first fit results"
   ],
   "metadata": {
    "collapsed": false
   }
  },
  {
   "cell_type": "code",
   "execution_count": 126,
   "outputs": [
    {
     "name": "stdout",
     "output_type": "stream",
     "text": [
      "\n",
      "R_r    =  1033.368 ± nan  $\\Omega$\n",
      "R    =  2329.718 ± nan  $\\Omega$\n",
      "L    =  0.04986 ± 0.000  Henry\n",
      "C    =  0.000000001351 ± 0.000000000002  F\n",
      "V_0    =  0.512 ± 57981.914  V\n",
      "\n",
      "R    =  -5374049.588 ± 653777767677.791  $\\Omega$\n",
      "L    =  -111.31263 ± 13541713.070  Henry\n",
      "C    =  -0.000000888060 ± 0.163945239060  F\n",
      "V_0    =  -0.108 ± 0.000  V\n",
      "\n",
      "R    =  -3454857.996 ± 8974240003662.031  $\\Omega$\n",
      "L    =  0.00004 ± 9641.266  Henry\n",
      "C    =  -0.000000108181 ± 0.282204816908  F\n",
      "V_0    =  -42.704 ± 131131.563  V\n"
     ]
    }
   ],
   "source": [
    "print()\n",
    "print('R_r    = ','{:.3f}'.format(fit_R[0]), '±', '{:.5f}'.format(error_R[0]), ' $\\Omega$')\n",
    "print('R    = ','{:.3f}'.format(fit_R[1]), '±', '{:.6f}'.format(error_R[1]), ' $\\Omega$')\n",
    "print('L    = ','{:.5f}'.format(fit_R[2]), '±', '{:.3f}'.format(error_R[2]), ' Henry')\n",
    "print('C    = ','{:.12f}'.format(fit_R[3]), '±', '{:.12f}'.format(error_R[3]), ' F')\n",
    "print('V_0    = ','{:.3f}'.format(fit_R[4]), '±', '{:.3f}'.format(error_R[4]), ' V')\n",
    "\n",
    "print()\n",
    "print('R    = ','{:.3f}'.format(fit_L[0]), '±', '{:.3f}'.format(error_L[0]), ' $\\Omega$')\n",
    "print('L    = ','{:.5f}'.format(fit_L[1]), '±', '{:.3f}'.format(error_L[1]), ' Henry')\n",
    "print('C    = ','{:.12f}'.format(fit_L[2]), '±', '{:.12f}'.format(error_L[2]), ' F')\n",
    "print('V_0    = ','{:.3f}'.format(fit_L[3]), '±', '{:.3f}'.format(error_L[3]), ' V')\n",
    "\n",
    "print()\n",
    "print('R    = ','{:.3f}'.format(fit_C[0]), '±', '{:.3f}'.format(error_C[0]), ' $\\Omega$')\n",
    "print('L    = ','{:.5f}'.format(fit_C[1]), '±', '{:.3f}'.format(error_C[1]), ' Henry')\n",
    "print('C    = ','{:.12f}'.format(fit_C[2]), '±', '{:.12f}'.format(error_C[2]), ' F')\n",
    "print('V_0    = ','{:.3f}'.format(fit_C[3]), '±', '{:.3f}'.format(error_C[3]), ' V')"
   ],
   "metadata": {
    "collapsed": false,
    "pycharm": {
     "name": "#%%\n"
    }
   }
  },
  {
   "cell_type": "markdown",
   "source": [
    "We now iterate the process to find new fitting parameters until the values(amplitudes) become stable"
   ],
   "metadata": {
    "collapsed": false
   }
  },
  {
   "cell_type": "code",
   "execution_count": 123,
   "metadata": {
    "pycharm": {
     "name": "#%%\n"
    }
   },
   "outputs": [
    {
     "name": "stdout",
     "output_type": "stream",
     "text": [
      "R\n",
      "\n",
      "[1.03336832e+03 2.32971776e+03 4.98631951e-02 1.35093044e-09\n",
      " 5.12048913e-01]\n",
      "[1.03336832e+03 2.32971776e+03 4.98631951e-02 1.35093044e-09\n",
      " 5.12048913e-01]\n",
      "L\n",
      "\n",
      "[3.20317793e+03 6.39187334e-02 1.02278317e-09 4.92011405e-01]\n",
      "[-5.37404959e+06 -1.11312629e+02 -8.88060318e-07 -1.07990768e-01]\n",
      "C\n",
      "\n",
      "[3.02847690e+03 6.04069934e-02 1.08733507e-09 4.89509088e-01]\n",
      "[-3.45485800e+06  3.66346878e-05 -1.08180626e-07 -4.27036945e+01]\n"
     ]
    },
    {
     "name": "stderr",
     "output_type": "stream",
     "text": [
      "/var/folders/wx/z_3n9gy53dzd_bsxjtdg_t4h0000gn/T/ipykernel_3820/3680401281.py:12: RuntimeWarning: invalid value encountered in sqrt\n",
      "  error_R = np.sqrt(np.diag(covariance_R))\n"
     ]
    }
   ],
   "source": [
    "new_initial_values_R = np.array([fit_R[0], fit_R[1], fit_R[2],fit_R[3],fit_R[4]])\n",
    "new_initial_values_L = np.array([fit_L[0], fit_L[1], fit_L[2],fit_L[3]])\n",
    "new_initial_values_C = np.array([fit_C[0], fit_C[1], fit_C[2],fit_C[3]])\n",
    "\n",
    "# estimated_error = photodiode_error(theta, delta_V0, delta_theta, delta_V1,\n",
    "#                                    fit_R[0], fit_R[1]) # propagate error using new values for V0, etc\n",
    "\n",
    "fit_R, covariance_R = curve_fit(R_amp_model, frequencies_gen, amplitude_R, p0 = new_initial_values_R,sigma=amplitude_stdev,absolute_sigma=True)\n",
    "fit_L, covariance_L = curve_fit(L_amp_model, frequencies_gen, amplitude_R, p0 = new_initial_values_L,sigma=amplitude_stdev,absolute_sigma=True)\n",
    "fit_C, covariance_C = curve_fit(C_amp_model, frequencies_gen, amplitude_R, p0 = new_initial_values_C,sigma=amplitude_stdev,absolute_sigma=True)\n",
    "\n",
    "error_R = np.sqrt(np.diag(covariance_R))\n",
    "error_L = np.sqrt(np.diag(covariance_L))\n",
    "error_C = np.sqrt(np.diag(covariance_C))\n",
    "\n",
    "print('R\\n')\n",
    "print(old_fit_R)\n",
    "print(fit_R)\n",
    "print('L\\n')\n",
    "print(old_fit_L)\n",
    "print(fit_L)\n",
    "print('C\\n')\n",
    "print(old_fit_C)\n",
    "print(fit_C)\n",
    "\n",
    "old_fit_R = np.copy(fit_R)\n",
    "old_fit_L = np.copy(fit_L)\n",
    "old_fit_C = np.copy(fit_C)\n"
   ]
  },
  {
   "cell_type": "markdown",
   "source": [
    "### Fit accuracy\n",
    "Ok now that we've found the best-fit parameters we are interested in the"
   ],
   "metadata": {
    "collapsed": false
   }
  },
  {
   "cell_type": "code",
   "execution_count": 127,
   "outputs": [
    {
     "name": "stdout",
     "output_type": "stream",
     "text": [
      "chi-square         =  849.8104297919764\n",
      "degrees of freedom =  797\n",
      "reduced chi-square =  1.0662615179322164\n",
      "fractional probability of chisq ≤ 849.8104297919764 for  797 dof is 0.9051075947689119\n",
      "chi-square         =  24125973.098336305\n",
      "degrees of freedom =  798\n",
      "reduced chi-square =  30233.048995408903\n",
      "fractional probability of chisq ≤ 24125973.098336305 for  798 dof is 1.0\n",
      "chi-square         =  25183153.40343927\n",
      "degrees of freedom =  798\n",
      "reduced chi-square =  31557.83634516199\n",
      "fractional probability of chisq ≤ 25183153.40343927 for  798 dof is 1.0\n"
     ]
    }
   ],
   "source": [
    "\n",
    "from scipy.stats import chi2\n",
    "\n",
    "V_R_model = R_amp_model(frequencies_gen, fit_R[0], fit_R[1], fit_R[2], fit_R[3],fit_R[4])\n",
    "residual_R = amplitude_R - V_R_model\n",
    "V_L_model = L_amp_model(frequencies_gen, fit_L[0], fit_L[1], fit_L[2], fit_L[3])\n",
    "residual_L = amplitude_L - V_L_model\n",
    "V_C_model = C_amp_model(frequencies_gen, fit_C[0], fit_C[1], fit_C[2], fit_C[3])\n",
    "residual_C = amplitude_C - V_C_model\n",
    "\n",
    "# data_uncertainty = photodiode_error(theta, delta_V0, delta_theta, delta_V1, fit_R[0], fit_R[1])\n",
    "\n",
    "# in our case the uncertainty is estimated to be sigma\n",
    "data_uncertainty = amplitude_stdev\n",
    "\n",
    "chisq_R = sum((residual_R/ data_uncertainty)**2) #typo corrected\n",
    "degrees_of_freedom_R = len(residual_R) - len(initial_guess_R)\n",
    "reduced_chisq_R = chisq_R / degrees_of_freedom_R  # this should be close to one\n",
    "CDF_R = chi2.cdf(chisq_R, degrees_of_freedom_R)   # this should be close to 50 percent\n",
    "\n",
    "chisq_L = sum((residual_L/ data_uncertainty)**2) #typo corrected\n",
    "degrees_of_freedom_L = len(residual_L) - len(initial_guess_L)\n",
    "reduced_chisq_L = chisq_L / degrees_of_freedom_L  # this should be close to one\n",
    "CDF_L = chi2.cdf(chisq_L, degrees_of_freedom_L)   # this should be close to 50 percent\n",
    "\n",
    "chisq_C = sum((residual_C/ data_uncertainty)**2) #typo corrected\n",
    "degrees_of_freedom_C = len(residual_C) - len(initial_guess_C)\n",
    "reduced_chisq_C = chisq_C / degrees_of_freedom_C  # this should be close to one\n",
    "CDF_C = chi2.cdf(chisq_C, degrees_of_freedom_C)   # this should be close to 50 percent\n",
    "\n",
    "print('chi-square         = ',chisq_R)\n",
    "print('degrees of freedom = ',degrees_of_freedom_R)\n",
    "print('reduced chi-square = ',reduced_chisq_R)\n",
    "print('fractional probability of chisq ≤', chisq_R, 'for ', degrees_of_freedom_R, 'dof is', CDF_R)\n",
    "\n",
    "print('chi-square         = ',chisq_L)\n",
    "print('degrees of freedom = ',degrees_of_freedom_L)\n",
    "print('reduced chi-square = ',reduced_chisq_L)\n",
    "print('fractional probability of chisq ≤', chisq_L, 'for ', degrees_of_freedom_L, 'dof is', CDF_L)\n",
    "\n",
    "print('chi-square         = ',chisq_C)\n",
    "print('degrees of freedom = ',degrees_of_freedom_C)\n",
    "print('reduced chi-square = ',reduced_chisq_C)\n",
    "print('fractional probability of chisq ≤', chisq_C, 'for ', degrees_of_freedom_C, 'dof is', CDF_C)"
   ],
   "metadata": {
    "collapsed": false,
    "pycharm": {
     "name": "#%%\n"
    }
   }
  },
  {
   "cell_type": "markdown",
   "source": [
    "Now importing [matplotlib](https://matplotlib.org) used for graphical output"
   ],
   "metadata": {
    "collapsed": false
   }
  },
  {
   "cell_type": "code",
   "execution_count": 128,
   "metadata": {
    "pycharm": {
     "name": "#%%\n"
    }
   },
   "outputs": [
    {
     "ename": "ValueError",
     "evalue": "'yerr' (shape: (802,)) must be a scalar or a 1D or (2, n) array-like whose shape matches 'y' (shape: (50,))",
     "output_type": "error",
     "traceback": [
      "\u001B[0;31m---------------------------------------------------------------------------\u001B[0m",
      "\u001B[0;31mValueError\u001B[0m                                Traceback (most recent call last)",
      "Input \u001B[0;32mIn [128]\u001B[0m, in \u001B[0;36m<cell line: 21>\u001B[0;34m()\u001B[0m\n\u001B[1;32m     18\u001B[0m VR_fit \u001B[38;5;241m=\u001B[39m R_amp_model(freq_fit, fit_R[\u001B[38;5;241m0\u001B[39m], fit_R[\u001B[38;5;241m1\u001B[39m], fit_R[\u001B[38;5;241m2\u001B[39m],fit_R[\u001B[38;5;241m3\u001B[39m],fit_R[\u001B[38;5;241m4\u001B[39m])\n\u001B[1;32m     20\u001B[0m \u001B[38;5;66;03m#plot the curve fit in red\u001B[39;00m\n\u001B[0;32m---> 21\u001B[0m \u001B[43mplt\u001B[49m\u001B[38;5;241;43m.\u001B[39;49m\u001B[43merrorbar\u001B[49m\u001B[43m(\u001B[49m\u001B[43mfreq_fit\u001B[49m\u001B[43m,\u001B[49m\u001B[43m \u001B[49m\u001B[43mVR_fit\u001B[49m\u001B[43m,\u001B[49m\u001B[43m \u001B[49m\u001B[43mxerr\u001B[49m\u001B[43m \u001B[49m\u001B[38;5;241;43m=\u001B[39;49m\u001B[43m \u001B[49m\u001B[38;5;28;43;01mNone\u001B[39;49;00m\u001B[43m,\u001B[49m\u001B[43m \u001B[49m\u001B[43myerr\u001B[49m\u001B[43m \u001B[49m\u001B[38;5;241;43m=\u001B[39;49m\u001B[43m \u001B[49m\u001B[43mamplitude_stdev\u001B[49m\u001B[43m,\u001B[49m\u001B[43m \u001B[49m\u001B[43mcolor\u001B[49m\u001B[43m \u001B[49m\u001B[38;5;241;43m=\u001B[39;49m\u001B[43m \u001B[49m\u001B[38;5;124;43m'\u001B[39;49m\u001B[38;5;124;43mred\u001B[39;49m\u001B[38;5;124;43m'\u001B[39;49m\u001B[43m,\u001B[49m\u001B[43m \u001B[49m\u001B[43mlabel\u001B[49m\u001B[43m \u001B[49m\u001B[38;5;241;43m=\u001B[39;49m\u001B[43m \u001B[49m\u001B[38;5;124;43m'\u001B[39;49m\u001B[38;5;124;43mfit\u001B[39;49m\u001B[38;5;124;43m'\u001B[39;49m\u001B[43m \u001B[49m\u001B[43m)\u001B[49m\n\u001B[1;32m     22\u001B[0m plt\u001B[38;5;241m.\u001B[39mxlim(\u001B[38;5;241m4900\u001B[39m , \u001B[38;5;241m36000\u001B[39m)\n\u001B[1;32m     23\u001B[0m plt\u001B[38;5;241m.\u001B[39mylim(\u001B[38;5;241m0.0\u001B[39m,\u001B[38;5;241m0.25\u001B[39m)\n",
      "File \u001B[0;32m~/miniforge3/lib/python3.9/site-packages/matplotlib/pyplot.py:2509\u001B[0m, in \u001B[0;36merrorbar\u001B[0;34m(x, y, yerr, xerr, fmt, ecolor, elinewidth, capsize, barsabove, lolims, uplims, xlolims, xuplims, errorevery, capthick, data, **kwargs)\u001B[0m\n\u001B[1;32m   2503\u001B[0m \u001B[38;5;129m@_copy_docstring_and_deprecators\u001B[39m(Axes\u001B[38;5;241m.\u001B[39merrorbar)\n\u001B[1;32m   2504\u001B[0m \u001B[38;5;28;01mdef\u001B[39;00m \u001B[38;5;21merrorbar\u001B[39m(\n\u001B[1;32m   2505\u001B[0m         x, y, yerr\u001B[38;5;241m=\u001B[39m\u001B[38;5;28;01mNone\u001B[39;00m, xerr\u001B[38;5;241m=\u001B[39m\u001B[38;5;28;01mNone\u001B[39;00m, fmt\u001B[38;5;241m=\u001B[39m\u001B[38;5;124m'\u001B[39m\u001B[38;5;124m'\u001B[39m, ecolor\u001B[38;5;241m=\u001B[39m\u001B[38;5;28;01mNone\u001B[39;00m,\n\u001B[1;32m   2506\u001B[0m         elinewidth\u001B[38;5;241m=\u001B[39m\u001B[38;5;28;01mNone\u001B[39;00m, capsize\u001B[38;5;241m=\u001B[39m\u001B[38;5;28;01mNone\u001B[39;00m, barsabove\u001B[38;5;241m=\u001B[39m\u001B[38;5;28;01mFalse\u001B[39;00m, lolims\u001B[38;5;241m=\u001B[39m\u001B[38;5;28;01mFalse\u001B[39;00m,\n\u001B[1;32m   2507\u001B[0m         uplims\u001B[38;5;241m=\u001B[39m\u001B[38;5;28;01mFalse\u001B[39;00m, xlolims\u001B[38;5;241m=\u001B[39m\u001B[38;5;28;01mFalse\u001B[39;00m, xuplims\u001B[38;5;241m=\u001B[39m\u001B[38;5;28;01mFalse\u001B[39;00m, errorevery\u001B[38;5;241m=\u001B[39m\u001B[38;5;241m1\u001B[39m,\n\u001B[1;32m   2508\u001B[0m         capthick\u001B[38;5;241m=\u001B[39m\u001B[38;5;28;01mNone\u001B[39;00m, \u001B[38;5;241m*\u001B[39m, data\u001B[38;5;241m=\u001B[39m\u001B[38;5;28;01mNone\u001B[39;00m, \u001B[38;5;241m*\u001B[39m\u001B[38;5;241m*\u001B[39mkwargs):\n\u001B[0;32m-> 2509\u001B[0m     \u001B[38;5;28;01mreturn\u001B[39;00m \u001B[43mgca\u001B[49m\u001B[43m(\u001B[49m\u001B[43m)\u001B[49m\u001B[38;5;241;43m.\u001B[39;49m\u001B[43merrorbar\u001B[49m\u001B[43m(\u001B[49m\n\u001B[1;32m   2510\u001B[0m \u001B[43m        \u001B[49m\u001B[43mx\u001B[49m\u001B[43m,\u001B[49m\u001B[43m \u001B[49m\u001B[43my\u001B[49m\u001B[43m,\u001B[49m\u001B[43m \u001B[49m\u001B[43myerr\u001B[49m\u001B[38;5;241;43m=\u001B[39;49m\u001B[43myerr\u001B[49m\u001B[43m,\u001B[49m\u001B[43m \u001B[49m\u001B[43mxerr\u001B[49m\u001B[38;5;241;43m=\u001B[39;49m\u001B[43mxerr\u001B[49m\u001B[43m,\u001B[49m\u001B[43m \u001B[49m\u001B[43mfmt\u001B[49m\u001B[38;5;241;43m=\u001B[39;49m\u001B[43mfmt\u001B[49m\u001B[43m,\u001B[49m\u001B[43m \u001B[49m\u001B[43mecolor\u001B[49m\u001B[38;5;241;43m=\u001B[39;49m\u001B[43mecolor\u001B[49m\u001B[43m,\u001B[49m\n\u001B[1;32m   2511\u001B[0m \u001B[43m        \u001B[49m\u001B[43melinewidth\u001B[49m\u001B[38;5;241;43m=\u001B[39;49m\u001B[43melinewidth\u001B[49m\u001B[43m,\u001B[49m\u001B[43m \u001B[49m\u001B[43mcapsize\u001B[49m\u001B[38;5;241;43m=\u001B[39;49m\u001B[43mcapsize\u001B[49m\u001B[43m,\u001B[49m\u001B[43m \u001B[49m\u001B[43mbarsabove\u001B[49m\u001B[38;5;241;43m=\u001B[39;49m\u001B[43mbarsabove\u001B[49m\u001B[43m,\u001B[49m\n\u001B[1;32m   2512\u001B[0m \u001B[43m        \u001B[49m\u001B[43mlolims\u001B[49m\u001B[38;5;241;43m=\u001B[39;49m\u001B[43mlolims\u001B[49m\u001B[43m,\u001B[49m\u001B[43m \u001B[49m\u001B[43muplims\u001B[49m\u001B[38;5;241;43m=\u001B[39;49m\u001B[43muplims\u001B[49m\u001B[43m,\u001B[49m\u001B[43m \u001B[49m\u001B[43mxlolims\u001B[49m\u001B[38;5;241;43m=\u001B[39;49m\u001B[43mxlolims\u001B[49m\u001B[43m,\u001B[49m\n\u001B[1;32m   2513\u001B[0m \u001B[43m        \u001B[49m\u001B[43mxuplims\u001B[49m\u001B[38;5;241;43m=\u001B[39;49m\u001B[43mxuplims\u001B[49m\u001B[43m,\u001B[49m\u001B[43m \u001B[49m\u001B[43merrorevery\u001B[49m\u001B[38;5;241;43m=\u001B[39;49m\u001B[43merrorevery\u001B[49m\u001B[43m,\u001B[49m\u001B[43m \u001B[49m\u001B[43mcapthick\u001B[49m\u001B[38;5;241;43m=\u001B[39;49m\u001B[43mcapthick\u001B[49m\u001B[43m,\u001B[49m\n\u001B[1;32m   2514\u001B[0m \u001B[43m        \u001B[49m\u001B[38;5;241;43m*\u001B[39;49m\u001B[38;5;241;43m*\u001B[39;49m\u001B[43m(\u001B[49m\u001B[43m{\u001B[49m\u001B[38;5;124;43m\"\u001B[39;49m\u001B[38;5;124;43mdata\u001B[39;49m\u001B[38;5;124;43m\"\u001B[39;49m\u001B[43m:\u001B[49m\u001B[43m \u001B[49m\u001B[43mdata\u001B[49m\u001B[43m}\u001B[49m\u001B[43m \u001B[49m\u001B[38;5;28;43;01mif\u001B[39;49;00m\u001B[43m \u001B[49m\u001B[43mdata\u001B[49m\u001B[43m \u001B[49m\u001B[38;5;129;43;01mis\u001B[39;49;00m\u001B[43m \u001B[49m\u001B[38;5;129;43;01mnot\u001B[39;49;00m\u001B[43m \u001B[49m\u001B[38;5;28;43;01mNone\u001B[39;49;00m\u001B[43m \u001B[49m\u001B[38;5;28;43;01melse\u001B[39;49;00m\u001B[43m \u001B[49m\u001B[43m{\u001B[49m\u001B[43m}\u001B[49m\u001B[43m)\u001B[49m\u001B[43m,\u001B[49m\u001B[43m \u001B[49m\u001B[38;5;241;43m*\u001B[39;49m\u001B[38;5;241;43m*\u001B[39;49m\u001B[43mkwargs\u001B[49m\u001B[43m)\u001B[49m\n",
      "File \u001B[0;32m~/miniforge3/lib/python3.9/site-packages/matplotlib/__init__.py:1412\u001B[0m, in \u001B[0;36m_preprocess_data.<locals>.inner\u001B[0;34m(ax, data, *args, **kwargs)\u001B[0m\n\u001B[1;32m   1409\u001B[0m \u001B[38;5;129m@functools\u001B[39m\u001B[38;5;241m.\u001B[39mwraps(func)\n\u001B[1;32m   1410\u001B[0m \u001B[38;5;28;01mdef\u001B[39;00m \u001B[38;5;21minner\u001B[39m(ax, \u001B[38;5;241m*\u001B[39margs, data\u001B[38;5;241m=\u001B[39m\u001B[38;5;28;01mNone\u001B[39;00m, \u001B[38;5;241m*\u001B[39m\u001B[38;5;241m*\u001B[39mkwargs):\n\u001B[1;32m   1411\u001B[0m     \u001B[38;5;28;01mif\u001B[39;00m data \u001B[38;5;129;01mis\u001B[39;00m \u001B[38;5;28;01mNone\u001B[39;00m:\n\u001B[0;32m-> 1412\u001B[0m         \u001B[38;5;28;01mreturn\u001B[39;00m \u001B[43mfunc\u001B[49m\u001B[43m(\u001B[49m\u001B[43max\u001B[49m\u001B[43m,\u001B[49m\u001B[43m \u001B[49m\u001B[38;5;241;43m*\u001B[39;49m\u001B[38;5;28;43mmap\u001B[39;49m\u001B[43m(\u001B[49m\u001B[43msanitize_sequence\u001B[49m\u001B[43m,\u001B[49m\u001B[43m \u001B[49m\u001B[43margs\u001B[49m\u001B[43m)\u001B[49m\u001B[43m,\u001B[49m\u001B[43m \u001B[49m\u001B[38;5;241;43m*\u001B[39;49m\u001B[38;5;241;43m*\u001B[39;49m\u001B[43mkwargs\u001B[49m\u001B[43m)\u001B[49m\n\u001B[1;32m   1414\u001B[0m     bound \u001B[38;5;241m=\u001B[39m new_sig\u001B[38;5;241m.\u001B[39mbind(ax, \u001B[38;5;241m*\u001B[39margs, \u001B[38;5;241m*\u001B[39m\u001B[38;5;241m*\u001B[39mkwargs)\n\u001B[1;32m   1415\u001B[0m     auto_label \u001B[38;5;241m=\u001B[39m (bound\u001B[38;5;241m.\u001B[39marguments\u001B[38;5;241m.\u001B[39mget(label_namer)\n\u001B[1;32m   1416\u001B[0m                   \u001B[38;5;129;01mor\u001B[39;00m bound\u001B[38;5;241m.\u001B[39mkwargs\u001B[38;5;241m.\u001B[39mget(label_namer))\n",
      "File \u001B[0;32m~/miniforge3/lib/python3.9/site-packages/matplotlib/axes/_axes.py:3457\u001B[0m, in \u001B[0;36mAxes.errorbar\u001B[0;34m(self, x, y, yerr, xerr, fmt, ecolor, elinewidth, capsize, barsabove, lolims, uplims, xlolims, xuplims, errorevery, capthick, **kwargs)\u001B[0m\n\u001B[1;32m   3455\u001B[0m     np\u001B[38;5;241m.\u001B[39mbroadcast_to(err, (\u001B[38;5;241m2\u001B[39m, \u001B[38;5;28mlen\u001B[39m(dep)))\n\u001B[1;32m   3456\u001B[0m \u001B[38;5;28;01mexcept\u001B[39;00m \u001B[38;5;167;01mValueError\u001B[39;00m:\n\u001B[0;32m-> 3457\u001B[0m     \u001B[38;5;28;01mraise\u001B[39;00m \u001B[38;5;167;01mValueError\u001B[39;00m(\n\u001B[1;32m   3458\u001B[0m         \u001B[38;5;124mf\u001B[39m\u001B[38;5;124m\"\u001B[39m\u001B[38;5;124m'\u001B[39m\u001B[38;5;132;01m{\u001B[39;00mdep_axis\u001B[38;5;132;01m}\u001B[39;00m\u001B[38;5;124merr\u001B[39m\u001B[38;5;124m'\u001B[39m\u001B[38;5;124m (shape: \u001B[39m\u001B[38;5;132;01m{\u001B[39;00mnp\u001B[38;5;241m.\u001B[39mshape(err)\u001B[38;5;132;01m}\u001B[39;00m\u001B[38;5;124m) must be a \u001B[39m\u001B[38;5;124m\"\u001B[39m\n\u001B[1;32m   3459\u001B[0m         \u001B[38;5;124mf\u001B[39m\u001B[38;5;124m\"\u001B[39m\u001B[38;5;124mscalar or a 1D or (2, n) array-like whose shape matches \u001B[39m\u001B[38;5;124m\"\u001B[39m\n\u001B[1;32m   3460\u001B[0m         \u001B[38;5;124mf\u001B[39m\u001B[38;5;124m\"\u001B[39m\u001B[38;5;124m'\u001B[39m\u001B[38;5;132;01m{\u001B[39;00mdep_axis\u001B[38;5;132;01m}\u001B[39;00m\u001B[38;5;124m'\u001B[39m\u001B[38;5;124m (shape: \u001B[39m\u001B[38;5;132;01m{\u001B[39;00mnp\u001B[38;5;241m.\u001B[39mshape(dep)\u001B[38;5;132;01m}\u001B[39;00m\u001B[38;5;124m)\u001B[39m\u001B[38;5;124m\"\u001B[39m) \u001B[38;5;28;01mfrom\u001B[39;00m \u001B[38;5;28mNone\u001B[39m\n\u001B[1;32m   3461\u001B[0m \u001B[38;5;66;03m# This is like\u001B[39;00m\n\u001B[1;32m   3462\u001B[0m \u001B[38;5;66;03m#     elow, ehigh = np.broadcast_to(...)\u001B[39;00m\n\u001B[1;32m   3463\u001B[0m \u001B[38;5;66;03m#     return dep - elow * ~lolims, dep + ehigh * ~uplims\u001B[39;00m\n\u001B[1;32m   3464\u001B[0m \u001B[38;5;66;03m# except that broadcast_to would strip units.\u001B[39;00m\n\u001B[1;32m   3465\u001B[0m low, high \u001B[38;5;241m=\u001B[39m dep \u001B[38;5;241m+\u001B[39m np\u001B[38;5;241m.\u001B[39mrow_stack([\u001B[38;5;241m-\u001B[39m(\u001B[38;5;241m1\u001B[39m \u001B[38;5;241m-\u001B[39m lolims), \u001B[38;5;241m1\u001B[39m \u001B[38;5;241m-\u001B[39m uplims]) \u001B[38;5;241m*\u001B[39m err\n",
      "\u001B[0;31mValueError\u001B[0m: 'yerr' (shape: (802,)) must be a scalar or a 1D or (2, n) array-like whose shape matches 'y' (shape: (50,))"
     ]
    },
    {
     "data": {
      "text/plain": "<Figure size 792x576 with 1 Axes>",
      "image/png": "[encoded data removed]"
     },
     "metadata": {
      "needs_background": "light"
     },
     "output_type": "display_data"
    }
   ],
   "source": [
    "%matplotlib inline\n",
    "\n",
    "plt.figure(figsize = (11,8))                  #specify figure size as 7 x 5 inches\n",
    "#for default size, type plt.figure()\n",
    "\n",
    "plt.xlabel(r\"$f$ [Hz]\", fontsize = 18) #label axis (using LaTeX commands)\n",
    "plt.ylabel(r\"$V_R$ [volts]\", fontsize = 18)   #use 18 point font for label text\n",
    "\n",
    "# plot the data as before in blue\n",
    "plt.errorbar(frequencies_gen, amplitude_R,\n",
    "             xerr=None, yerr=amplitude_stdev,\n",
    "             linestyle = 'none',\n",
    "             color = 'blue',\n",
    "             capsize = 3, capthick = 1, label = \"data\")\n",
    "\n",
    "#create curve showing fit to data\n",
    "freq_fit = np.linspace(5000, 35000, 50)\n",
    "VR_fit = R_amp_model(freq_fit, fit_R[0], fit_R[1], fit_R[2],fit_R[3],fit_R[4])\n",
    "\n",
    "#plot the curve fit in red\n",
    "plt.errorbar(freq_fit, VR_fit, xerr = None, yerr = amplitude_stdev, color = 'red', label = 'fit' )\n",
    "plt.xlim(4900 , 36000)\n",
    "plt.ylim(0.0,0.25)\n",
    "# plt.xticks([0, 30, 60, 90, 120, 150, 180, 210, 240, 270, 300, 330, 360],\n",
    "#            ('0', '', '', 90,  '',  '', 180,  '',  '', 270,  '',  '', 360))\n",
    "plt.legend(loc = 'best')\n",
    "\n",
    "plt.savefig('Resistor-amplitude.pdf')\n",
    "plt.show()\n"
   ]
  },
  {
   "cell_type": "markdown",
   "metadata": {
    "pycharm": {
     "name": "#%% md\n"
    }
   },
   "source": []
  }
 ],
 "metadata": {
  "kernelspec": {
   "display_name": "Python 3 (ipykernel)",
   "language": "python",
   "name": "python3"
  },
  "language_info": {
   "codemirror_mode": {
    "name": "ipython",
    "version": 3
   },
   "file_extension": ".py",
   "mimetype": "text/x-python",
   "name": "python",
   "nbconvert_exporter": "python",
   "pygments_lexer": "ipython3",
   "version": "3.9.10"
  }
 },
 "nbformat": 4,
 "nbformat_minor": 1
}