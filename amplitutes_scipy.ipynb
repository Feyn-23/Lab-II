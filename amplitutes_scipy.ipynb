{
 "cells": [
  {
   "cell_type": "markdown",
   "metadata": {},
   "source": [
    "# Amplitudes analysis"
   ]
  },
  {
   "cell_type": "code",
   "execution_count": 142,
   "outputs": [],
   "source": [
    "import numpy as np\n",
    "from matplotlib import pyplot as plt #this is the traditional method\n",
    "from statistics import stdev\n",
    "from scipy.optimize import curve_fit # import method used here"
   ],
   "metadata": {
    "collapsed": false,
    "pycharm": {
     "name": "#%%\n"
    }
   }
  },
  {
   "cell_type": "markdown",
   "source": [
    "Importing data from files:\n",
    "- Frequencies and tension amplitudes\n",
    "- Tension-time measurements (square wave) to estimate noise through generator amplitude"
   ],
   "metadata": {
    "collapsed": false
   }
  },
  {
   "cell_type": "code",
   "execution_count": 143,
   "metadata": {
    "pycharm": {
     "name": "#%%\n"
    }
   },
   "outputs": [],
   "source": [
    "file_folder = 'data/actual data/Frequency response/'\n",
    "file_name = 'amplitudes1.csv'\n",
    "data_file = file_folder + file_name\n",
    "frequencies, amplitudeGen, amplitudeR, amplitudeL, amplitudeC  = np.loadtxt(data_file, delimiter = ',', skiprows = 1, usecols = (0, 1, 2, 3, 4), unpack = True)\n",
    "folder = 'data/actual data/Voltage-time/'\n",
    "file_name = 'freq19kHz.csv'\n",
    "# file_name = 'squareWave100Hz.csv'\n",
    "data_file = folder + file_name\n",
    "squareWaveAmpGen = np.loadtxt(data_file, delimiter=',', skiprows=1, usecols=(1), unpack=True)"
   ]
  },
  {
   "cell_type": "markdown",
   "source": [
    "The data scatter plots are the following:"
   ],
   "metadata": {
    "collapsed": false
   }
  },
  {
   "cell_type": "code",
   "execution_count": 144,
   "outputs": [
    {
     "data": {
      "text/plain": "<matplotlib.collections.PathCollection at 0x15762e100>"
     },
     "execution_count": 144,
     "metadata": {},
     "output_type": "execute_result"
    },
    {
     "data": {
      "text/plain": "<Figure size 432x288 with 1 Axes>",
      "image/png": "[encoded data removed]"
     },
     "metadata": {
      "needs_background": "light"
     },
     "output_type": "display_data"
    }
   ],
   "source": [
    "plt.scatter(frequencies,amplitudeR)\n",
    "plt.scatter(frequencies,amplitudeGen)\n",
    "plt.scatter(frequencies,amplitudeL)\n",
    "plt.scatter(frequencies,amplitudeC)"
   ],
   "metadata": {
    "collapsed": false,
    "pycharm": {
     "name": "#%%\n"
    }
   }
  },
  {
   "cell_type": "markdown",
   "source": [
    "We now compute $\\sigma$ from data (half period since the use of a square wave) and we use it as our noise estimation."
   ],
   "metadata": {
    "collapsed": false
   }
  },
  {
   "cell_type": "code",
   "execution_count": 145,
   "outputs": [
    {
     "name": "stdout",
     "output_type": "stream",
     "text": [
      "Deviazione standard sulle ampiezze positive della tensione del generatore:  0.0506\n",
      "Deviazione standard sulle ampiezze negative della tensione del generatore:  0.0477\n"
     ]
    }
   ],
   "source": [
    "swAmpPositive = []\n",
    "for x in range(len(squareWaveAmpGen)):\n",
    "    if (squareWaveAmpGen[x] > 0.0):\n",
    "        swAmpPositive.append(squareWaveAmpGen[x])\n",
    "swAmpNegative = []\n",
    "for x in range(len(squareWaveAmpGen)):\n",
    "    if (squareWaveAmpGen[x] < 0.0):\n",
    "        swAmpNegative.append(squareWaveAmpGen[x])\n",
    "\n",
    "sigmaPos = stdev(swAmpPositive)\n",
    "sigmaNeg = stdev(swAmpNegative)\n",
    "print(\"Deviazione standard sulle ampiezze positive della tensione del generatore: \", '{:.4f}'.format(sigmaPos))\n",
    "print(\"Deviazione standard sulle ampiezze negative della tensione del generatore: \", '{:.4f}'.format(sigmaNeg))\n",
    "\n",
    "# we now choose one between the two half-period calculations of sigma\n",
    "ampError = []\n",
    "for x in range(len(frequencies)):\n",
    "    ampError.append(sigmaPos)\n"
   ],
   "metadata": {
    "collapsed": false,
    "pycharm": {
     "name": "#%%\n"
    }
   }
  },
  {
   "cell_type": "markdown",
   "source": [
    "---\n",
    "## Fitting data\n",
    "We are now going to use curve_fit() method from scipy.\n",
    "We now define the function we are going to fit the data with: $$ V_R = \\frac{R_rV_0}{\\sqrt{R^2+{ \\left(\\omega L - \\frac{1}{\\omega C}\\right)}^2}}$$\n",
    "$$ V_L = \\frac{\\omega L V_0}{\\sqrt{R^2+{ \\left(\\omega L - \\frac{1}{\\omega C}\\right)}^2}}$$\n",
    "$$ V_C = \\frac{\\frac{V_0}{\\omega C}}{\\sqrt{R^2+{ \\left(\\omega L - \\frac{1}{\\omega C}\\right)}^2}}$$\n",
    "\n",
    " $\\omega = 2 \\pi f$ with $f$ being the sinusoidal generator frequency. We've chosen to estimate the uncertainty associated to the amplitude measures with the sample standard deviation $\\sigma$ since how the DAQ program outputs the amplitude values is not known."
   ],
   "metadata": {
    "collapsed": false
   }
  },
  {
   "cell_type": "code",
   "execution_count": 146,
   "outputs": [],
   "source": [
    "def Gen_amp_model(f, V_0):\n",
    "    return V_0\n",
    "def R_amp_model(f, R_r , R, L, C, V_0):\n",
    "    num = R_r * V_0\n",
    "    den = np.sqrt( R**2 + (2*np.pi*f * L - 1/(2*np.pi*f * C))**2)\n",
    "    return num / den\n",
    "def L_amp_model(f, R, L, C, V_0):\n",
    "    num = 2*np.pi*f * L * V_0\n",
    "    den = np.sqrt( R**2 + (2*np.pi*f * L - 1/(2*np.pi*f * C))**2)\n",
    "    return num / den\n",
    "def C_amp_model(f, R, L, C, V_0):\n",
    "    num = V_0 / (2*np.pi*f * C)\n",
    "    den = np.sqrt( R**2 + (2*np.pi*f * L - 1/(2*np.pi*f * C))**2)\n",
    "    return num / den"
   ],
   "metadata": {
    "collapsed": false,
    "pycharm": {
     "name": "#%%\n"
    }
   }
  },
  {
   "cell_type": "markdown",
   "source": [
    "We now have to make our initial guess of the fitting parameters. We can make exact initial guesses or set bounds for params values"
   ],
   "metadata": {
    "collapsed": false
   }
  },
  {
   "cell_type": "code",
   "execution_count": 147,
   "outputs": [],
   "source": [
    "R_r = 996.7\n",
    "R = 1.17252e+03\n",
    "L = 4.741e-02\n",
    "C = 1.46e-09\n",
    "V_0 = 2.43\n",
    "\n",
    "initial_guess_gen = np.array([V_0])\n",
    "initial_guess_R = np.array([R_r , R, L, C, V_0])\n",
    "initial_guess_L = np.array([R, L, C, V_0])\n",
    "initial_guess_C = np.array([R, L, C, V_0])\n",
    "\n",
    "boundsGen = [[0.0],[3.0]]\n",
    "boundsR = [[990,990,3.5e-02,1.3e-09,0.0],[1200,2500,5e-02,1.6e-09,3.0]]\n",
    "boundsL = [[990,3.5e-02,1.3e-09,0.0],[2500,5e-02,1.6e-09,3.0]]\n",
    "boundsC = [[990,3.5e-02,1.3e-09,0.0],[2500,5e-02,1.6e-09,3.0]]"
   ],
   "metadata": {
    "collapsed": false,
    "pycharm": {
     "name": "#%%\n"
    }
   }
  },
  {
   "cell_type": "code",
   "execution_count": 148,
   "metadata": {
    "pycharm": {
     "name": "#%%\n"
    }
   },
   "outputs": [],
   "source": [
    "# the method returns two arrays: one with the resulting fit parameters and then the covariance matrix\n",
    "fit_gen,covariance_gen = curve_fit(Gen_amp_model, frequencies, amplitudeGen,bounds=boundsGen,sigma=ampError,absolute_sigma=True)\n",
    "fit_R, covariance_R = curve_fit(R_amp_model, frequencies, amplitudeR,bounds=boundsR,sigma=ampError,absolute_sigma=True)\n",
    "fit_L, covariance_L = curve_fit(L_amp_model, frequencies, amplitudeL,bounds=boundsL,sigma=ampError,absolute_sigma=True)\n",
    "fit_C, covariance_C = curve_fit(C_amp_model, frequencies, amplitudeC,bounds=boundsC,sigma=ampError,absolute_sigma=True)\n",
    "\n",
    "#the elements on the the diagonal represent the errors on the fit parameters\n",
    "error_gen = np.sqrt(np.diag(covariance_gen))\n",
    "error_R = np.sqrt(np.diag(covariance_R))\n",
    "error_L = np.sqrt(np.diag(covariance_L))\n",
    "error_C = np.sqrt(np.diag(covariance_C))"
   ]
  },
  {
   "cell_type": "markdown",
   "source": [
    "### Fit results\n",
    "Printing out fit results"
   ],
   "metadata": {
    "collapsed": false
   }
  },
  {
   "cell_type": "code",
   "execution_count": 149,
   "outputs": [
    {
     "name": "stdout",
     "output_type": "stream",
     "text": [
      "\n",
      "V_0    =  2.478 ± 0.0016111577  V\n",
      "\n",
      "R_r    =  1143.172 ± 0.0000359176  $\\Omega$\n",
      "R    =  2029.393 ± 0.0000207885  $\\Omega$\n",
      "L    =  0.04735 ± 0.0007729899  Henry\n",
      "C    =  0.000000001510 ± 0.000000000023  F\n",
      "V_0    =  2.188 ± 0.0187644940  V\n",
      "\n",
      "R    =  2069.108 ± 0.0000000566  $\\Omega$\n",
      "L    =  0.04737 ± 0.0001159237  Henry\n",
      "C    =  0.000000001501 ± 0.000000000004  F\n",
      "V_0    =  2.446 ± 0.0030397764  V\n",
      "\n",
      "R    =  2056.307 ± 0.0000004961  $\\Omega$\n",
      "L    =  0.04702 ± 0.0001233633  Henry\n",
      "C    =  0.000000001534 ± 0.000000000003  F\n",
      "V_0    =  2.420 ± 0.0026868959  V\n"
     ]
    }
   ],
   "source": [
    "print()\n",
    "print('V_0    = ','{:.3f}'.format(fit_gen[0]), '±', '{:.10f}'.format(error_gen[0]), ' V')\n",
    "\n",
    "print()\n",
    "print('R_r    = ','{:.3f}'.format(fit_R[0]), '±', '{:.10f}'.format(error_R[0]), ' $\\Omega$')\n",
    "print('R    = ','{:.3f}'.format(fit_R[1]), '±', '{:.10f}'.format(error_R[1]), ' $\\Omega$')\n",
    "print('L    = ','{:.5f}'.format(fit_R[2]), '±', '{:.10f}'.format(error_R[2]), ' Henry')\n",
    "print('C    = ','{:.12f}'.format(fit_R[3]), '±', '{:.12f}'.format(error_R[3]), ' F')\n",
    "print('V_0    = ','{:.3f}'.format(fit_R[4]), '±', '{:.10f}'.format(error_R[4]), ' V')\n",
    "\n",
    "print()\n",
    "print('R    = ','{:.3f}'.format(fit_L[0]), '±', '{:.10f}'.format(error_L[0]), ' $\\Omega$')\n",
    "print('L    = ','{:.5f}'.format(fit_L[1]), '±', '{:.10f}'.format(error_L[1]), ' Henry')\n",
    "print('C    = ','{:.12f}'.format(fit_L[2]), '±', '{:.12f}'.format(error_L[2]), ' F')\n",
    "print('V_0    = ','{:.3f}'.format(fit_L[3]), '±', '{:.10f}'.format(error_L[3]), ' V')\n",
    "\n",
    "print()\n",
    "print('R    = ','{:.3f}'.format(fit_C[0]), '±', '{:.10f}'.format(error_C[0]), ' $\\Omega$')\n",
    "print('L    = ','{:.5f}'.format(fit_C[1]), '±', '{:.10f}'.format(error_C[1]), ' Henry')\n",
    "print('C    = ','{:.12f}'.format(fit_C[2]), '±', '{:.12f}'.format(error_C[2]), ' F')\n",
    "print('V_0    = ','{:.3f}'.format(fit_C[3]), '±', '{:.10f}'.format(error_C[3]), ' V')"
   ],
   "metadata": {
    "collapsed": false,
    "pycharm": {
     "name": "#%%\n"
    }
   }
  },
  {
   "cell_type": "markdown",
   "source": [
    "#### Graphical error visualization\n",
    "We now try to visualize the covariance matrix with a colorplot:"
   ],
   "metadata": {
    "collapsed": false
   }
  },
  {
   "cell_type": "code",
   "execution_count": 150,
   "outputs": [
    {
     "name": "stdout",
     "output_type": "stream",
     "text": [
      "Gen\n"
     ]
    },
    {
     "data": {
      "text/plain": "<Figure size 432x288 with 2 Axes>",
      "image/png": "[encoded data removed]"
     },
     "metadata": {
      "needs_background": "light"
     },
     "output_type": "display_data"
    },
    {
     "name": "stdout",
     "output_type": "stream",
     "text": [
      "R\n"
     ]
    },
    {
     "data": {
      "text/plain": "<Figure size 432x288 with 2 Axes>",
      "image/png": "[encoded data removed]"
     },
     "metadata": {
      "needs_background": "light"
     },
     "output_type": "display_data"
    },
    {
     "name": "stdout",
     "output_type": "stream",
     "text": [
      "L\n"
     ]
    },
    {
     "data": {
      "text/plain": "<Figure size 432x288 with 2 Axes>",
      "image/png": "[encoded data removed]"
     },
     "metadata": {
      "needs_background": "light"
     },
     "output_type": "display_data"
    },
    {
     "name": "stdout",
     "output_type": "stream",
     "text": [
      "C\n"
     ]
    },
    {
     "data": {
      "text/plain": "<Figure size 432x288 with 2 Axes>",
      "image/png": "[encoded data removed]"
     },
     "metadata": {
      "needs_background": "light"
     },
     "output_type": "display_data"
    }
   ],
   "source": [
    "print('Gen')\n",
    "plt.imshow(np.log(np.abs(covariance_gen)))\n",
    "plt.colorbar()\n",
    "plt.show()\n",
    "\n",
    "print('R')\n",
    "plt.imshow(np.log(np.abs(covariance_R)))\n",
    "plt.colorbar()\n",
    "plt.show()\n",
    "print('L')\n",
    "\n",
    "plt.imshow(np.log(np.abs(covariance_L)))\n",
    "plt.colorbar()\n",
    "plt.show()\n",
    "print('C')\n",
    "\n",
    "plt.imshow(np.log(np.abs(covariance_C)))\n",
    "plt.colorbar()\n",
    "plt.show()"
   ],
   "metadata": {
    "collapsed": false,
    "pycharm": {
     "name": "#%%\n"
    }
   }
  },
  {
   "cell_type": "markdown",
   "source": [
    "### Fit accuracy\n",
    "We are now going to evaluate the fit accuracy parameters."
   ],
   "metadata": {
    "collapsed": false
   }
  },
  {
   "cell_type": "markdown",
   "source": [],
   "metadata": {
    "collapsed": false
   }
  },
  {
   "cell_type": "code",
   "execution_count": 151,
   "outputs": [],
   "source": [
    "V_gen_model = Gen_amp_model(frequencies, fit_gen[0])\n",
    "residual_gen = amplitudeGen - V_gen_model\n",
    "V_R_model = R_amp_model(frequencies, fit_R[0], fit_R[1], fit_R[2], fit_R[3],fit_R[4])\n",
    "residual_R = amplitudeR - V_R_model\n",
    "V_L_model = L_amp_model(frequencies, fit_L[0], fit_L[1], fit_L[2], fit_L[3])\n",
    "residual_L = amplitudeL - V_L_model\n",
    "V_C_model = C_amp_model(frequencies, fit_C[0], fit_C[1], fit_C[2], fit_C[3])\n",
    "residual_C = amplitudeC - V_C_model"
   ],
   "metadata": {
    "collapsed": false,
    "pycharm": {
     "name": "#%%\n"
    }
   }
  },
  {
   "cell_type": "code",
   "execution_count": 152,
   "outputs": [
    {
     "name": "stdout",
     "output_type": "stream",
     "text": [
      "GEN\n",
      "chi-square      =  139.9554982750511\n",
      "degrees of freedom =  985\n",
      "reduced chi-square =  0.1420868002792397\n",
      "R\n",
      "chi-square        =  24.332687205510716\n",
      "degrees of freedom =  981\n",
      "reduced chi-square =  0.024803962492875347\n",
      "L\n",
      "chi-square         =  996.1732514916441\n",
      "degrees of freedom =  982\n",
      "reduced chi-square =  1.0144330463255031\n",
      "C\n",
      "chi-square    =  432.02418068252655\n",
      "degrees of freedom =  982\n",
      "reduced chi-square =  0.4399431575178478\n"
     ]
    }
   ],
   "source": [
    "chisq_gen = sum((residual_gen/ ampError)**2)\n",
    "degrees_of_freedom_gen = len(residual_gen) - len(initial_guess_gen)\n",
    "reduced_chisq_gen = chisq_gen / degrees_of_freedom_gen\n",
    "\n",
    "chisq_R = sum((residual_R/ ampError)**2)\n",
    "degrees_of_freedom_R = len(residual_R) - len(initial_guess_R)\n",
    "reduced_chisq_R = chisq_R / degrees_of_freedom_R\n",
    "\n",
    "chisq_L = sum((residual_L/ ampError)**2) #typo corrected\n",
    "degrees_of_freedom_L = len(residual_L) - len(initial_guess_L)\n",
    "reduced_chisq_L = chisq_L / degrees_of_freedom_L\n",
    "\n",
    "chisq_C = sum((residual_C/ ampError)**2) #typo corrected\n",
    "degrees_of_freedom_C = len(residual_C) - len(initial_guess_C)\n",
    "reduced_chisq_C = chisq_C / degrees_of_freedom_C\n",
    "\n",
    "print('GEN')\n",
    "print('chi-square      = ',chisq_gen)\n",
    "print('degrees of freedom = ',degrees_of_freedom_gen)\n",
    "print('reduced chi-square = ',reduced_chisq_gen)\n",
    "\n",
    "print('R')\n",
    "print('chi-square        = ',chisq_R)\n",
    "print('degrees of freedom = ',degrees_of_freedom_R)\n",
    "print('reduced chi-square = ',reduced_chisq_R)\n",
    "\n",
    "print('L')\n",
    "print('chi-square         = ',chisq_L)\n",
    "print('degrees of freedom = ',degrees_of_freedom_L)\n",
    "print('reduced chi-square = ',reduced_chisq_L)\n",
    "\n",
    "print('C')\n",
    "print('chi-square    = ',chisq_C)\n",
    "print('degrees of freedom = ',degrees_of_freedom_C)\n",
    "print('reduced chi-square = ',reduced_chisq_C)\n"
   ],
   "metadata": {
    "collapsed": false,
    "pycharm": {
     "name": "#%%\n"
    }
   }
  },
  {
   "cell_type": "markdown",
   "source": [
    "## Plotting data\n",
    "Now that we're done with fitting let's plot our data using [matplotlib](https://matplotlib.org)."
   ],
   "metadata": {
    "collapsed": false
   }
  },
  {
   "cell_type": "code",
   "execution_count": 153,
   "outputs": [
    {
     "data": {
      "text/plain": "<Figure size 792x576 with 1 Axes>",
      "image/png": "[encoded data removed]"
     },
     "metadata": {
      "needs_background": "light"
     },
     "output_type": "display_data"
    }
   ],
   "source": [
    "plt.figure(figsize = (11,8))                  #specify figure size as 7 x 5 inches\n",
    "#for default size, type plt.figure()\n",
    "\n",
    "plt.xlabel(r\"$f$ [Hz]\", fontsize = 16) #label axis (using LaTeX commands)\n",
    "plt.ylabel(r\"$V_R$ [volts]\", fontsize = 16)   #use 18 point font for label text\n",
    "\n",
    "# Plotting the actual experimental data\n",
    "plt.errorbar(frequencies, amplitudeR,\n",
    "             xerr=None, yerr=ampError,\n",
    "             linestyle = 'none',\n",
    "             color = 'orange',\n",
    "             capsize = 3, capthick = 1, label = \"amp R data\")\n",
    "plt.errorbar(frequencies, amplitudeGen,\n",
    "             xerr=None, yerr=ampError,\n",
    "             linestyle = 'none',\n",
    "             color = 'orange',\n",
    "             capsize = 3, capthick = 1, label = \"amp R data\")\n",
    "plt.errorbar(frequencies, amplitudeL,\n",
    "             xerr=None, yerr=ampError,\n",
    "             linestyle = 'none',\n",
    "             color = 'orange',\n",
    "             capsize = 3, capthick = 1, label = \"amp L data\")\n",
    "plt.errorbar(frequencies, amplitudeC,\n",
    "             xerr=None, yerr=ampError,\n",
    "             linestyle = 'none',\n",
    "             color = 'orange',\n",
    "             capsize = 3, capthick = 1, label = \"amp C data\")\n",
    "\n",
    "#create curve showing fit to data\n",
    "freq_fit = np.linspace(5000, 35000, 100)\n",
    "VR_fit = R_amp_model(freq_fit, fit_R[0], fit_R[1], fit_R[2],fit_R[3],fit_R[4])\n",
    "VL_fit = L_amp_model(freq_fit, fit_L[0], fit_L[1], fit_L[2],fit_L[3])\n",
    "VC_fit = C_amp_model(freq_fit, fit_C[0], fit_C[1], fit_C[2],fit_C[3])\n",
    "\n",
    "#plotting the fitting curves\n",
    "plt.errorbar(freq_fit, VR_fit, xerr = None, yerr = sigmaPos, color = 'red', label = 'V_R fit' )\n",
    "plt.errorbar(freq_fit, VL_fit, xerr = None, yerr = sigmaPos, color = 'green', label = 'V_L fit' )\n",
    "plt.errorbar(freq_fit, VC_fit, xerr = None, yerr = sigmaPos, color = 'blue', label = 'V_C fit' )\n",
    "plt.xlim(4900 , 36000)\n",
    "# plt.ylim(0.0,7.0)\n",
    "# plt.xticks([0, 30, 60, 90, 120, 150, 180, 210, 240, 270, 300, 330, 360],\n",
    "#            ('0', '', '', 90,  '',  '', 180,  '',  '', 270,  '',  '', 360))\n",
    "plt.legend(loc = 'best')\n",
    "\n",
    "plt.savefig('figs/Amplitudes-scipy.pdf')\n"
   ],
   "metadata": {
    "collapsed": false,
    "pycharm": {
     "name": "#%%\n"
    }
   }
  },
  {
   "cell_type": "markdown",
   "source": [],
   "metadata": {
    "collapsed": false
   }
  },
  {
   "cell_type": "markdown",
   "metadata": {
    "pycharm": {
     "name": "#%% md\n"
    }
   },
   "source": []
  }
 ],
 "metadata": {
  "kernelspec": {
   "display_name": "Python 3 (ipykernel)",
   "language": "python",
   "name": "python3"
  },
  "language_info": {
   "codemirror_mode": {
    "name": "ipython",
    "version": 3
   },
   "file_extension": ".py",
   "mimetype": "text/x-python",
   "name": "python",
   "nbconvert_exporter": "python",
   "pygments_lexer": "ipython3",
   "version": "3.9.10"
  }
 },
 "nbformat": 4,
 "nbformat_minor": 1
}