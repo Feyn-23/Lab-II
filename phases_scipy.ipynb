{
 "cells": [
  {
   "cell_type": "markdown",
   "metadata": {},
   "source": [
    "# Phases analysis"
   ]
  },
  {
   "cell_type": "code",
   "execution_count": 119,
   "outputs": [],
   "source": [
    "import numpy as np\n",
    "from matplotlib import pyplot as plt #this is the traditional method\n",
    "from statistics import stdev\n",
    "from scipy.optimize import curve_fit # import method used here"
   ],
   "metadata": {
    "collapsed": false,
    "pycharm": {
     "name": "#%%\n"
    }
   }
  },
  {
   "cell_type": "markdown",
   "source": [
    "Importing data from files:\n",
    "- Frequencies and tension amplitudes\n",
    "- Tension-time measurements (square wave) to estimate noise through generator amplitude"
   ],
   "metadata": {
    "collapsed": false
   }
  },
  {
   "cell_type": "code",
   "execution_count": 121,
   "metadata": {
    "pycharm": {
     "name": "#%%\n"
    }
   },
   "outputs": [],
   "source": [
    "file_folder = 'data/new data/Frequency response/'\n",
    "file_name = 'phases.csv'\n",
    "data_file = file_folder + file_name\n",
    "frequencies,phaseGen,phaseR,phaseL,phaseC  = np.loadtxt(data_file, delimiter = ',', skiprows = 1, usecols = (0,1,2,3,4), unpack = True)\n",
    "\n",
    "# qui importa datiper il cacolo degli errori\n",
    "folder = 'data/actual data/Voltage-time/'\n",
    "file_name = 'freq19kHz.csv'\n",
    "# file_name = 'squareWave100Hz.csv'\n",
    "data_file = folder + file_name\n",
    "squareWaveAmpGen = np.loadtxt(data_file, delimiter=',', skiprows=1, usecols=(1), unpack=True)"
   ]
  },
  {
   "cell_type": "markdown",
   "source": [
    "The data scatter plots are the following:"
   ],
   "metadata": {
    "collapsed": false
   }
  },
  {
   "cell_type": "code",
   "execution_count": null,
   "outputs": [],
   "source": [
    "plt.scatter(frequencies,phaseGen)\n",
    "plt.scatter(frequencies,phaseR)\n",
    "plt.scatter(frequencies,phaseL)\n",
    "plt.scatter(frequencies,phaseC)"
   ],
   "metadata": {
    "collapsed": false,
    "pycharm": {
     "name": "#%%\n"
    }
   }
  },
  {
   "cell_type": "markdown",
   "source": [
    "We now compute $\\sigma$ from data (half period since the use of a square wave) and we use it as our noise estimation."
   ],
   "metadata": {
    "collapsed": false
   }
  },
  {
   "cell_type": "code",
   "execution_count": null,
   "outputs": [],
   "source": [
    "swAmpPositive = []\n",
    "for x in range(len(squareWaveAmpGen)):\n",
    "    if (squareWaveAmpGen[x] > 0.0):\n",
    "        swAmpPositive.append(squareWaveAmpGen[x])\n",
    "swAmpNegative = []\n",
    "for x in range(len(squareWaveAmpGen)):\n",
    "    if (squareWaveAmpGen[x] < 0.0):\n",
    "        swAmpNegative.append(squareWaveAmpGen[x])\n",
    "\n",
    "sigmaPos = stdev(swAmpPositive)\n",
    "sigmaNeg = stdev(swAmpNegative)\n",
    "print(\"Deviazione standard sulle ampiezze positive della tensione del generatore: \", '{:.4f}'.format(sigmaPos))\n",
    "print(\"Deviazione standard sulle ampiezze negative della tensione del generatore: \", '{:.4f}'.format(sigmaNeg))\n",
    "\n",
    "# we now choose one between the two half-period calculations of sigma\n",
    "phaseError = []\n",
    "for x in range(len(frequencies)):\n",
    "    phaseError.append(sigmaPos)\n"
   ],
   "metadata": {
    "collapsed": false,
    "pycharm": {
     "name": "#%%\n"
    }
   }
  },
  {
   "cell_type": "markdown",
   "source": [
    "---\n",
    "## Fitting data\n",
    "We are now going to use curve_fit() method from scipy.\n",
    "We now define the function we are going to fit the data with(values are expessed in radians):\n",
    "$$ \\phi_R = \\arctan{\\frac{1 - \\omega^2 L C}{R \\omega C}}$$\n",
    "$$ \\phi_R = \\arctan{\\frac{1 - \\omega^2 L C}{R \\omega C}} + \\frac{\\pi}{2}$$\n",
    "$$ \\phi_R = \\arctan{\\frac{1 - \\omega^2 L C}{R \\omega C}} - \\frac{\\pi}{2}$$"
   ],
   "metadata": {
    "collapsed": false
   }
  },
  {
   "cell_type": "code",
   "execution_count": null,
   "outputs": [],
   "source": [
    "def Gen_phase_model(f,phi_gen):\n",
    "    return phi_gen\n",
    "\n",
    "def R_phase_model(f, R, L, C):\n",
    "    num = 1 - (2 * np.pi * f)**2 * L * C\n",
    "    den = R * (2 * np.pi * f) * C\n",
    "    return np.arctan(num / den)\n",
    "\n",
    "\n",
    "def L_phase_model(f, R, L, C):\n",
    "    num = 1 - (2 * np.pi * f)**2 * L * C\n",
    "    den = R * (2 * np.pi * f) * C\n",
    "    return np.arctan(num / den) + np.pi/2\n",
    "\n",
    "def C_phase_model(f, R, L, C):\n",
    "    num = 1 - (2 * np.pi * f)**2 * L * C\n",
    "    den = R * (2 * np.pi * f) * C\n",
    "    return np.arctan(num / den) - np.pi/2"
   ],
   "metadata": {
    "collapsed": false,
    "pycharm": {
     "name": "#%%\n"
    }
   }
  },
  {
   "cell_type": "markdown",
   "source": [
    "We now have to make our initial guess of the fitting parameters. We can make exact initial guesses or set bounds for params values"
   ],
   "metadata": {
    "collapsed": false
   }
  },
  {
   "cell_type": "code",
   "execution_count": null,
   "outputs": [],
   "source": [
    "R = 1.17252e+03\n",
    "L = 4.741e-02\n",
    "C = 1.46e-09\n",
    "phi_gen = 2*np.pi\n",
    "\n",
    "initial_guess_gen = np.array([phi_gen])\n",
    "initial_guess_R = np.array([ R, L, C])\n",
    "initial_guess_L = np.array([R, L, C])\n",
    "initial_guess_C = np.array([R, L, C])\n",
    "\n",
    "boundsGen = [[0.0],[7.0]]\n",
    "boundsR = [[990,3.5e-02,1.3e-09],[2500,5e-02,1.6e-09]]\n",
    "boundsL = [[990,3.5e-02,1.3e-09],[2500,5e-02,1.6e-09]]\n",
    "boundsC = [[990,3.5e-02,1.3e-09],[2500,5e-02,1.6e-09]]"
   ],
   "metadata": {
    "collapsed": false,
    "pycharm": {
     "name": "#%%\n"
    }
   }
  },
  {
   "cell_type": "code",
   "execution_count": null,
   "metadata": {
    "pycharm": {
     "name": "#%%\n"
    }
   },
   "outputs": [],
   "source": [
    "# the method returns two arrays: one with the resulting fit parameters and then the covariance matrix\n",
    "fit_gen,covariance_gen = curve_fit(Gen_phase_model, frequencies, phaseGen,bounds=boundsGen,sigma=phaseError,absolute_sigma=True)\n",
    "fit_R, covariance_R = curve_fit(R_phase_model, frequencies, phaseR,bounds=boundsR,sigma=phaseError,absolute_sigma=True)\n",
    "fit_L, covariance_L = curve_fit(L_phase_model, frequencies, phaseL,bounds=boundsL,sigma=phaseError,absolute_sigma=True)\n",
    "fit_C, covariance_C = curve_fit(C_phase_model, frequencies, phaseC,bounds=boundsC,sigma=phaseError,absolute_sigma=True)\n",
    "\n",
    "#the elements on the the diagonal represent the errors on the fit parameters\n",
    "error_gen = np.sqrt(np.diag(covariance_gen))\n",
    "error_R = np.sqrt(np.diag(covariance_R))\n",
    "error_L = np.sqrt(np.diag(covariance_L))\n",
    "error_C = np.sqrt(np.diag(covariance_C))\n"
   ]
  },
  {
   "cell_type": "markdown",
   "source": [
    "### Fit results\n",
    "Printing out fit results"
   ],
   "metadata": {
    "collapsed": false
   }
  },
  {
   "cell_type": "code",
   "execution_count": null,
   "outputs": [],
   "source": [
    "print()\n",
    "print('Phi_0   = ','{:.3f}'.format(phi_gen), '±', '{:.10f}'.format(error_gen[0]), ' V')\n",
    "\n",
    "print()\n",
    "print('R    = ','{:.3f}'.format(fit_R[0]), '±', '{:.10f}'.format(error_R[0]), ' $\\Omega$')\n",
    "print('L    = ','{:.5f}'.format(fit_R[1]), '±', '{:.10f}'.format(error_R[1]), ' Henry')\n",
    "print('C    = ','{:.12f}'.format(fit_R[2]), '±', '{:.12f}'.format(error_R[2]), ' F')\n",
    "\n",
    "print()\n",
    "print('R    = ','{:.3f}'.format(fit_L[0]), '±', '{:.10f}'.format(error_L[0]), ' $\\Omega$')\n",
    "print('L    = ','{:.5f}'.format(fit_L[1]), '±', '{:.10f}'.format(error_L[1]), ' Henry')\n",
    "print('C    = ','{:.12f}'.format(fit_L[2]), '±', '{:.12f}'.format(error_L[2]), ' F')\n",
    "\n",
    "print()\n",
    "print('R    = ','{:.3f}'.format(fit_C[0]), '±', '{:.10f}'.format(error_C[0]), ' $\\Omega$')\n",
    "print('L    = ','{:.5f}'.format(fit_C[1]), '±', '{:.10f}'.format(error_C[1]), ' Henry')\n",
    "print('C    = ','{:.12f}'.format(fit_C[2]), '±', '{:.12f}'.format(error_C[2]), ' F')\n"
   ],
   "metadata": {
    "collapsed": false,
    "pycharm": {
     "name": "#%%\n"
    }
   }
  },
  {
   "cell_type": "markdown",
   "source": [
    "#### Graphical error visualization\n",
    "We now try to visualize the covariance matrix with a colorplot:"
   ],
   "metadata": {
    "collapsed": false
   }
  },
  {
   "cell_type": "code",
   "execution_count": null,
   "outputs": [],
   "source": [
    "print('Gen')\n",
    "plt.imshow(np.log(np.abs(covariance_gen)))\n",
    "plt.colorbar()\n",
    "plt.show()\n",
    "\n",
    "print('R')\n",
    "plt.imshow(np.log(np.abs(covariance_R)))\n",
    "plt.colorbar()\n",
    "plt.show()\n",
    "print('L')\n",
    "\n",
    "plt.imshow(np.log(np.abs(covariance_L)))\n",
    "plt.colorbar()\n",
    "plt.show()\n",
    "print('C')\n",
    "\n",
    "plt.imshow(np.log(np.abs(covariance_C)))\n",
    "plt.colorbar()\n",
    "plt.show()"
   ],
   "metadata": {
    "collapsed": false,
    "pycharm": {
     "name": "#%%\n"
    }
   }
  },
  {
   "cell_type": "markdown",
   "source": [
    "### Fit accuracy\n",
    "We are now going to evaluate the fit accuracy parameters."
   ],
   "metadata": {
    "collapsed": false
   }
  },
  {
   "cell_type": "markdown",
   "source": [],
   "metadata": {
    "collapsed": false
   }
  },
  {
   "cell_type": "code",
   "execution_count": null,
   "outputs": [],
   "source": [
    "phase_gen_model = Gen_phase_model(frequencies, fit_gen[0])\n",
    "residual_gen = phaseGen - phase_gen_model\n",
    "phase_R_model = R_phase_model(frequencies, fit_R[0], fit_R[1], fit_R[2])\n",
    "residual_R = phaseR - phase_R_model\n",
    "phase_L_model = L_phase_model(frequencies, fit_L[0], fit_L[1], fit_L[2])\n",
    "residual_L = phaseL - phase_L_model\n",
    "phase_C_model = C_phase_model(frequencies, fit_C[0], fit_C[1], fit_C[2])\n",
    "residual_C = phaseC - phase_C_model"
   ],
   "metadata": {
    "collapsed": false,
    "pycharm": {
     "name": "#%%\n"
    }
   }
  },
  {
   "cell_type": "code",
   "execution_count": null,
   "outputs": [],
   "source": [
    "chisq_gen = sum((residual_gen/ phaseError)**2)\n",
    "degrees_of_freedom_gen = len(residual_gen) - len(initial_guess_gen)\n",
    "reduced_chisq_gen = chisq_gen / degrees_of_freedom_gen\n",
    "\n",
    "chisq_R = sum((residual_R/ phaseError)**2)\n",
    "degrees_of_freedom_R = len(residual_R) - len(initial_guess_R)\n",
    "reduced_chisq_R = chisq_R / degrees_of_freedom_R\n",
    "\n",
    "chisq_L = sum((residual_L/ phaseError)**2) #typo corrected\n",
    "degrees_of_freedom_L = len(residual_L) - len(initial_guess_L)\n",
    "reduced_chisq_L = chisq_L / degrees_of_freedom_L\n",
    "\n",
    "chisq_C = sum((residual_C/ phaseError)**2) #typo corrected\n",
    "degrees_of_freedom_C = len(residual_C) - len(initial_guess_C)\n",
    "reduced_chisq_C = chisq_C / degrees_of_freedom_C\n",
    "\n",
    "print('GEN')\n",
    "print('chi-square      = ',chisq_gen)\n",
    "print('degrees of freedom = ',degrees_of_freedom_gen)\n",
    "print('reduced chi-square = ',reduced_chisq_gen)\n",
    "\n",
    "print('R')\n",
    "print('chi-square        = ',chisq_R)\n",
    "print('degrees of freedom = ',degrees_of_freedom_R)\n",
    "print('reduced chi-square = ',reduced_chisq_R)\n",
    "\n",
    "print('L')\n",
    "print('chi-square         = ',chisq_L)\n",
    "print('degrees of freedom = ',degrees_of_freedom_L)\n",
    "print('reduced chi-square = ',reduced_chisq_L)\n",
    "\n",
    "print('C')\n",
    "print('chi-square    = ',chisq_C)\n",
    "print('degrees of freedom = ',degrees_of_freedom_C)\n",
    "print('reduced chi-square = ',reduced_chisq_C)\n"
   ],
   "metadata": {
    "collapsed": false,
    "pycharm": {
     "name": "#%%\n"
    }
   }
  },
  {
   "cell_type": "markdown",
   "source": [
    "## Plotting data\n",
    "Now that we're done with fitting let's plot our data using [matplotlib](https://matplotlib.org)."
   ],
   "metadata": {
    "collapsed": false
   }
  },
  {
   "cell_type": "code",
   "execution_count": null,
   "outputs": [],
   "source": [
    "plt.figure(figsize = (11,8))                  #specify figure size as 7 x 5 inches\n",
    "#for default size, type plt.figure()\n",
    "\n",
    "plt.xlabel(r\"$f$ [Hz]\", fontsize = 16) #label axis (using LaTeX commands)\n",
    "plt.ylabel(r\"$V_R$ [volts]\", fontsize = 16)   #use 18 point font for label text\n",
    "\n",
    "# Plotting the actual experimental data\n",
    "plt.errorbar(frequencies, phaseR,\n",
    "             xerr=None, yerr=phaseError,\n",
    "             linestyle = 'none',\n",
    "             color = 'orange',\n",
    "             capsize = 3, capthick = 1, label = \"amp R data\")\n",
    "plt.errorbar(frequencies, phaseGen,\n",
    "             xerr=None, yerr=phaseError,\n",
    "             linestyle = 'none',\n",
    "             color = 'orange',\n",
    "             capsize = 3, capthick = 1, label = \"amp R data\")\n",
    "plt.errorbar(frequencies, phaseL,\n",
    "             xerr=None, yerr=phaseError,\n",
    "             linestyle = 'none',\n",
    "             color = 'orange',\n",
    "             capsize = 3, capthick = 1, label = \"amp L data\")\n",
    "plt.errorbar(frequencies, phaseC,\n",
    "             xerr=None, yerr=phaseError,\n",
    "             linestyle = 'none',\n",
    "             color = 'orange',\n",
    "             capsize = 3, capthick = 1, label = \"amp C data\")\n",
    "\n",
    "#create curve showing fit to data\n",
    "freq_fit = np.linspace(5000, 35000, 100)\n",
    "VR_fit = R_phase_model(freq_fit, fit_R[0], fit_R[1], fit_R[2])\n",
    "VL_fit = L_phase_model(freq_fit, fit_L[0], fit_L[1], fit_L[2])\n",
    "VC_fit = C_phase_model(freq_fit, fit_C[0], fit_C[1], fit_C[2])\n",
    "\n",
    "#plotting the fitting curves\n",
    "plt.errorbar(freq_fit, VR_fit, xerr = None, yerr = sigmaPos, color = 'red', label = 'V_R fit' )\n",
    "plt.errorbar(freq_fit, VL_fit, xerr = None, yerr = sigmaPos, color = 'green', label = 'V_L fit' )\n",
    "plt.errorbar(freq_fit, VC_fit, xerr = None, yerr = sigmaPos, color = 'blue', label = 'V_C fit' )\n",
    "plt.xlim(4900 , 36000)\n",
    "# plt.ylim(0.0,7.0)\n",
    "# plt.xticks([0, 30, 60, 90, 120, 150, 180, 210, 240, 270, 300, 330, 360],\n",
    "#            ('0', '', '', 90,  '',  '', 180,  '',  '', 270,  '',  '', 360))\n",
    "plt.legend(loc = 'best')\n",
    "\n",
    "plt.savefig('figs/Phases-scipy.pdf')\n"
   ],
   "metadata": {
    "collapsed": false,
    "pycharm": {
     "name": "#%%\n"
    }
   }
  },
  {
   "cell_type": "markdown",
   "source": [],
   "metadata": {
    "collapsed": false
   }
  },
  {
   "cell_type": "markdown",
   "metadata": {
    "pycharm": {
     "name": "#%% md\n"
    }
   },
   "source": []
  }
 ],
 "metadata": {
  "kernelspec": {
   "display_name": "Python 3 (ipykernel)",
   "language": "python",
   "name": "python3"
  },
  "language_info": {
   "codemirror_mode": {
    "name": "ipython",
    "version": 3
   },
   "file_extension": ".py",
   "mimetype": "text/x-python",
   "name": "python",
   "nbconvert_exporter": "python",
   "pygments_lexer": "ipython3",
   "version": "3.9.10"
  }
 },
 "nbformat": 4,
 "nbformat_minor": 1
}