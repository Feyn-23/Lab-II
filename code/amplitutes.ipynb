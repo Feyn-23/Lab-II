{
 "cells": [
  {
   "cell_type": "markdown",
   "metadata": {},
   "source": [
    "# Amplitudes analysis"
   ]
  },
  {
   "cell_type": "code",
   "execution_count": 3,
   "outputs": [],
   "source": [
    "import numpy as np\n",
    "from matplotlib import pyplot as plt #this is the traditional method\n",
    "from statistics import stdev\n",
    "from scipy.optimize import curve_fit # import method used here"
   ],
   "metadata": {
    "collapsed": false,
    "pycharm": {
     "name": "#%%\n"
    }
   }
  },
  {
   "cell_type": "markdown",
   "source": [
    "Importing data from files:\n",
    "- Frequencies and tension amplitudes\n",
    "- (Constant frequency) Tension-time measurements to estimate noise through generator amplitude"
   ],
   "metadata": {
    "collapsed": false
   }
  },
  {
   "cell_type": "code",
   "execution_count": 4,
   "metadata": {
    "pycharm": {
     "name": "#%%\n"
    }
   },
   "outputs": [
    {
     "data": {
      "text/plain": "array([2.44059, 2.44033, 2.44031, 2.44058, 2.44015, 2.44037, 2.44004,\n       2.44014, 2.44028, 2.44024, 2.44051, 2.44041, 2.44041, 2.44034,\n       2.44053, 2.44053, 2.4404 , 2.44034, 2.44034, 2.44017, 2.44032,\n       2.43998, 2.44028, 2.44034, 2.44028, 2.44042, 2.44062, 2.44037,\n       2.44053, 2.4404 , 2.44083, 2.44036, 2.4403 , 2.44042, 2.43994,\n       2.4404 , 2.44037, 2.44026, 2.44069, 2.44052, 2.44045, 2.44029,\n       2.44045, 2.44036, 2.44037, 2.44037, 2.44036, 2.44043, 2.44036,\n       2.44052, 2.44064, 2.44061, 2.44017, 2.44027, 2.44046, 2.4402 ,\n       2.44049, 2.44022, 2.44045, 2.44033, 2.44029, 2.44049, 2.44033,\n       2.44034, 2.44055, 2.44033, 2.44044, 2.44004, 2.44004, 2.44043,\n       2.44065, 2.44042, 2.44042, 2.44038, 2.44067, 2.44036, 2.44051,\n       2.44066, 2.44073, 2.44059, 2.44063, 2.44036, 2.44075, 2.44064,\n       2.44045, 2.44065, 2.44057, 2.44061, 2.44033, 2.44076, 2.44043,\n       2.44078, 2.44042, 2.44053, 2.44043, 2.44054, 2.4403 , 2.4404 ,\n       2.4403 , 2.44025, 2.44075, 2.44058, 2.44057, 2.44047, 2.44034,\n       2.44049, 2.44047, 2.44055, 2.44061, 2.44047, 2.44059, 2.44036,\n       2.44065, 2.4403 , 2.44041, 2.44031, 2.44032, 2.4406 , 2.44033,\n       2.44029, 2.44028, 2.44032, 2.44034, 2.44024, 2.4403 , 2.44049,\n       2.44073, 2.44032, 2.44064, 2.44041, 2.44033, 2.44059, 2.44035,\n       2.44067, 2.44033, 2.44031, 2.44057, 2.44052, 2.44034, 2.44081,\n       2.4407 , 2.44038, 2.4405 , 2.44056, 2.44051, 2.44028, 2.44041,\n       2.44011, 2.44043, 2.44026, 2.44051, 2.44033, 2.44038, 2.44024,\n       2.44056, 2.44055, 2.44022, 2.44047, 2.44054, 2.44039, 2.44032,\n       2.44038, 2.44053, 2.44061, 2.44026, 2.44062, 2.44071, 2.44077,\n       2.44074, 2.4407 , 2.44033, 2.44046, 2.44014, 2.44044, 2.44037,\n       2.44019, 2.44061, 2.44029, 2.44047, 2.44044, 2.44068, 2.44042,\n       2.44039, 2.44045, 2.44078, 2.44026, 2.44062, 2.44053, 2.44053,\n       2.44038, 2.44052, 2.44049, 2.44057, 2.44052, 2.44059, 2.44064,\n       2.44011, 2.44036, 2.44049, 2.44069, 2.44042, 2.44039, 2.4407 ,\n       2.44046, 2.44057, 2.44062, 2.44057, 2.44046, 2.44029, 2.44063,\n       2.44074, 2.44019, 2.4407 , 2.44025, 2.44063, 2.44055, 2.44055,\n       2.4404 , 2.44054, 2.44052, 2.44027, 2.44054, 2.44053, 2.44049,\n       2.44062, 2.44039, 2.44069, 2.44063, 2.44034, 2.44053, 2.44067,\n       2.44067, 2.44058, 2.44075, 2.44036, 2.44037, 2.44071, 2.44038,\n       2.44074, 2.44063, 2.4401 , 2.44043, 2.44032, 2.44048, 2.44069,\n       2.44055, 2.44035, 2.44045, 2.44048, 2.44023, 2.44049, 2.44038,\n       2.44048, 2.44035, 2.44051, 2.4403 , 2.44032, 2.44008, 2.44035,\n       2.4404 , 2.44022, 2.44054, 2.4403 , 2.44042, 2.44037, 2.44017,\n       2.44045, 2.44025, 2.44013, 2.44013, 2.44024, 2.44064, 2.44037,\n       2.44034, 2.44029, 2.44063, 2.44053, 2.44089, 2.44029, 2.44038,\n       2.44048, 2.44043, 2.44024, 2.44035, 2.44066, 2.44024, 2.44038,\n       2.44036, 2.44034, 2.44034, 2.44091, 2.4404 , 2.44055, 2.44041,\n       2.44019, 2.44061, 2.44054, 2.44029, 2.44038, 2.44051, 2.44034,\n       2.44072, 2.44023, 2.4405 , 2.44064, 2.44049, 2.44032, 2.44041,\n       2.44055, 2.44011, 2.44012, 2.44035, 2.44058, 2.44041, 2.4404 ,\n       2.44057, 2.44028, 2.44048, 2.44064, 2.44075, 2.44043, 2.44057,\n       2.44023, 2.44071, 2.44065, 2.44035, 2.44006, 2.44043, 2.44027,\n       2.44044, 2.44047, 2.44042, 2.44023, 2.44058, 2.44035, 2.44039,\n       2.44017, 2.44064, 2.44031, 2.44035, 2.44071, 2.44041, 2.44024,\n       2.44018, 2.44055, 2.44059, 2.44038, 2.44048, 2.44055, 2.44052,\n       2.44045, 2.44033, 2.44053, 2.44046, 2.44068, 2.44045, 2.44038,\n       2.44057, 2.44033, 2.44036, 2.44029, 2.44053, 2.44035, 2.4403 ,\n       2.44065, 2.44051, 2.44072, 2.44057, 2.44066, 2.44027, 2.44058,\n       2.44067, 2.44035, 2.44048, 2.44039, 2.4403 , 2.44021, 2.44051,\n       2.44064, 2.44052, 2.44031, 2.44041, 2.44042, 2.44047, 2.44068,\n       2.44064, 2.44063, 2.44031, 2.44041, 2.44069, 2.44043, 2.44089,\n       2.44042, 2.44053, 2.44063, 2.44048, 2.44061, 2.44073, 2.44047,\n       2.44057, 2.44049, 2.4404 , 2.44063, 2.44064, 2.44048, 2.44056,\n       2.44026, 2.44053, 2.44061, 2.44036, 2.44042, 2.44061, 2.44039,\n       2.44045, 2.44054, 2.44047, 2.44041, 2.44069, 2.44061, 2.44028,\n       2.44065, 2.44074, 2.44081, 2.44043, 2.44032, 2.44059, 2.44047,\n       2.44036, 2.4405 , 2.44065, 2.4401 , 2.44049, 2.44057, 2.44075,\n       2.44077, 2.4406 , 2.44056, 2.44029, 2.4403 , 2.44035, 2.44059,\n       2.44039, 2.44026, 2.4404 , 2.44058, 2.44051, 2.44038, 2.44038,\n       2.44069, 2.44075, 2.4406 , 2.44081, 2.44048, 2.4404 , 2.44065,\n       2.4404 , 2.44058, 2.44059, 2.44052, 2.44056, 2.4407 , 2.44042,\n       2.44052, 2.44041, 2.44042, 2.44063, 2.44047, 2.4405 , 2.44058,\n       2.44076, 2.44053, 2.44081, 2.44094, 2.44075, 2.4405 , 2.44069,\n       2.44081, 2.44097, 2.44047, 2.44074, 2.44083, 2.44092, 2.44055,\n       2.44052, 2.44039, 2.4405 , 2.4405 , 2.44065, 2.44061, 2.44059,\n       2.44044, 2.44068, 2.44031, 2.44044, 2.44085, 2.44081, 2.44061,\n       2.44047, 2.44041, 2.44045, 2.44067, 2.44052, 2.44087, 2.44055,\n       2.44073, 2.44054, 2.4405 , 2.44058, 2.44051, 2.44043, 2.44047,\n       2.44041, 2.44036, 2.44056, 2.44067, 2.44078, 2.44057, 2.44039,\n       2.4405 , 2.44053, 2.44069, 2.44034, 2.44066, 2.44028, 2.4405 ,\n       2.44073, 2.44037, 2.44065, 2.44049, 2.44078, 2.44073, 2.44048,\n       2.44064, 2.44057, 2.44063, 2.44067, 2.44043])"
     },
     "execution_count": 4,
     "metadata": {},
     "output_type": "execute_result"
    }
   ],
   "source": [
    "file_folder = '../data/III session/Frequency response/'\n",
    "file_name = 'amplitudes.csv'\n",
    "data_file = file_folder + file_name\n",
    "frequencies, amplitudeGen, amplitudeR, amplitudeL, amplitudeC  = np.loadtxt(data_file, delimiter = ',', skiprows = 1, usecols = (0, 1, 2, 3, 4), unpack = True)\n",
    "\n",
    "folder = '../data/III session/Constant frequency/'\n",
    "file_name = 'ampFCost19.5kHz.csv'\n",
    "data_file = folder + file_name\n",
    "ampGenFcost = np.loadtxt(data_file, delimiter=',', skiprows=1, usecols=(1), unpack=True)\n",
    "ampGenFcost"
   ]
  },
  {
   "cell_type": "markdown",
   "source": [
    "The data scatter plots are the following:"
   ],
   "metadata": {
    "collapsed": false
   }
  },
  {
   "cell_type": "code",
   "execution_count": 5,
   "outputs": [
    {
     "ename": "FileNotFoundError",
     "evalue": "[Errno 2] No such file or directory: 'figs/scatterplot amplitudes.pdf'",
     "output_type": "error",
     "traceback": [
      "\u001B[0;31m---------------------------------------------------------------------------\u001B[0m",
      "\u001B[0;31mFileNotFoundError\u001B[0m                         Traceback (most recent call last)",
      "Input \u001B[0;32mIn [5]\u001B[0m, in \u001B[0;36m<cell line: 6>\u001B[0;34m()\u001B[0m\n\u001B[1;32m      3\u001B[0m plt\u001B[38;5;241m.\u001B[39mscatter(frequencies,amplitudeL)\n\u001B[1;32m      4\u001B[0m plt\u001B[38;5;241m.\u001B[39mscatter(frequencies,amplitudeC)\n\u001B[0;32m----> 6\u001B[0m \u001B[43mplt\u001B[49m\u001B[38;5;241;43m.\u001B[39;49m\u001B[43msavefig\u001B[49m\u001B[43m(\u001B[49m\u001B[38;5;124;43m'\u001B[39;49m\u001B[38;5;124;43mfigs/scatterplot amplitudes.pdf\u001B[39;49m\u001B[38;5;124;43m'\u001B[39;49m\u001B[43m)\u001B[49m\n",
      "File \u001B[0;32m~/miniforge3/lib/python3.9/site-packages/matplotlib/pyplot.py:958\u001B[0m, in \u001B[0;36msavefig\u001B[0;34m(*args, **kwargs)\u001B[0m\n\u001B[1;32m    955\u001B[0m \u001B[38;5;129m@_copy_docstring_and_deprecators\u001B[39m(Figure\u001B[38;5;241m.\u001B[39msavefig)\n\u001B[1;32m    956\u001B[0m \u001B[38;5;28;01mdef\u001B[39;00m \u001B[38;5;21msavefig\u001B[39m(\u001B[38;5;241m*\u001B[39margs, \u001B[38;5;241m*\u001B[39m\u001B[38;5;241m*\u001B[39mkwargs):\n\u001B[1;32m    957\u001B[0m     fig \u001B[38;5;241m=\u001B[39m gcf()\n\u001B[0;32m--> 958\u001B[0m     res \u001B[38;5;241m=\u001B[39m \u001B[43mfig\u001B[49m\u001B[38;5;241;43m.\u001B[39;49m\u001B[43msavefig\u001B[49m\u001B[43m(\u001B[49m\u001B[38;5;241;43m*\u001B[39;49m\u001B[43margs\u001B[49m\u001B[43m,\u001B[49m\u001B[43m \u001B[49m\u001B[38;5;241;43m*\u001B[39;49m\u001B[38;5;241;43m*\u001B[39;49m\u001B[43mkwargs\u001B[49m\u001B[43m)\u001B[49m\n\u001B[1;32m    959\u001B[0m     fig\u001B[38;5;241m.\u001B[39mcanvas\u001B[38;5;241m.\u001B[39mdraw_idle()   \u001B[38;5;66;03m# need this if 'transparent=True' to reset colors\u001B[39;00m\n\u001B[1;32m    960\u001B[0m     \u001B[38;5;28;01mreturn\u001B[39;00m res\n",
      "File \u001B[0;32m~/miniforge3/lib/python3.9/site-packages/matplotlib/figure.py:3019\u001B[0m, in \u001B[0;36mFigure.savefig\u001B[0;34m(self, fname, transparent, **kwargs)\u001B[0m\n\u001B[1;32m   3015\u001B[0m     \u001B[38;5;28;01mfor\u001B[39;00m ax \u001B[38;5;129;01min\u001B[39;00m \u001B[38;5;28mself\u001B[39m\u001B[38;5;241m.\u001B[39maxes:\n\u001B[1;32m   3016\u001B[0m         stack\u001B[38;5;241m.\u001B[39menter_context(\n\u001B[1;32m   3017\u001B[0m             ax\u001B[38;5;241m.\u001B[39mpatch\u001B[38;5;241m.\u001B[39m_cm_set(facecolor\u001B[38;5;241m=\u001B[39m\u001B[38;5;124m'\u001B[39m\u001B[38;5;124mnone\u001B[39m\u001B[38;5;124m'\u001B[39m, edgecolor\u001B[38;5;241m=\u001B[39m\u001B[38;5;124m'\u001B[39m\u001B[38;5;124mnone\u001B[39m\u001B[38;5;124m'\u001B[39m))\n\u001B[0;32m-> 3019\u001B[0m \u001B[38;5;28;43mself\u001B[39;49m\u001B[38;5;241;43m.\u001B[39;49m\u001B[43mcanvas\u001B[49m\u001B[38;5;241;43m.\u001B[39;49m\u001B[43mprint_figure\u001B[49m\u001B[43m(\u001B[49m\u001B[43mfname\u001B[49m\u001B[43m,\u001B[49m\u001B[43m \u001B[49m\u001B[38;5;241;43m*\u001B[39;49m\u001B[38;5;241;43m*\u001B[39;49m\u001B[43mkwargs\u001B[49m\u001B[43m)\u001B[49m\n",
      "File \u001B[0;32m~/miniforge3/lib/python3.9/site-packages/matplotlib/backend_bases.py:2319\u001B[0m, in \u001B[0;36mFigureCanvasBase.print_figure\u001B[0;34m(self, filename, dpi, facecolor, edgecolor, orientation, format, bbox_inches, pad_inches, bbox_extra_artists, backend, **kwargs)\u001B[0m\n\u001B[1;32m   2315\u001B[0m \u001B[38;5;28;01mtry\u001B[39;00m:\n\u001B[1;32m   2316\u001B[0m     \u001B[38;5;66;03m# _get_renderer may change the figure dpi (as vector formats\u001B[39;00m\n\u001B[1;32m   2317\u001B[0m     \u001B[38;5;66;03m# force the figure dpi to 72), so we need to set it again here.\u001B[39;00m\n\u001B[1;32m   2318\u001B[0m     \u001B[38;5;28;01mwith\u001B[39;00m cbook\u001B[38;5;241m.\u001B[39m_setattr_cm(\u001B[38;5;28mself\u001B[39m\u001B[38;5;241m.\u001B[39mfigure, dpi\u001B[38;5;241m=\u001B[39mdpi):\n\u001B[0;32m-> 2319\u001B[0m         result \u001B[38;5;241m=\u001B[39m \u001B[43mprint_method\u001B[49m\u001B[43m(\u001B[49m\n\u001B[1;32m   2320\u001B[0m \u001B[43m            \u001B[49m\u001B[43mfilename\u001B[49m\u001B[43m,\u001B[49m\n\u001B[1;32m   2321\u001B[0m \u001B[43m            \u001B[49m\u001B[43mfacecolor\u001B[49m\u001B[38;5;241;43m=\u001B[39;49m\u001B[43mfacecolor\u001B[49m\u001B[43m,\u001B[49m\n\u001B[1;32m   2322\u001B[0m \u001B[43m            \u001B[49m\u001B[43medgecolor\u001B[49m\u001B[38;5;241;43m=\u001B[39;49m\u001B[43medgecolor\u001B[49m\u001B[43m,\u001B[49m\n\u001B[1;32m   2323\u001B[0m \u001B[43m            \u001B[49m\u001B[43morientation\u001B[49m\u001B[38;5;241;43m=\u001B[39;49m\u001B[43morientation\u001B[49m\u001B[43m,\u001B[49m\n\u001B[1;32m   2324\u001B[0m \u001B[43m            \u001B[49m\u001B[43mbbox_inches_restore\u001B[49m\u001B[38;5;241;43m=\u001B[39;49m\u001B[43m_bbox_inches_restore\u001B[49m\u001B[43m,\u001B[49m\n\u001B[1;32m   2325\u001B[0m \u001B[43m            \u001B[49m\u001B[38;5;241;43m*\u001B[39;49m\u001B[38;5;241;43m*\u001B[39;49m\u001B[43mkwargs\u001B[49m\u001B[43m)\u001B[49m\n\u001B[1;32m   2326\u001B[0m \u001B[38;5;28;01mfinally\u001B[39;00m:\n\u001B[1;32m   2327\u001B[0m     \u001B[38;5;28;01mif\u001B[39;00m bbox_inches \u001B[38;5;129;01mand\u001B[39;00m restore_bbox:\n",
      "File \u001B[0;32m~/miniforge3/lib/python3.9/site-packages/matplotlib/backend_bases.py:1648\u001B[0m, in \u001B[0;36m_check_savefig_extra_args.<locals>.wrapper\u001B[0;34m(*args, **kwargs)\u001B[0m\n\u001B[1;32m   1640\u001B[0m     _api\u001B[38;5;241m.\u001B[39mwarn_deprecated(\n\u001B[1;32m   1641\u001B[0m         \u001B[38;5;124m'\u001B[39m\u001B[38;5;124m3.3\u001B[39m\u001B[38;5;124m'\u001B[39m, name\u001B[38;5;241m=\u001B[39mname, removal\u001B[38;5;241m=\u001B[39m\u001B[38;5;124m'\u001B[39m\u001B[38;5;124m3.6\u001B[39m\u001B[38;5;124m'\u001B[39m,\n\u001B[1;32m   1642\u001B[0m         message\u001B[38;5;241m=\u001B[39m\u001B[38;5;124m'\u001B[39m\u001B[38;5;132;01m%(name)s\u001B[39;00m\u001B[38;5;124m() got unexpected keyword argument \u001B[39m\u001B[38;5;124m\"\u001B[39m\u001B[38;5;124m'\u001B[39m\n\u001B[1;32m   1643\u001B[0m                 \u001B[38;5;241m+\u001B[39m arg \u001B[38;5;241m+\u001B[39m \u001B[38;5;124m'\u001B[39m\u001B[38;5;124m\"\u001B[39m\u001B[38;5;124m which is no longer supported as of \u001B[39m\u001B[38;5;124m'\u001B[39m\n\u001B[1;32m   1644\u001B[0m                 \u001B[38;5;124m'\u001B[39m\u001B[38;5;132;01m%(since)s\u001B[39;00m\u001B[38;5;124m and will become an error \u001B[39m\u001B[38;5;124m'\u001B[39m\n\u001B[1;32m   1645\u001B[0m                 \u001B[38;5;124m'\u001B[39m\u001B[38;5;132;01m%(removal)s\u001B[39;00m\u001B[38;5;124m'\u001B[39m)\n\u001B[1;32m   1646\u001B[0m     kwargs\u001B[38;5;241m.\u001B[39mpop(arg)\n\u001B[0;32m-> 1648\u001B[0m \u001B[38;5;28;01mreturn\u001B[39;00m \u001B[43mfunc\u001B[49m\u001B[43m(\u001B[49m\u001B[38;5;241;43m*\u001B[39;49m\u001B[43margs\u001B[49m\u001B[43m,\u001B[49m\u001B[43m \u001B[49m\u001B[38;5;241;43m*\u001B[39;49m\u001B[38;5;241;43m*\u001B[39;49m\u001B[43mkwargs\u001B[49m\u001B[43m)\u001B[49m\n",
      "File \u001B[0;32m~/miniforge3/lib/python3.9/site-packages/matplotlib/_api/deprecation.py:386\u001B[0m, in \u001B[0;36mdelete_parameter.<locals>.wrapper\u001B[0;34m(*inner_args, **inner_kwargs)\u001B[0m\n\u001B[1;32m    381\u001B[0m \u001B[38;5;129m@functools\u001B[39m\u001B[38;5;241m.\u001B[39mwraps(func)\n\u001B[1;32m    382\u001B[0m \u001B[38;5;28;01mdef\u001B[39;00m \u001B[38;5;21mwrapper\u001B[39m(\u001B[38;5;241m*\u001B[39minner_args, \u001B[38;5;241m*\u001B[39m\u001B[38;5;241m*\u001B[39minner_kwargs):\n\u001B[1;32m    383\u001B[0m     \u001B[38;5;28;01mif\u001B[39;00m \u001B[38;5;28mlen\u001B[39m(inner_args) \u001B[38;5;241m<\u001B[39m\u001B[38;5;241m=\u001B[39m name_idx \u001B[38;5;129;01mand\u001B[39;00m name \u001B[38;5;129;01mnot\u001B[39;00m \u001B[38;5;129;01min\u001B[39;00m inner_kwargs:\n\u001B[1;32m    384\u001B[0m         \u001B[38;5;66;03m# Early return in the simple, non-deprecated case (much faster than\u001B[39;00m\n\u001B[1;32m    385\u001B[0m         \u001B[38;5;66;03m# calling bind()).\u001B[39;00m\n\u001B[0;32m--> 386\u001B[0m         \u001B[38;5;28;01mreturn\u001B[39;00m \u001B[43mfunc\u001B[49m\u001B[43m(\u001B[49m\u001B[38;5;241;43m*\u001B[39;49m\u001B[43minner_args\u001B[49m\u001B[43m,\u001B[49m\u001B[43m \u001B[49m\u001B[38;5;241;43m*\u001B[39;49m\u001B[38;5;241;43m*\u001B[39;49m\u001B[43minner_kwargs\u001B[49m\u001B[43m)\u001B[49m\n\u001B[1;32m    387\u001B[0m     arguments \u001B[38;5;241m=\u001B[39m signature\u001B[38;5;241m.\u001B[39mbind(\u001B[38;5;241m*\u001B[39minner_args, \u001B[38;5;241m*\u001B[39m\u001B[38;5;241m*\u001B[39minner_kwargs)\u001B[38;5;241m.\u001B[39marguments\n\u001B[1;32m    388\u001B[0m     \u001B[38;5;28;01mif\u001B[39;00m is_varargs \u001B[38;5;129;01mand\u001B[39;00m arguments\u001B[38;5;241m.\u001B[39mget(name):\n",
      "File \u001B[0;32m~/miniforge3/lib/python3.9/site-packages/matplotlib/backends/backend_pdf.py:2778\u001B[0m, in \u001B[0;36mFigureCanvasPdf.print_pdf\u001B[0;34m(self, filename, dpi, bbox_inches_restore, metadata)\u001B[0m\n\u001B[1;32m   2776\u001B[0m     file \u001B[38;5;241m=\u001B[39m filename\u001B[38;5;241m.\u001B[39m_file\n\u001B[1;32m   2777\u001B[0m \u001B[38;5;28;01melse\u001B[39;00m:\n\u001B[0;32m-> 2778\u001B[0m     file \u001B[38;5;241m=\u001B[39m \u001B[43mPdfFile\u001B[49m\u001B[43m(\u001B[49m\u001B[43mfilename\u001B[49m\u001B[43m,\u001B[49m\u001B[43m \u001B[49m\u001B[43mmetadata\u001B[49m\u001B[38;5;241;43m=\u001B[39;49m\u001B[43mmetadata\u001B[49m\u001B[43m)\u001B[49m\n\u001B[1;32m   2779\u001B[0m \u001B[38;5;28;01mtry\u001B[39;00m:\n\u001B[1;32m   2780\u001B[0m     file\u001B[38;5;241m.\u001B[39mnewPage(width, height)\n",
      "File \u001B[0;32m~/miniforge3/lib/python3.9/site-packages/matplotlib/backends/backend_pdf.py:654\u001B[0m, in \u001B[0;36mPdfFile.__init__\u001B[0;34m(self, filename, metadata)\u001B[0m\n\u001B[1;32m    652\u001B[0m \u001B[38;5;28mself\u001B[39m\u001B[38;5;241m.\u001B[39moriginal_file_like \u001B[38;5;241m=\u001B[39m \u001B[38;5;28;01mNone\u001B[39;00m\n\u001B[1;32m    653\u001B[0m \u001B[38;5;28mself\u001B[39m\u001B[38;5;241m.\u001B[39mtell_base \u001B[38;5;241m=\u001B[39m \u001B[38;5;241m0\u001B[39m\n\u001B[0;32m--> 654\u001B[0m fh, opened \u001B[38;5;241m=\u001B[39m \u001B[43mcbook\u001B[49m\u001B[38;5;241;43m.\u001B[39;49m\u001B[43mto_filehandle\u001B[49m\u001B[43m(\u001B[49m\u001B[43mfilename\u001B[49m\u001B[43m,\u001B[49m\u001B[43m \u001B[49m\u001B[38;5;124;43m\"\u001B[39;49m\u001B[38;5;124;43mwb\u001B[39;49m\u001B[38;5;124;43m\"\u001B[39;49m\u001B[43m,\u001B[49m\u001B[43m \u001B[49m\u001B[43mreturn_opened\u001B[49m\u001B[38;5;241;43m=\u001B[39;49m\u001B[38;5;28;43;01mTrue\u001B[39;49;00m\u001B[43m)\u001B[49m\n\u001B[1;32m    655\u001B[0m \u001B[38;5;28;01mif\u001B[39;00m \u001B[38;5;129;01mnot\u001B[39;00m opened:\n\u001B[1;32m    656\u001B[0m     \u001B[38;5;28;01mtry\u001B[39;00m:\n",
      "File \u001B[0;32m~/miniforge3/lib/python3.9/site-packages/matplotlib/cbook/__init__.py:451\u001B[0m, in \u001B[0;36mto_filehandle\u001B[0;34m(fname, flag, return_opened, encoding)\u001B[0m\n\u001B[1;32m    449\u001B[0m         fh \u001B[38;5;241m=\u001B[39m bz2\u001B[38;5;241m.\u001B[39mBZ2File(fname, flag)\n\u001B[1;32m    450\u001B[0m     \u001B[38;5;28;01melse\u001B[39;00m:\n\u001B[0;32m--> 451\u001B[0m         fh \u001B[38;5;241m=\u001B[39m \u001B[38;5;28;43mopen\u001B[39;49m\u001B[43m(\u001B[49m\u001B[43mfname\u001B[49m\u001B[43m,\u001B[49m\u001B[43m \u001B[49m\u001B[43mflag\u001B[49m\u001B[43m,\u001B[49m\u001B[43m \u001B[49m\u001B[43mencoding\u001B[49m\u001B[38;5;241;43m=\u001B[39;49m\u001B[43mencoding\u001B[49m\u001B[43m)\u001B[49m\n\u001B[1;32m    452\u001B[0m     opened \u001B[38;5;241m=\u001B[39m \u001B[38;5;28;01mTrue\u001B[39;00m\n\u001B[1;32m    453\u001B[0m \u001B[38;5;28;01melif\u001B[39;00m \u001B[38;5;28mhasattr\u001B[39m(fname, \u001B[38;5;124m'\u001B[39m\u001B[38;5;124mseek\u001B[39m\u001B[38;5;124m'\u001B[39m):\n",
      "\u001B[0;31mFileNotFoundError\u001B[0m: [Errno 2] No such file or directory: 'figs/scatterplot amplitudes.pdf'"
     ]
    },
    {
     "data": {
      "text/plain": "<Figure size 432x288 with 1 Axes>",
      "image/png": "[encoded data removed]"
     },
     "metadata": {
      "needs_background": "light"
     },
     "output_type": "display_data"
    }
   ],
   "source": [
    "plt.scatter(frequencies,amplitudeR)\n",
    "plt.scatter(frequencies,amplitudeGen)\n",
    "plt.scatter(frequencies,amplitudeL)\n",
    "plt.scatter(frequencies,amplitudeC)\n",
    "\n",
    "plt.savefig('figs/scatterplot amplitudes.pdf')"
   ],
   "metadata": {
    "collapsed": false,
    "pycharm": {
     "name": "#%%\n"
    }
   }
  },
  {
   "cell_type": "markdown",
   "source": [
    "We now compute $\\sigma$ from data (half period since the use of a square wave) and we use it as our noise estimation."
   ],
   "metadata": {
    "collapsed": false
   }
  },
  {
   "cell_type": "code",
   "execution_count": null,
   "outputs": [],
   "source": [
    "sigma = stdev(ampGenFcost)\n",
    "\n",
    "ampError = []\n",
    "for x in range(len(frequencies)):\n",
    "    ampError.append(sigma)\n",
    "\n",
    "sigma"
   ],
   "metadata": {
    "collapsed": false,
    "pycharm": {
     "name": "#%%\n"
    }
   }
  },
  {
   "cell_type": "markdown",
   "source": [
    "---\n",
    "## Fitting data\n",
    "We are now going to use curve_fit() method from scipy.\n",
    "We now define the function we are going to fit the data with: $$ V_R = \\frac{R_rV_0}{\\sqrt{R^2+{ \\left(\\omega L - \\frac{1}{\\omega C}\\right)}^2}}$$\n",
    "$$ V_L = \\frac{\\omega L V_0}{\\sqrt{R^2+{ \\left(\\omega L - \\frac{1}{\\omega C}\\right)}^2}}$$\n",
    "$$ V_C = \\frac{\\frac{V_0}{\\omega C}}{\\sqrt{R^2+{ \\left(\\omega L - \\frac{1}{\\omega C}\\right)}^2}}$$\n",
    "\n",
    " $\\omega = 2 \\pi f$ with $f$ being the sinusoidal generator frequency. We've chosen to estimate the uncertainty associated to the amplitude measures with the sample standard deviation $\\sigma$ since how the DAQ program outputs the amplitude values is not known."
   ],
   "metadata": {
    "collapsed": false
   }
  },
  {
   "cell_type": "code",
   "execution_count": null,
   "outputs": [],
   "source": [
    "def Gen_amp_model(f, V_0):\n",
    "    return V_0\n",
    "def R_amp_model(f, R_r , R, L, C, V_0):\n",
    "    num = R_r * V_0\n",
    "    den = np.sqrt( R**2 + (2*np.pi*f * L - 1/(2*np.pi*f * C))**2)\n",
    "    return num / den\n",
    "def L_amp_model(f, R, L, C, V_0):\n",
    "    num = 2*np.pi*f * L * V_0\n",
    "    den = np.sqrt( R**2 + (2*np.pi*f * L - 1/(2*np.pi*f * C))**2)\n",
    "    return num / den\n",
    "def C_amp_model(f, R, L, C, V_0):\n",
    "    num = V_0 / (2*np.pi*f * C)\n",
    "    den = np.sqrt( R**2 + (2*np.pi*f * L - 1/(2*np.pi*f * C))**2)\n",
    "    return num / den"
   ],
   "metadata": {
    "collapsed": false,
    "pycharm": {
     "name": "#%%\n"
    }
   }
  },
  {
   "cell_type": "markdown",
   "source": [
    "We now have to make our initial guess of the fitting parameters. We can make exact initial guesses or set bounds for params values"
   ],
   "metadata": {
    "collapsed": false
   }
  },
  {
   "cell_type": "code",
   "execution_count": null,
   "outputs": [],
   "source": [
    "R_r = 996.7\n",
    "R = 1.17252e+03\n",
    "L = 4.741e-02\n",
    "C = 1.46e-09\n",
    "V_0 = 2.43\n",
    "\n",
    "initial_guess_gen = np.array([V_0])\n",
    "initial_guess_R = np.array([R_r , R, L, C, V_0])\n",
    "initial_guess_L = np.array([R, L, C, V_0])\n",
    "initial_guess_C = np.array([R, L, C, V_0])\n",
    "\n",
    "boundsGen = [[0.0],[3.0]]\n",
    "boundsR = [[990,990,3.5e-02,1.3e-09,0.0],[1200,2500,5e-02,1.6e-09,3.0]]\n",
    "boundsL = [[990,3.5e-02,1.3e-09,0.0],[2500,5e-02,1.6e-09,3.0]]\n",
    "boundsC = [[990,3.5e-02,1.3e-09,0.0],[2500,5e-02,1.6e-09,3.0]]"
   ],
   "metadata": {
    "collapsed": false,
    "pycharm": {
     "name": "#%%\n"
    }
   }
  },
  {
   "cell_type": "code",
   "execution_count": null,
   "metadata": {
    "pycharm": {
     "name": "#%%\n"
    }
   },
   "outputs": [],
   "source": [
    "# the method returns two arrays: one with the resulting fit parameters and then the covariance matrix\n",
    "fit_gen,covariance_gen = curve_fit(Gen_amp_model, frequencies, amplitudeGen,bounds=boundsGen,sigma=ampError,absolute_sigma=True)\n",
    "fit_R, covariance_R = curve_fit(R_amp_model, frequencies, amplitudeR,bounds=boundsR,sigma=ampError,absolute_sigma=True)\n",
    "fit_L, covariance_L = curve_fit(L_amp_model, frequencies, amplitudeL,bounds=boundsL,sigma=ampError,absolute_sigma=True)\n",
    "fit_C, covariance_C = curve_fit(C_amp_model, frequencies, amplitudeC,bounds=boundsC,sigma=ampError,absolute_sigma=True)\n",
    "\n",
    "#the elements on the the diagonal represent the errors on the fit parameters\n",
    "error_gen = np.sqrt(np.diag(covariance_gen))\n",
    "error_R = np.sqrt(np.diag(covariance_R))\n",
    "error_L = np.sqrt(np.diag(covariance_L))\n",
    "error_C = np.sqrt(np.diag(covariance_C))"
   ]
  },
  {
   "cell_type": "markdown",
   "source": [
    "### Fit results\n",
    "Printing out fit results"
   ],
   "metadata": {
    "collapsed": false
   }
  },
  {
   "cell_type": "code",
   "execution_count": null,
   "outputs": [],
   "source": [
    "print()\n",
    "print('V_0    = ','{:.3f}'.format(fit_gen[0]), '±', '{:.10f}'.format(error_gen[0]), ' V')\n",
    "\n",
    "print()\n",
    "print('R_r    = ','{:.3f}'.format(fit_R[0]), '±', '{:.10f}'.format(error_R[0]), ' $\\Omega$')\n",
    "print('R    = ','{:.3f}'.format(fit_R[1]), '±', '{:.10f}'.format(error_R[1]), ' $\\Omega$')\n",
    "print('L    = ','{:.5f}'.format(fit_R[2]), '±', '{:.10f}'.format(error_R[2]), ' Henry')\n",
    "print('C    = ','{:.12f}'.format(fit_R[3]), '±', '{:.12f}'.format(error_R[3]), ' F')\n",
    "print('V_0    = ','{:.3f}'.format(fit_R[4]), '±', '{:.10f}'.format(error_R[4]), ' V')\n",
    "\n",
    "print()\n",
    "print('R    = ','{:.3f}'.format(fit_L[0]), '±', '{:.10f}'.format(error_L[0]), ' $\\Omega$')\n",
    "print('L    = ','{:.5f}'.format(fit_L[1]), '±', '{:.10f}'.format(error_L[1]), ' Henry')\n",
    "print('C    = ','{:.12f}'.format(fit_L[2]), '±', '{:.12f}'.format(error_L[2]), ' F')\n",
    "print('V_0    = ','{:.3f}'.format(fit_L[3]), '±', '{:.10f}'.format(error_L[3]), ' V')\n",
    "\n",
    "print()\n",
    "print('R    = ','{:.3f}'.format(fit_C[0]), '±', '{:.10f}'.format(error_C[0]), ' $\\Omega$')\n",
    "print('L    = ','{:.5f}'.format(fit_C[1]), '±', '{:.10f}'.format(error_C[1]), ' Henry')\n",
    "print('C    = ','{:.12f}'.format(fit_C[2]), '±', '{:.12f}'.format(error_C[2]), ' F')\n",
    "print('V_0    = ','{:.3f}'.format(fit_C[3]), '±', '{:.10f}'.format(error_C[3]), ' V')"
   ],
   "metadata": {
    "collapsed": false,
    "pycharm": {
     "name": "#%%\n"
    }
   }
  },
  {
   "cell_type": "markdown",
   "source": [
    "#### Graphical error visualization\n",
    "We now try to visualize the covariance matrix with a colorplot:"
   ],
   "metadata": {
    "collapsed": false
   }
  },
  {
   "cell_type": "code",
   "execution_count": null,
   "outputs": [],
   "source": [
    "print('Gen')\n",
    "plt.imshow(np.log(np.abs(covariance_gen)))\n",
    "plt.colorbar()\n",
    "plt.show()\n",
    "\n",
    "print('R')\n",
    "plt.imshow(np.log(np.abs(covariance_R)))\n",
    "plt.colorbar()\n",
    "plt.show()\n",
    "print('L')\n",
    "\n",
    "plt.imshow(np.log(np.abs(covariance_L)))\n",
    "plt.colorbar()\n",
    "plt.show()\n",
    "print('C')\n",
    "\n",
    "plt.imshow(np.log(np.abs(covariance_C)))\n",
    "plt.colorbar()\n",
    "plt.show()"
   ],
   "metadata": {
    "collapsed": false,
    "pycharm": {
     "name": "#%%\n"
    }
   }
  },
  {
   "cell_type": "markdown",
   "source": [
    "### Fit accuracy\n",
    "We are now going to evaluate the fit accuracy parameters."
   ],
   "metadata": {
    "collapsed": false
   }
  },
  {
   "cell_type": "markdown",
   "source": [],
   "metadata": {
    "collapsed": false
   }
  },
  {
   "cell_type": "code",
   "execution_count": null,
   "outputs": [],
   "source": [
    "V_gen_model = Gen_amp_model(frequencies, fit_gen[0])\n",
    "residual_gen = amplitudeGen - V_gen_model\n",
    "V_R_model = R_amp_model(frequencies, fit_R[0], fit_R[1], fit_R[2], fit_R[3],fit_R[4])\n",
    "residual_R = amplitudeR - V_R_model\n",
    "V_L_model = L_amp_model(frequencies, fit_L[0], fit_L[1], fit_L[2], fit_L[3])\n",
    "residual_L = amplitudeL - V_L_model\n",
    "V_C_model = C_amp_model(frequencies, fit_C[0], fit_C[1], fit_C[2], fit_C[3])\n",
    "residual_C = amplitudeC - V_C_model"
   ],
   "metadata": {
    "collapsed": false,
    "pycharm": {
     "name": "#%%\n"
    }
   }
  },
  {
   "cell_type": "code",
   "execution_count": null,
   "outputs": [],
   "source": [
    "chisq_gen = sum((residual_gen/ ampError)**2)\n",
    "degrees_of_freedom_gen = len(residual_gen) - len(initial_guess_gen)\n",
    "reduced_chisq_gen = chisq_gen / degrees_of_freedom_gen\n",
    "\n",
    "chisq_R = sum((residual_R/ ampError)**2)\n",
    "degrees_of_freedom_R = len(residual_R) - len(initial_guess_R)\n",
    "reduced_chisq_R = chisq_R / degrees_of_freedom_R\n",
    "\n",
    "chisq_L = sum((residual_L/ ampError)**2) #typo corrected\n",
    "degrees_of_freedom_L = len(residual_L) - len(initial_guess_L)\n",
    "reduced_chisq_L = chisq_L / degrees_of_freedom_L\n",
    "\n",
    "chisq_C = sum((residual_C/ ampError)**2) #typo corrected\n",
    "degrees_of_freedom_C = len(residual_C) - len(initial_guess_C)\n",
    "reduced_chisq_C = chisq_C / degrees_of_freedom_C\n",
    "\n",
    "print('GEN')\n",
    "print('chi-square      = ',chisq_gen)\n",
    "print('degrees of freedom = ',degrees_of_freedom_gen)\n",
    "print('reduced chi-square = ',reduced_chisq_gen)\n",
    "\n",
    "print('R')\n",
    "print('chi-square        = ',chisq_R)\n",
    "print('degrees of freedom = ',degrees_of_freedom_R)\n",
    "print('reduced chi-square = ',reduced_chisq_R)\n",
    "\n",
    "print('L')\n",
    "print('chi-square         = ',chisq_L)\n",
    "print('degrees of freedom = ',degrees_of_freedom_L)\n",
    "print('reduced chi-square = ',reduced_chisq_L)\n",
    "\n",
    "print('C')\n",
    "print('chi-square    = ',chisq_C)\n",
    "print('degrees of freedom = ',degrees_of_freedom_C)\n",
    "print('reduced chi-square = ',reduced_chisq_C)\n"
   ],
   "metadata": {
    "collapsed": false,
    "pycharm": {
     "name": "#%%\n"
    }
   }
  },
  {
   "cell_type": "markdown",
   "source": [
    "## Plotting data\n",
    "Now that we're done with fitting let's plot our data using [matplotlib](https://matplotlib.org)."
   ],
   "metadata": {
    "collapsed": false
   }
  },
  {
   "cell_type": "code",
   "execution_count": null,
   "outputs": [],
   "source": [
    "plt.figure(figsize = (11,8))                  #specify figure size as 7 x 5 inches\n",
    "#for default size, type plt.figure()\n",
    "\n",
    "plt.xlabel(r\"$f$ [Hz]\", fontsize = 16) #label axis (using LaTeX commands)\n",
    "plt.ylabel(r\"$V_R$ [volts]\", fontsize = 16)   #use 18 point font for label text\n",
    "\n",
    "# Plotting the actual experimental data\n",
    "plt.errorbar(frequencies, amplitudeGen,\n",
    "             xerr=None, yerr=ampError,\n",
    "             linestyle = 'none',\n",
    "             color = 'orange',\n",
    "             capsize = 3, capthick = 1, label = \"amp gen data\")\n",
    "plt.errorbar(frequencies, amplitudeR,\n",
    "             xerr=None, yerr=ampError,\n",
    "             linestyle = 'none',\n",
    "             color = 'orange',\n",
    "             capsize = 3, capthick = 1, label = \"amp R data\")\n",
    "plt.errorbar(frequencies, amplitudeL,\n",
    "             xerr=None, yerr=ampError,\n",
    "             linestyle = 'none',\n",
    "             color = 'orange',\n",
    "             capsize = 3, capthick = 1, label = \"amp L data\")\n",
    "plt.errorbar(frequencies, amplitudeC,\n",
    "             xerr=None, yerr=ampError,\n",
    "             linestyle = 'none',\n",
    "             color = 'orange',\n",
    "             capsize = 3, capthick = 1, label = \"amp C data\")\n",
    "\n",
    "#create curve showing fit to data\n",
    "freq_fit = np.linspace(5000, 45000, 100)\n",
    "Vgen_fit = Gen_amp_model(freq_fit,fit_gen[0])\n",
    "VR_fit = R_amp_model(freq_fit, fit_R[0], fit_R[1], fit_R[2],fit_R[3],fit_R[4])\n",
    "VL_fit = L_amp_model(freq_fit, fit_L[0], fit_L[1], fit_L[2],fit_L[3])\n",
    "VC_fit = C_amp_model(freq_fit, fit_C[0], fit_C[1], fit_C[2],fit_C[3])\n",
    "\n",
    "#plotting the fitting curves\n",
    "# plt.errorbar(freq_fit, Vgen_fit, xerr = None, yerr = sigma, color = 'yellow', label = 'V_gen fit' )\n",
    "plt.errorbar(freq_fit, VR_fit, xerr = None, yerr = sigma, color = 'red', label = 'V_R fit' )\n",
    "plt.errorbar(freq_fit, VL_fit, xerr = None, yerr = sigma, color = 'green', label = 'V_L fit' )\n",
    "plt.errorbar(freq_fit, VC_fit, xerr = None, yerr = sigma, color = 'blue', label = 'V_C fit' )\n",
    "plt.xlim(5000 , 45000)\n",
    "# plt.ylim(0.0,7.0)\n",
    "# plt.xticks([0, 30, 60, 90, 120, 150, 180, 210, 240, 270, 300, 330, 360],\n",
    "#            ('0', '', '', 90,  '',  '', 180,  '',  '', 270,  '',  '', 360))\n",
    "plt.legend(loc = 'best')\n",
    "\n",
    "plt.savefig('figs/Amplitudes-scipy.pdf')\n"
   ],
   "metadata": {
    "collapsed": false,
    "pycharm": {
     "name": "#%%\n"
    }
   }
  },
  {
   "cell_type": "markdown",
   "source": [],
   "metadata": {
    "collapsed": false
   }
  },
  {
   "cell_type": "markdown",
   "metadata": {
    "pycharm": {
     "name": "#%% md\n"
    }
   },
   "source": []
  }
 ],
 "metadata": {
  "kernelspec": {
   "display_name": "Python 3 (ipykernel)",
   "language": "python",
   "name": "python3"
  },
  "language_info": {
   "codemirror_mode": {
    "name": "ipython",
    "version": 3
   },
   "file_extension": ".py",
   "mimetype": "text/x-python",
   "name": "python",
   "nbconvert_exporter": "python",
   "pygments_lexer": "ipython3",
   "version": "3.9.10"
  }
 },
 "nbformat": 4,
 "nbformat_minor": 1
}