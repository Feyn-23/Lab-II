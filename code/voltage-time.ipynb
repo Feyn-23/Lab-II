{
 "cells": [
  {
   "cell_type": "code",
   "execution_count": 1,
   "metadata": {
    "collapsed": true
   },
   "outputs": [],
   "source": [
    "import numpy as np\n",
    "from matplotlib import pyplot as plt #this is the traditional method\n",
    "from statistics import stdev\n",
    "from scipy.optimize import curve_fit # import method used here"
   ]
  },
  {
   "cell_type": "code",
   "execution_count": 2,
   "outputs": [
    {
     "ename": "ValueError",
     "evalue": "could not convert string to float: '\"-0'",
     "output_type": "error",
     "traceback": [
      "\u001B[0;31m---------------------------------------------------------------------------\u001B[0m",
      "\u001B[0;31mValueError\u001B[0m                                Traceback (most recent call last)",
      "Input \u001B[0;32mIn [2]\u001B[0m, in \u001B[0;36m<cell line: 7>\u001B[0;34m()\u001B[0m\n\u001B[1;32m      5\u001B[0m file_name \u001B[38;5;241m=\u001B[39m \u001B[38;5;124m'\u001B[39m\u001B[38;5;124mVTime22kHz.csv\u001B[39m\u001B[38;5;124m'\u001B[39m\n\u001B[1;32m      6\u001B[0m data_file \u001B[38;5;241m=\u001B[39m file_folder \u001B[38;5;241m+\u001B[39m file_name\n\u001B[0;32m----> 7\u001B[0m time22,V_gen22, V_R22, V_L22, V_C22  \u001B[38;5;241m=\u001B[39m \u001B[43mnp\u001B[49m\u001B[38;5;241;43m.\u001B[39;49m\u001B[43mloadtxt\u001B[49m\u001B[43m(\u001B[49m\u001B[43mdata_file\u001B[49m\u001B[43m,\u001B[49m\u001B[43m \u001B[49m\u001B[43mdelimiter\u001B[49m\u001B[43m \u001B[49m\u001B[38;5;241;43m=\u001B[39;49m\u001B[43m \u001B[49m\u001B[38;5;124;43m'\u001B[39;49m\u001B[38;5;124;43m,\u001B[39;49m\u001B[38;5;124;43m'\u001B[39;49m\u001B[43m,\u001B[49m\u001B[43m \u001B[49m\u001B[43mskiprows\u001B[49m\u001B[43m \u001B[49m\u001B[38;5;241;43m=\u001B[39;49m\u001B[43m \u001B[49m\u001B[38;5;241;43m1\u001B[39;49m\u001B[43m,\u001B[49m\u001B[43m \u001B[49m\u001B[43musecols\u001B[49m\u001B[43m \u001B[49m\u001B[38;5;241;43m=\u001B[39;49m\u001B[43m \u001B[49m\u001B[43m(\u001B[49m\u001B[38;5;241;43m0\u001B[39;49m\u001B[43m,\u001B[49m\u001B[43m \u001B[49m\u001B[38;5;241;43m1\u001B[39;49m\u001B[43m,\u001B[49m\u001B[43m \u001B[49m\u001B[38;5;241;43m2\u001B[39;49m\u001B[43m,\u001B[49m\u001B[43m \u001B[49m\u001B[38;5;241;43m3\u001B[39;49m\u001B[43m,\u001B[49m\u001B[43m \u001B[49m\u001B[38;5;241;43m4\u001B[39;49m\u001B[43m)\u001B[49m\u001B[43m,\u001B[49m\u001B[43m \u001B[49m\u001B[43munpack\u001B[49m\u001B[43m \u001B[49m\u001B[38;5;241;43m=\u001B[39;49m\u001B[43m \u001B[49m\u001B[38;5;28;43;01mTrue\u001B[39;49;00m\u001B[43m)\u001B[49m\n\u001B[1;32m      9\u001B[0m folder \u001B[38;5;241m=\u001B[39m \u001B[38;5;124m'\u001B[39m\u001B[38;5;124m../data/III session/Voltage-time/\u001B[39m\u001B[38;5;124m'\u001B[39m\n\u001B[1;32m     10\u001B[0m file_name \u001B[38;5;241m=\u001B[39m \u001B[38;5;124m'\u001B[39m\u001B[38;5;124msquareWave10Hz.csv\u001B[39m\u001B[38;5;124m'\u001B[39m\n",
      "File \u001B[0;32m~/miniforge3/lib/python3.9/site-packages/numpy/lib/npyio.py:1163\u001B[0m, in \u001B[0;36mloadtxt\u001B[0;34m(fname, dtype, comments, delimiter, converters, skiprows, usecols, unpack, ndmin, encoding, max_rows, like)\u001B[0m\n\u001B[1;32m   1159\u001B[0m         \u001B[38;5;28;01mraise\u001B[39;00m \u001B[38;5;167;01mValueError\u001B[39;00m(\n\u001B[1;32m   1160\u001B[0m             \u001B[38;5;124mf\u001B[39m\u001B[38;5;124m\"\u001B[39m\u001B[38;5;124mWrong number of columns at line \u001B[39m\u001B[38;5;132;01m{\u001B[39;00mlineno\u001B[38;5;132;01m}\u001B[39;00m\u001B[38;5;124m\"\u001B[39m)\n\u001B[1;32m   1161\u001B[0m     \u001B[38;5;66;03m# Convert each value according to its column, then pack it\u001B[39;00m\n\u001B[1;32m   1162\u001B[0m     \u001B[38;5;66;03m# according to the dtype's nesting, and store it.\u001B[39;00m\n\u001B[0;32m-> 1163\u001B[0m     chunk\u001B[38;5;241m.\u001B[39mappend(packer(\u001B[43mconvert_row\u001B[49m\u001B[43m(\u001B[49m\u001B[43mwords\u001B[49m\u001B[43m)\u001B[49m))\n\u001B[1;32m   1164\u001B[0m \u001B[38;5;28;01mif\u001B[39;00m \u001B[38;5;129;01mnot\u001B[39;00m chunk:  \u001B[38;5;66;03m# The islice is empty, i.e. we're done.\u001B[39;00m\n\u001B[1;32m   1165\u001B[0m     \u001B[38;5;28;01mbreak\u001B[39;00m\n",
      "File \u001B[0;32m~/miniforge3/lib/python3.9/site-packages/numpy/lib/npyio.py:1142\u001B[0m, in \u001B[0;36mloadtxt.<locals>.convert_row\u001B[0;34m(vals, _conv)\u001B[0m\n\u001B[1;32m   1141\u001B[0m \u001B[38;5;28;01mdef\u001B[39;00m \u001B[38;5;21mconvert_row\u001B[39m(vals, _conv\u001B[38;5;241m=\u001B[39mconverters[\u001B[38;5;241m0\u001B[39m]):\n\u001B[0;32m-> 1142\u001B[0m     \u001B[38;5;28;01mreturn\u001B[39;00m [\u001B[38;5;241m*\u001B[39m\u001B[38;5;28mmap\u001B[39m(_conv, vals)]\n",
      "File \u001B[0;32m~/miniforge3/lib/python3.9/site-packages/numpy/lib/npyio.py:725\u001B[0m, in \u001B[0;36m_floatconv\u001B[0;34m(x)\u001B[0m\n\u001B[1;32m    723\u001B[0m \u001B[38;5;28;01mdef\u001B[39;00m \u001B[38;5;21m_floatconv\u001B[39m(x):\n\u001B[1;32m    724\u001B[0m     \u001B[38;5;28;01mtry\u001B[39;00m:\n\u001B[0;32m--> 725\u001B[0m         \u001B[38;5;28;01mreturn\u001B[39;00m \u001B[38;5;28;43mfloat\u001B[39;49m\u001B[43m(\u001B[49m\u001B[43mx\u001B[49m\u001B[43m)\u001B[49m  \u001B[38;5;66;03m# The fastest path.\u001B[39;00m\n\u001B[1;32m    726\u001B[0m     \u001B[38;5;28;01mexcept\u001B[39;00m \u001B[38;5;167;01mValueError\u001B[39;00m:\n\u001B[1;32m    727\u001B[0m         \u001B[38;5;28;01mif\u001B[39;00m \u001B[38;5;124m'\u001B[39m\u001B[38;5;124m0x\u001B[39m\u001B[38;5;124m'\u001B[39m \u001B[38;5;129;01min\u001B[39;00m x:  \u001B[38;5;66;03m# Don't accidentally convert \"a\" (\"0xa\") to 10.\u001B[39;00m\n",
      "\u001B[0;31mValueError\u001B[0m: could not convert string to float: '\"-0'"
     ]
    }
   ],
   "source": [
    "file_folder = '../data/III session/Voltage-time/'\n",
    "file_name = 'VTime16kHz.csv'\n",
    "data_file = file_folder + file_name\n",
    "time16,V_gen16, V_R16, V_L16, V_C16  = np.loadtxt(data_file, delimiter = ',', skiprows = 1, usecols = (0, 1, 2, 3, 4), unpack = True)\n",
    "file_name = 'VTime22kHz.csv'\n",
    "data_file = file_folder + file_name\n",
    "time22,V_gen22, V_R22, V_L22, V_C22  = np.loadtxt(data_file, delimiter = ',', skiprows = 1, usecols = (0, 1, 2, 3, 4), unpack = True)\n",
    "\n",
    "folder = '../data/III session/Voltage-time/'\n",
    "file_name = 'squareWave10Hz.csv'\n",
    "data_file = folder + file_name\n",
    "V_gen_sw = np.loadtxt(data_file, delimiter=',', skiprows=1, usecols=(1), unpack=True)"
   ],
   "metadata": {
    "collapsed": false,
    "pycharm": {
     "name": "#%%\n"
    }
   }
  },
  {
   "cell_type": "code",
   "execution_count": null,
   "outputs": [],
   "source": [
    "plt.plot(time16,V_gen16)\n",
    "plt.plot(time16,V_R16)\n",
    "plt.plot(time16,V_L16)\n",
    "plt.plot(time16,V_C16)"
   ],
   "metadata": {
    "collapsed": false,
    "pycharm": {
     "name": "#%%\n"
    }
   }
  }
 ],
 "metadata": {
  "kernelspec": {
   "display_name": "Python 3",
   "language": "python",
   "name": "python3"
  },
  "language_info": {
   "codemirror_mode": {
    "name": "ipython",
    "version": 2
   },
   "file_extension": ".py",
   "mimetype": "text/x-python",
   "name": "python",
   "nbconvert_exporter": "python",
   "pygments_lexer": "ipython2",
   "version": "2.7.6"
  }
 },
 "nbformat": 4,
 "nbformat_minor": 0
}