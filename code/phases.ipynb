{
 "cells": [
  {
   "cell_type": "markdown",
   "metadata": {},
   "source": [
    "# Phases analysis"
   ]
  },
  {
   "cell_type": "code",
   "execution_count": 96,
   "outputs": [],
   "source": [
    "import numpy as np\n",
    "from matplotlib import pyplot as plt #this is the traditional method\n",
    "from statistics import stdev\n",
    "from scipy.optimize import curve_fit # import method used here"
   ],
   "metadata": {
    "collapsed": false,
    "pycharm": {
     "name": "#%%\n"
    }
   }
  },
  {
   "cell_type": "markdown",
   "source": [
    "Importing data from files:\n",
    "- Frequencies and tension amplitudes\n",
    "- Tension-time measurements (square wave) to estimate noise through generator amplitude"
   ],
   "metadata": {
    "collapsed": false
   }
  },
  {
   "cell_type": "code",
   "execution_count": 97,
   "metadata": {
    "pycharm": {
     "name": "#%%\n"
    }
   },
   "outputs": [],
   "source": [
    "file_folder = '../data/III session/Frequency response/'\n",
    "file_name = 'phases_fino25kHz.csv'\n",
    "data_file = file_folder + file_name\n",
    "frequencies,phaseGen,phaseR,phaseL,phaseC  = np.loadtxt(data_file, delimiter = ',', skiprows = 1, usecols = (0,1,2,3,4), unpack = True)\n",
    "\n",
    "folder = '../data/III session/Constant frequency/'\n",
    "file_name = 'phaseFCost19.5kHz.csv'\n",
    "# file_name = 'squareWave100Hz.csv'\n",
    "data_file = folder + file_name\n",
    "phaseGenFCost = np.loadtxt(data_file, delimiter=',', skiprows=1, usecols=(1), unpack=True)"
   ]
  },
  {
   "cell_type": "markdown",
   "source": [
    "The data scatter plots are the following:"
   ],
   "metadata": {
    "collapsed": false
   }
  },
  {
   "cell_type": "code",
   "execution_count": 98,
   "outputs": [
    {
     "data": {
      "text/plain": "<matplotlib.collections.PathCollection at 0x14bc3d5b0>"
     },
     "execution_count": 98,
     "metadata": {},
     "output_type": "execute_result"
    },
    {
     "data": {
      "text/plain": "<Figure size 432x288 with 1 Axes>",
      "image/png": "[encoded data removed]"
     },
     "metadata": {
      "needs_background": "light"
     },
     "output_type": "display_data"
    }
   ],
   "source": [
    "plt.scatter(frequencies,phaseGen)\n",
    "plt.scatter(frequencies,phaseR)\n",
    "plt.scatter(frequencies,phaseL)\n",
    "plt.scatter(frequencies,phaseC)"
   ],
   "metadata": {
    "collapsed": false,
    "pycharm": {
     "name": "#%%\n"
    }
   }
  },
  {
   "cell_type": "markdown",
   "source": [
    "We now compute $\\sigma$ from data (half period since the use of a square wave) and we use it as our noise estimation."
   ],
   "metadata": {
    "collapsed": false
   }
  },
  {
   "cell_type": "code",
   "execution_count": 99,
   "outputs": [
    {
     "data": {
      "text/plain": "0.001980758583914258"
     },
     "execution_count": 99,
     "metadata": {},
     "output_type": "execute_result"
    }
   ],
   "source": [
    "sigma = stdev(phaseGenFCost)\n",
    "\n",
    "phasesSigma = []\n",
    "for x in range(len(frequencies)):\n",
    "    phasesSigma.append(sigma)\n",
    "sigma"
   ],
   "metadata": {
    "collapsed": false,
    "pycharm": {
     "name": "#%%\n"
    }
   }
  },
  {
   "cell_type": "markdown",
   "source": [
    "---\n",
    "## Fitting data\n",
    "We are now going to use curve_fit() method from scipy.\n",
    "We now define the function we are going to fit the data with(values are expessed in radians):\n",
    "$$ \\phi_R = \\arctan{\\frac{1 - \\omega^2 L C}{R \\omega C}}$$\n",
    "$$ \\phi_L = \\arctan{\\frac{1 - \\omega^2 L C}{R \\omega C}} + \\frac{\\pi}{2}$$\n",
    "$$ \\phi_C = \\arctan{\\frac{1 - \\omega^2 L C}{R \\omega C}} - \\frac{\\pi}{2}$$"
   ],
   "metadata": {
    "collapsed": false
   }
  },
  {
   "cell_type": "code",
   "execution_count": 100,
   "outputs": [],
   "source": [
    "def Gen_phase_model(f,phi_gen):\n",
    "    return phi_gen\n",
    "\n",
    "def R_phase_model(f, R, L, C):\n",
    "    num = 1 - (2 * np.pi * f)**2 * L * C\n",
    "    den = R * (2 * np.pi * f) * C\n",
    "    return np.arctan(num / den)\n",
    "\n",
    "def L_phase_model(f, R, L, C):\n",
    "    num = 1 - (2 * np.pi * f)**2 * L * C\n",
    "    den = R * (2 * np.pi * f) * C\n",
    "    return np.arctan(num / den) + np.pi/2\n",
    "\n",
    "def C_phase_model(f, R, L, C):\n",
    "    num = 1 - (2 * np.pi * f)**2 * L * C\n",
    "    den = R * (2 * np.pi * f) * C\n",
    "    return np.arctan(num / den) - np.pi/2"
   ],
   "metadata": {
    "collapsed": false,
    "pycharm": {
     "name": "#%%\n"
    }
   }
  },
  {
   "cell_type": "markdown",
   "source": [
    "We now have to make our initial guess of the fitting parameters. We can make exact initial guesses or set bounds for params values"
   ],
   "metadata": {
    "collapsed": false
   }
  },
  {
   "cell_type": "code",
   "execution_count": 101,
   "outputs": [],
   "source": [
    "R = 1.17252e+03\n",
    "L = 4.741e-02\n",
    "C = 1.46e-09\n",
    "phi_gen = 2*np.pi\n",
    "\n",
    "initial_guess_gen = np.array([phi_gen])\n",
    "initial_guess_R = np.array([ R, L, C])\n",
    "initial_guess_L = np.array([R, L, C])\n",
    "initial_guess_C = np.array([R, L, C])\n",
    "\n",
    "boundsGen = [[0.0],[7.0]]\n",
    "boundsR = [[990,3.5e-02,1.3e-09],[2500,5e-02,1.6e-09]]\n",
    "boundsL = [[990,3.5e-02,1.3e-09],[2500,5e-02,1.6e-09]]\n",
    "boundsC = [[990,3.5e-02,1.3e-09],[2500,5e-02,1.6e-09]]"
   ],
   "metadata": {
    "collapsed": false,
    "pycharm": {
     "name": "#%%\n"
    }
   }
  },
  {
   "cell_type": "code",
   "execution_count": null,
   "outputs": [],
   "source": [
    "# the method returns two arrays: one with the resulting fit parameters and then the covariance matrix\n",
    "fit_gen,covariance_gen = curve_fit(Gen_phase_model, frequencies, phaseGen,bounds=boundsGen,sigma=phasesSigma,absolute_sigma=True)\n",
    "fit_R, covariance_R = curve_fit(R_phase_model, frequencies, phaseR,bounds=boundsR,sigma=phasesSigma,absolute_sigma=True)\n",
    "fit_L, covariance_L = curve_fit(L_phase_model, frequencies, phaseL,bounds=boundsL,sigma=phasesSigma,absolute_sigma=True)\n",
    "fit_C, covariance_C = curve_fit(C_phase_model, frequencies, phaseC,bounds=boundsC,sigma=phasesSigma,absolute_sigma=True)\n",
    "\n",
    "#the elements on the the diagonal represent the errors on the fit parameters\n",
    "error_gen = np.sqrt(np.diag(covariance_gen))\n",
    "error_R = np.sqrt(np.diag(covariance_R))\n",
    "error_L = np.sqrt(np.diag(covariance_L))\n",
    "error_C = np.sqrt(np.diag(covariance_C))\n"
   ],
   "metadata": {
    "collapsed": false,
    "pycharm": {
     "name": "#%%\n"
    }
   }
  },
  {
   "cell_type": "markdown",
   "source": [
    "### Fit results\n",
    "Printing out fit results"
   ],
   "metadata": {
    "collapsed": false
   }
  },
  {
   "cell_type": "code",
   "execution_count": 103,
   "outputs": [
    {
     "name": "stdout",
     "output_type": "stream",
     "text": [
      "\n",
      "Phi_0   =  6.283 ± 0.0000892995  V\n",
      "\n",
      "R    =  2173.932 ± 0.0000000007  $\\Omega$\n",
      "L    =  0.04560 ± 0.0000186201  Henry\n",
      "C    =  0.000000001494 ± 0.000000000001  F\n",
      "\n",
      "R    =  2185.592 ± 0.0000000006  $\\Omega$\n",
      "L    =  0.04398 ± 0.0000171790  Henry\n",
      "C    =  0.000000001477 ± 0.000000000001  F\n",
      "\n",
      "R    =  1957.694 ± 0.0000000001  $\\Omega$\n",
      "L    =  0.03683 ± 0.0000071154  Henry\n",
      "C    =  0.000000001449 ± 0.000000000000  F\n"
     ]
    }
   ],
   "source": [
    "print()\n",
    "print('Phi_0   = ','{:.3f}'.format(phi_gen), '±', '{:.10f}'.format(error_gen[0]), ' V')\n",
    "\n",
    "print()\n",
    "print('R    = ','{:.3f}'.format(fit_R[0]), '±', '{:.10f}'.format(error_R[0]), ' $\\Omega$')\n",
    "print('L    = ','{:.5f}'.format(fit_R[1]), '±', '{:.10f}'.format(error_R[1]), ' Henry')\n",
    "print('C    = ','{:.12f}'.format(fit_R[2]), '±', '{:.12f}'.format(error_R[2]), ' F')\n",
    "\n",
    "print()\n",
    "print('R    = ','{:.3f}'.format(fit_L[0]), '±', '{:.10f}'.format(error_L[0]), ' $\\Omega$')\n",
    "print('L    = ','{:.5f}'.format(fit_L[1]), '±', '{:.10f}'.format(error_L[1]), ' Henry')\n",
    "print('C    = ','{:.12f}'.format(fit_L[2]), '±', '{:.12f}'.format(error_L[2]), ' F')\n",
    "\n",
    "print()\n",
    "print('R    = ','{:.3f}'.format(fit_C[0]), '±', '{:.10f}'.format(error_C[0]), ' $\\Omega$')\n",
    "print('L    = ','{:.5f}'.format(fit_C[1]), '±', '{:.10f}'.format(error_C[1]), ' Henry')\n",
    "print('C    = ','{:.12f}'.format(fit_C[2]), '±', '{:.12f}'.format(error_C[2]), ' F')\n"
   ],
   "metadata": {
    "collapsed": false,
    "pycharm": {
     "name": "#%%\n"
    }
   }
  },
  {
   "cell_type": "markdown",
   "source": [
    "#### Graphical error visualization\n",
    "We now try to visualize the covariance matrix with a colorplot:"
   ],
   "metadata": {
    "collapsed": false
   }
  },
  {
   "cell_type": "code",
   "execution_count": 104,
   "outputs": [],
   "source": [
    "# print('Gen')\n",
    "# plt.imshow(np.log(np.abs(covariance_gen)))\n",
    "# plt.colorbar()\n",
    "# plt.show()\n",
    "#\n",
    "# print('R')\n",
    "# plt.imshow(np.log(np.abs(covariance_R)))\n",
    "# plt.colorbar()\n",
    "# plt.show()\n",
    "# print('L')\n",
    "#\n",
    "# plt.imshow(np.log(np.abs(covariance_L)))\n",
    "# plt.colorbar()\n",
    "# plt.show()\n",
    "# print('C')\n",
    "#\n",
    "# plt.imshow(np.log(np.abs(covariance_C)))\n",
    "# plt.colorbar()\n",
    "# plt.show()"
   ],
   "metadata": {
    "collapsed": false,
    "pycharm": {
     "name": "#%%\n"
    }
   }
  },
  {
   "cell_type": "markdown",
   "source": [
    "### Fit accuracy\n",
    "We are now going to evaluate the fit accuracy parameters."
   ],
   "metadata": {
    "collapsed": false
   }
  },
  {
   "cell_type": "markdown",
   "source": [],
   "metadata": {
    "collapsed": false
   }
  },
  {
   "cell_type": "code",
   "execution_count": 105,
   "outputs": [],
   "source": [
    "phase_gen_model = Gen_phase_model(frequencies, fit_gen[0])\n",
    "residual_gen = phaseGen - phase_gen_model\n",
    "phase_R_model = R_phase_model(frequencies, fit_R[0], fit_R[1], fit_R[2])\n",
    "residual_R = phaseR - phase_R_model\n",
    "phase_L_model = L_phase_model(frequencies, fit_L[0], fit_L[1], fit_L[2])\n",
    "residual_L = phaseL - phase_L_model\n",
    "phase_C_model = C_phase_model(frequencies, fit_C[0], fit_C[1], fit_C[2])\n",
    "residual_C = phaseC - phase_C_model"
   ],
   "metadata": {
    "collapsed": false,
    "pycharm": {
     "name": "#%%\n"
    }
   }
  },
  {
   "cell_type": "code",
   "execution_count": 106,
   "outputs": [
    {
     "name": "stdout",
     "output_type": "stream",
     "text": [
      "GEN\n",
      "chi-square      =  2506.018032767772\n",
      "degrees of freedom =  491\n",
      "reduced chi-square =  5.103906380382428\n",
      "R\n",
      "chi-square        =  347952.45092269266\n",
      "degrees of freedom =  489\n",
      "reduced chi-square =  711.5592043408848\n",
      "L\n",
      "chi-square         =  785593.0668091568\n",
      "degrees of freedom =  489\n",
      "reduced chi-square =  1606.5297889757808\n",
      "C\n",
      "chi-square    =  4463767.50086045\n",
      "degrees of freedom =  489\n",
      "reduced chi-square =  9128.358897465132\n"
     ]
    }
   ],
   "source": [
    "chisq_gen = sum((residual_gen/ sigma)**2)\n",
    "degrees_of_freedom_gen = len(residual_gen) - len(initial_guess_gen)\n",
    "reduced_chisq_gen = chisq_gen / degrees_of_freedom_gen\n",
    "\n",
    "chisq_R = sum((residual_R/ sigma)**2)\n",
    "degrees_of_freedom_R = len(residual_R) - len(initial_guess_R)\n",
    "reduced_chisq_R = chisq_R / degrees_of_freedom_R\n",
    "\n",
    "chisq_L = sum((residual_L/ sigma)**2) #typo corrected\n",
    "degrees_of_freedom_L = len(residual_L) - len(initial_guess_L)\n",
    "reduced_chisq_L = chisq_L / degrees_of_freedom_L\n",
    "\n",
    "chisq_C = sum((residual_C/ sigma)**2) #typo corrected\n",
    "degrees_of_freedom_C = len(residual_C) - len(initial_guess_C)\n",
    "reduced_chisq_C = chisq_C / degrees_of_freedom_C\n",
    "\n",
    "print('GEN')\n",
    "print('chi-square      = ',chisq_gen)\n",
    "print('degrees of freedom = ',degrees_of_freedom_gen)\n",
    "print('reduced chi-square = ',reduced_chisq_gen)\n",
    "\n",
    "print('R')\n",
    "print('chi-square        = ',chisq_R)\n",
    "print('degrees of freedom = ',degrees_of_freedom_R)\n",
    "print('reduced chi-square = ',reduced_chisq_R)\n",
    "\n",
    "print('L')\n",
    "print('chi-square         = ',chisq_L)\n",
    "print('degrees of freedom = ',degrees_of_freedom_L)\n",
    "print('reduced chi-square = ',reduced_chisq_L)\n",
    "\n",
    "print('C')\n",
    "print('chi-square    = ',chisq_C)\n",
    "print('degrees of freedom = ',degrees_of_freedom_C)\n",
    "print('reduced chi-square = ',reduced_chisq_C)\n"
   ],
   "metadata": {
    "collapsed": false,
    "pycharm": {
     "name": "#%%\n"
    }
   }
  },
  {
   "cell_type": "markdown",
   "source": [
    "## Plotting data\n",
    "Now that we're done with fitting let's plot our data using [matplotlib](https://matplotlib.org)."
   ],
   "metadata": {
    "collapsed": false
   }
  },
  {
   "cell_type": "code",
   "execution_count": 107,
   "outputs": [
    {
     "data": {
      "text/plain": "<Figure size 792x576 with 1 Axes>",
      "image/png": "[encoded data removed]"
     },
     "metadata": {
      "needs_background": "light"
     },
     "output_type": "display_data"
    }
   ],
   "source": [
    "plt.figure(figsize = (11,8))                  #specify figure size as 7 x 5 inches\n",
    "#for default size, type plt.figure()\n",
    "\n",
    "#axis labels\n",
    "plt.xlabel(r\"$f$ [Hz]\", fontsize = 16)\n",
    "plt.ylabel(r\"$\\phi$ [rad]\", fontsize = 16)\n",
    "\n",
    "# Plotting the actual experimental data\n",
    "plt.errorbar(frequencies, phaseGen,\n",
    "             xerr=None, yerr=sigma,\n",
    "             linestyle = 'none',\n",
    "             color = 'gray',\n",
    "             capsize = 3, capthick = 1, label = \"Phase gen data\")\n",
    "plt.errorbar(frequencies, phaseR,\n",
    "             xerr=None, yerr=sigma,\n",
    "             linestyle = 'none',\n",
    "             color = 'gray',\n",
    "             capsize = 3, capthick = 1, label = \"phase R data\")\n",
    "plt.errorbar(frequencies, phaseL,\n",
    "             xerr=None, yerr=sigma,\n",
    "             linestyle = 'none',\n",
    "             color = 'gray',\n",
    "             capsize = 3, capthick = 1, label = \"phase L data\")\n",
    "plt.errorbar(frequencies, phaseC,\n",
    "             xerr=None, yerr=sigma,\n",
    "             linestyle = 'none',\n",
    "             color = 'gray',\n",
    "             capsize = 3, capthick = 1, label = \"phase C data\")\n",
    "\n",
    "#create curve showing fit to data\n",
    "freq_fit = np.linspace(5000, 25000, 1000)\n",
    "VR_fit = R_phase_model(freq_fit, fit_R[0], fit_R[1], fit_R[2])\n",
    "VL_fit = L_phase_model(freq_fit, fit_L[0], fit_L[1], fit_L[2])\n",
    "VC_fit = C_phase_model(freq_fit, fit_C[0], fit_C[1], fit_C[2])\n",
    "\n",
    "#plotting the fitting curves\n",
    "plt.errorbar(freq_fit, VR_fit, xerr = None, yerr = sigma, color = 'red', label = 'V_R fit' )\n",
    "plt.errorbar(freq_fit, VL_fit, xerr = None, yerr = sigma, color = 'green', label = 'V_L fit' )\n",
    "plt.errorbar(freq_fit, VC_fit, xerr = None, yerr = sigma, color = 'blue', label = 'V_C fit' )\n",
    "plt.xlim(5000 , 35000)\n",
    "# plt.ylim(0.0,7.0)\n",
    "# plt.xticks([0, 30, 60, 90, 120, 150, 180, 210, 240, 270, 300, 330, 360],\n",
    "#            ('0', '', '', 90,  '',  '', 180,  '',  '', 270,  '',  '', 360))\n",
    "plt.legend(loc = 'best')\n",
    "\n",
    "plt.savefig('../figs/Phases.pdf')\n"
   ],
   "metadata": {
    "collapsed": false,
    "pycharm": {
     "name": "#%%\n"
    }
   }
  },
  {
   "cell_type": "code",
   "execution_count": 118,
   "outputs": [],
   "source": [
    "\n",
    "f = np.arange(10000,25000,100)\n",
    "\n",
    "faseR = R_phase_model(f,2100,0.0474,1.5e-09)\n",
    "faseL = L_phase_model(f,2100,0.0474,1.5e-09)\n",
    "faseC = C_phase_model(f,2100,0.0474,1.5e-09)\n",
    "\n",
    "\n",
    "\n",
    "for i in range(len(faseL)):\n",
    "    faseL[i] = np.random.normal(faseL[i],0.008)\n",
    "for i in range(len(faseR)):\n",
    "    faseR[i] = np.random.normal(faseR[i],0.005)\n",
    "for i in range(len(faseC)):\n",
    "    faseC[i] = np.random.normal(faseC[i],0.01)\n"
   ],
   "metadata": {
    "collapsed": false,
    "pycharm": {
     "name": "#%%\n"
    }
   }
  },
  {
   "cell_type": "code",
   "execution_count": 119,
   "outputs": [
    {
     "data": {
      "text/plain": "[<matplotlib.lines.Line2D at 0x16849f580>]"
     },
     "execution_count": 119,
     "metadata": {},
     "output_type": "execute_result"
    },
    {
     "data": {
      "text/plain": "<Figure size 432x288 with 1 Axes>",
      "image/png": "[encoded data removed]"
     },
     "metadata": {
      "needs_background": "light"
     },
     "output_type": "display_data"
    }
   ],
   "source": [
    "plt.plot(f,faseL,marker='o',linestyle='None',markersize=1)\n",
    "plt.plot(f,faseR,marker='o',linestyle='None',markersize=1)\n",
    "plt.plot(f,faseC,marker='o',linestyle='None',markersize=1)"
   ],
   "metadata": {
    "collapsed": false,
    "pycharm": {
     "name": "#%%\n"
    }
   }
  },
  {
   "cell_type": "markdown",
   "source": [],
   "metadata": {
    "collapsed": false
   }
  },
  {
   "cell_type": "markdown",
   "metadata": {
    "pycharm": {
     "name": "#%% md\n"
    }
   },
   "source": []
  }
 ],
 "metadata": {
  "kernelspec": {
   "display_name": "Python 3 (ipykernel)",
   "language": "python",
   "name": "python3"
  },
  "language_info": {
   "codemirror_mode": {
    "name": "ipython",
    "version": 3
   },
   "file_extension": ".py",
   "mimetype": "text/x-python",
   "name": "python",
   "nbconvert_exporter": "python",
   "pygments_lexer": "ipython3",
   "version": "3.9.10"
  }
 },
 "nbformat": 4,
 "nbformat_minor": 1
}