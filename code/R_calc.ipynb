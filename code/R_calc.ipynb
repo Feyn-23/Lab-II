{
 "cells": [
  {
   "cell_type": "code",
   "execution_count": 14,
   "metadata": {
    "collapsed": true
   },
   "outputs": [],
   "source": [
    "import numpy as np\n",
    "import matplotlib.pyplot as plt"
   ]
  },
  {
   "cell_type": "code",
   "execution_count": 15,
   "outputs": [],
   "source": [
    "data_file = '../results/fit.csv'\n",
    "paramsGen, errorsGen, paramsR, errorsR, paramsL, errorsL, paramsC, errorsC = np.loadtxt(data_file, delimiter = ',', skiprows = 1,usecols=(0,1,2,3,4,5,6,7) ,unpack = True)"
   ],
   "metadata": {
    "collapsed": false,
    "pycharm": {
     "name": "#%%\n"
    }
   }
  },
  {
   "cell_type": "code",
   "execution_count": 16,
   "outputs": [],
   "source": [
    "data_file = '../data/III session/Frequency response/amplitudes_fino35kHz.csv'\n",
    "frequencies, amplitudeGen, amplitudeR, amplitudeL, amplitudeC  = np.loadtxt(data_file, delimiter = ',', skiprows = 1, usecols = (0, 1, 2, 3, 4), unpack = True)"
   ],
   "metadata": {
    "collapsed": false,
    "pycharm": {
     "name": "#%%\n"
    }
   }
  },
  {
   "cell_type": "code",
   "execution_count": 17,
   "outputs": [],
   "source": [
    "def R_amp_model(f, R_r , R, L, C, V_0):\n",
    "    num = R_r * V_0\n",
    "    den = np.sqrt( (R+R_r)**2 + (2*np.pi*f * L - 1/(2*np.pi*f * C))**2)\n",
    "    return num / den\n",
    "\n",
    "def L_amp_model(f, R, L, C, V_0):\n",
    "    num = 2*np.pi*f * L * V_0\n",
    "    den = np.sqrt( R**2 + (2*np.pi*f * L - 1/(2*np.pi*f * C))**2)\n",
    "    return num / den"
   ],
   "metadata": {
    "collapsed": false,
    "pycharm": {
     "name": "#%%\n"
    }
   }
  },
  {
   "cell_type": "code",
   "execution_count": 18,
   "outputs": [
    {
     "data": {
      "text/plain": "0.9994550431395998"
     },
     "execution_count": 18,
     "metadata": {},
     "output_type": "execute_result"
    }
   ],
   "source": [
    "from statistics import mean\n",
    "amp_fit = R_amp_model(frequencies,paramsR[0],paramsR[1],paramsR[2],paramsR[3],paramsR[4])\n",
    "\n",
    "mean_amp = np.full((len(amplitudeR)),mean(amplitudeR))\n",
    "num = amplitudeR - amp_fit\n",
    "num = num**2\n",
    "den = amplitudeR - mean_amp\n",
    "den = den**2\n",
    "\n",
    "R_2 = 1 - sum(num)/sum(den)\n",
    "R_2"
   ],
   "metadata": {
    "collapsed": false,
    "pycharm": {
     "name": "#%%\n"
    }
   }
  },
  {
   "cell_type": "code",
   "execution_count": 21,
   "outputs": [
    {
     "data": {
      "text/plain": "0.9993595302729367"
     },
     "execution_count": 21,
     "metadata": {},
     "output_type": "execute_result"
    }
   ],
   "source": [
    "amp_fit = L_amp_model(frequencies,paramsL[0],paramsL[1],paramsL[2],paramsL[3])\n",
    "\n",
    "mean_amp = np.full((len(amplitudeL)),mean(amplitudeL))\n",
    "num = amplitudeL - amp_fit\n",
    "num = num**2\n",
    "den = amplitudeL - mean_amp\n",
    "den = den**2\n",
    "\n",
    "R_2 = 1 - sum(num)/sum(den)\n",
    "\n",
    "R_2"
   ],
   "metadata": {
    "collapsed": false,
    "pycharm": {
     "name": "#%%\n"
    }
   }
  }
 ],
 "metadata": {
  "kernelspec": {
   "display_name": "Python 3",
   "language": "python",
   "name": "python3"
  },
  "language_info": {
   "codemirror_mode": {
    "name": "ipython",
    "version": 2
   },
   "file_extension": ".py",
   "mimetype": "text/x-python",
   "name": "python",
   "nbconvert_exporter": "python",
   "pygments_lexer": "ipython2",
   "version": "2.7.6"
  }
 },
 "nbformat": 4,
 "nbformat_minor": 0
}