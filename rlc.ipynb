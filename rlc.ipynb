{
 "cells": [
  {
   "cell_type": "code",
   "execution_count": 48,
   "outputs": [],
   "source": [
    "import numpy as np # only need this once per program\n",
    "\n",
    "file_name = 'sample-data.csv'               # replace with the name of your csv data file\n",
    "\n",
    "file_folder = 'data/'                                  # use this if your data file is in the same folder as your python program\n",
    "\n",
    "data_file = file_folder + file_name\n",
    "\n",
    "f_gen, amp_gen, amp_R, amp_L, amp_C  = np.loadtxt(data_file, delimiter = ';', skiprows = 1, usecols = (0, 1, 2,3,4), unpack = True)"
   ],
   "metadata": {
    "collapsed": false,
    "pycharm": {
     "name": "#%%\n"
    }
   }
  },
  {
   "cell_type": "code",
   "execution_count": 49,
   "outputs": [
    {
     "data": {
      "text/plain": "<Figure size 504x360 with 1 Axes>",
      "image/png": "[encoded data removed]"
     },
     "metadata": {
      "needs_background": "light"
     },
     "output_type": "display_data"
    }
   ],
   "source": [
    "%matplotlib inline\n",
    "\n",
    "import matplotlib as mpl\n",
    "from matplotlib import pyplot as plt #this is the traditional method\n",
    "\n",
    "mpl.rc('xtick', labelsize = 18)      #use 18 point font for numbering on x axis\n",
    "mpl.rc('ytick', labelsize = 18)      #use 18 point font for numbering on y axis\n",
    "\n",
    "plt.figure(figsize = (7,5))          #specify figure size as 7 x 5 inches\n",
    "#for default size, type plt.figure()\n",
    "\n",
    "plt.xlabel(r\"$\\theta$ [degrees]\", fontsize = 18) #label axis (using LaTeX commands)\n",
    "plt.ylabel(r\"$V_{pd}$ [volts]\", fontsize = 18)   #use 18 point font for label text\n",
    "\n",
    "plt.errorbar(f_gen, amp_R,\n",
    "             xerr=None, yerr=None,\n",
    "             linestyle = 'none',\n",
    "             color = 'blue',\n",
    "             capsize = 3, capthick = 1)\n",
    "\n",
    "plt.show()"
   ],
   "metadata": {
    "collapsed": false,
    "pycharm": {
     "name": "#%%\n"
    }
   }
  }
 ],
 "metadata": {
  "kernelspec": {
   "display_name": "Python 3",
   "language": "python",
   "name": "python3"
  },
  "language_info": {
   "codemirror_mode": {
    "name": "ipython",
    "version": 2
   },
   "file_extension": ".py",
   "mimetype": "text/x-python",
   "name": "python",
   "nbconvert_exporter": "python",
   "pygments_lexer": "ipython2",
   "version": "2.7.6"
  }
 },
 "nbformat": 4,
 "nbformat_minor": 0
}