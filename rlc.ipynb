{
 "cells": [
  {
   "cell_type": "code",
   "execution_count": 77,
   "outputs": [],
   "source": [
    "import numpy as np # only need this once per program\n",
    "\n",
    "file_name = 'amplitudes.csv'               # replace with the name of your csv data file\n",
    "\n",
    "file_folder = 'data/sample data/'                                  # use this if your data file is in the same folder as your python program\n",
    "\n",
    "data_file = file_folder + file_name\n",
    "\n",
    "f_gen, amp_R  = np.loadtxt(data_file, delimiter = ',', skiprows = 1, usecols = (0, 2), unpack = True)\n"
   ],
   "metadata": {
    "collapsed": false,
    "pycharm": {
     "name": "#%%\n"
    }
   }
  },
  {
   "cell_type": "code",
   "execution_count": 78,
   "outputs": [
    {
     "data": {
      "text/plain": "<Figure size 504x360 with 1 Axes>",
      "image/png": "[encoded data removed]"
     },
     "metadata": {
      "needs_background": "light"
     },
     "output_type": "display_data"
    }
   ],
   "source": [
    "%matplotlib inline\n",
    "\n",
    "import matplotlib as mpl\n",
    "from matplotlib import pyplot as plt #this is the traditional method\n",
    "\n",
    "mpl.rc('xtick', labelsize = 18)      #use 18 point font for numbering on x axis\n",
    "mpl.rc('ytick', labelsize = 18)      #use 18 point font for numbering on y axis\n",
    "\n",
    "plt.figure(figsize = (7,5))          #specify figure size as 7 x 5 inches\n",
    "#for default size, type plt.figure()\n",
    "\n",
    "plt.xlabel(r\"$\\theta$ [degrees]\", fontsize = 18) #label axis (using LaTeX commands)\n",
    "plt.ylabel(r\"$V_{pd}$ [volts]\", fontsize = 18)   #use 18 point font for label text\n",
    "\n",
    "plt.errorbar(f_gen, amp_R,\n",
    "             xerr=None, yerr=None,\n",
    "             linestyle = 'none',\n",
    "             color = 'blue',\n",
    "             capsize = 3, capthick = 1)\n",
    "\n",
    "plt.show()"
   ],
   "metadata": {
    "collapsed": false,
    "pycharm": {
     "name": "#%%\n"
    }
   }
  },
  {
   "cell_type": "code",
   "execution_count": 79,
   "outputs": [],
   "source": [
    "def resistance_amp_model(f, R_r , R, L, C, V_0):\n",
    "    num = R_r * V_0\n",
    "    den = np.sqrt( R**2 + (2*np.pi*f * L - 1/(2*np.pi*f * C))**2)\n",
    "    return num / den"
   ],
   "metadata": {
    "collapsed": false,
    "pycharm": {
     "name": "#%%\n"
    }
   }
  },
  {
   "cell_type": "code",
   "execution_count": 80,
   "outputs": [],
   "source": [
    "# initial guess for polarization models\n",
    "R_r = 997.8    #initial guess, in mV\n",
    "R = 1174.2    #initial guess, in mV\n",
    "L = 0.0472    #initial guess, in mV\n",
    "C = 1.47*10**(-9)    #initial guess, in mV\n",
    "V_0 = 0.5   #initial guess, in mV\n",
    "\n",
    "# theta0 = -2.0 * np.pi / 180   #initial guess for offset angle of 2 degree, in radians\n",
    "\n",
    "initial_guess = np.array([R_r , R, L, C, V_0])\n",
    "# initial_error = np.array([delta_V0, delta_theta, delta_V1])\n",
    "old_fit = np.copy(initial_guess)  # save a copy to compare new with old\n",
    "\n",
    "# estimated_error = photodiode_error(theta, delta_V0, delta_theta, delta_V1,\n",
    "#                                    V0, theta0)    #propagate uncertainty using initial values"
   ],
   "metadata": {
    "collapsed": false,
    "pycharm": {
     "name": "#%%\n"
    }
   }
  },
  {
   "cell_type": "code",
   "execution_count": 85,
   "outputs": [
    {
     "name": "stdout",
     "output_type": "stream",
     "text": [
      "[1.02841368e+03 2.32679165e+03 4.98005586e-02 1.35262930e-09\n",
      " 5.13869591e-01]\n",
      "[1.02841368e+03 2.32679165e+03 4.98005586e-02 1.35262930e-09\n",
      " 5.13869591e-01]\n",
      "\n",
      "R_r    =  1028.414 ± nan  $\\Omega$\n",
      "R    =  2326.792 ± nan  $\\Omega$\n",
      "L    =  0.04980 ± nan  Henry\n",
      "C    =  0.000000001353 ± nan  F\n",
      "V_0    =  0.514 ± nan  V\n"
     ]
    },
    {
     "name": "stderr",
     "output_type": "stream",
     "text": [
      "/var/folders/wx/z_3n9gy53dzd_bsxjtdg_t4h0000gn/T/ipykernel_4953/3188149061.py:13: RuntimeWarning: invalid value encountered in sqrt\n",
      "  error = np.sqrt(np.diag(covariance))\n"
     ]
    }
   ],
   "source": [
    "# load curve_fit routine from scipy\n",
    "from scipy.optimize import curve_fit # import method used here\n",
    "\n",
    "# alternative method (as recommended in https://docs.scipy.org/doc/scipy/reference.api.html)\n",
    "#from scipy import optimize\n",
    "#fit, covariance = optimize.curve_fit(...)\n",
    "\n",
    "#run curve_fit for polarization_model\n",
    "fit, covariance = curve_fit(resistance_amp_model, f_gen, amp_R,\n",
    "                            p0 = initial_guess)\n",
    "                            # sigma = estimated_error, absolute_sigma = True)\n",
    "\n",
    "error = np.sqrt(np.diag(covariance))\n",
    "\n",
    "print(old_fit)\n",
    "print(fit)\n",
    "\n",
    "old_fit = np.copy(fit)\n",
    "\n",
    "print()\n",
    "print('R_r    = ','{:.3f}'.format(fit[0]), '±', '{:.3f}'.format(error[0]), ' $\\Omega$')\n",
    "print('R    = ','{:.3f}'.format(fit[1]), '±', '{:.3f}'.format(error[1]), ' $\\Omega$')\n",
    "print('L    = ','{:.5f}'.format(fit[2]), '±', '{:.3f}'.format(error[2]), ' Henry')\n",
    "print('C    = ','{:.12f}'.format(fit[3]), '±', '{:.12f}'.format(error[3]), ' F')\n",
    "print('V_0    = ','{:.3f}'.format(fit[4]), '±', '{:.3f}'.format(error[4]), ' V')\n"
   ],
   "metadata": {
    "collapsed": false,
    "pycharm": {
     "name": "#%%\n"
    }
   }
  },
  {
   "cell_type": "code",
   "execution_count": 82,
   "outputs": [
    {
     "name": "stdout",
     "output_type": "stream",
     "text": [
      "[1.02841368e+03 2.32679165e+03 4.98005586e-02 1.35262930e-09\n",
      " 5.13869591e-01]\n",
      "[1.02841368e+03 2.32679165e+03 4.98005586e-02 1.35262930e-09\n",
      " 5.13869591e-01]\n"
     ]
    }
   ],
   "source": [
    "new_initial_values = np.array([fit[0], fit[1], fit[2],fit[3],fit[4]])\n",
    "\n",
    "# estimated_error = photodiode_error(theta, delta_V0, delta_theta, delta_V1,\n",
    "#                                    fit[0], fit[1]) # propagate error using new values for V0, etc\n",
    "\n",
    "fit, covariance = curve_fit(resistance_amp_model, f_gen, amp_R,\n",
    "                            p0 = initial_guess)\n",
    "# sigma = estimated_error, absolute_sigma = True)\n",
    "\n",
    "# error = np.sqrt(np.diag(covariance))\n",
    "\n",
    "print(old_fit)\n",
    "print(fit)\n",
    "\n",
    "old_fit = np.copy(fit)\n",
    "\n",
    "Resistance_model = resistance_amp_model(f_gen, fit[0], fit[1], fit[2],fit[3],fit[4])\n",
    "# residual = V_pd - V_pd_model\n",
    "\n",
    "# data_uncertainty = photodiode_error(theta, delta_V0, delta_theta, delta_V1, fit[0], fit[1])\n",
    "#\n",
    "# chisq = sum((residual/ data_uncertainty)**2) #typo corrected\n",
    "# degrees_of_freedom = len(residual) - len(initial_guess)\n",
    "# reduced_chisq = chisq / degrees_of_freedom  # this should be close to one\n",
    "# CDF = chi2.cdf(chisq, degrees_of_freedom)   # this should be close to 50 percent\n",
    "#\n",
    "# print('chi-square         = ',chisq)\n",
    "# print('degrees of freedom = ',degrees_of_freedom)\n",
    "# print('reduced chi-square = ',reduced_chisq)\n",
    "# print('fractional probability of chisq ≤', chisq, 'for ', degrees_of_freedom, 'dof is', CDF)"
   ],
   "metadata": {
    "collapsed": false,
    "pycharm": {
     "name": "#%%\n"
    }
   }
  },
  {
   "cell_type": "code",
   "execution_count": 82,
   "outputs": [],
   "source": [],
   "metadata": {
    "collapsed": false,
    "pycharm": {
     "name": "#%%\n"
    }
   }
  }
 ],
 "metadata": {
  "kernelspec": {
   "display_name": "Python 3",
   "language": "python",
   "name": "python3"
  },
  "language_info": {
   "codemirror_mode": {
    "name": "ipython",
    "version": 2
   },
   "file_extension": ".py",
   "mimetype": "text/x-python",
   "name": "python",
   "nbconvert_exporter": "python",
   "pygments_lexer": "ipython2",
   "version": "2.7.6"
  }
 },
 "nbformat": 4,
 "nbformat_minor": 0
}