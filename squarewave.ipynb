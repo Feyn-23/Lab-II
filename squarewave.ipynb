{
 "cells": [
  {
   "cell_type": "code",
   "execution_count": null,
   "metadata": {
    "collapsed": true,
    "pycharm": {
     "is_executing": true
    }
   },
   "outputs": [],
   "source": [
    "import numpy as np\n",
    "\n",
    "folder = 'data/actual data/Voltage-time/'\n",
    "file_name = 'freq19kHz.csv'\n",
    "data_file = folder + file_name\n",
    "freqAmpGen  = np.loadtxt(data_file, delimiter = ',', skiprows = 1, usecols = (1), unpack = True)\n",
    "\n",
    "freqAmpGen"
   ]
  },
  {
   "cell_type": "code",
   "execution_count": null,
   "outputs": [],
   "source": [
    "freqAmpPositive = []\n",
    "for x in range(len(freqAmpGen)):\n",
    "    if (freqAmpGen[x] > 0.0):\n",
    "     freqAmpPositive.append(freqAmpGen[x])\n",
    "freqAmpNegative = []\n",
    "for x in range(len(freqAmpGen)):\n",
    "    if (freqAmpGen[x] < 0.0):\n",
    "        freqAmpNegative.append(freqAmpGen[x])\n",
    "\n",
    "freqAmpNegative"
   ],
   "metadata": {
    "collapsed": false,
    "pycharm": {
     "name": "#%%\n",
     "is_executing": true
    }
   }
  },
  {
   "cell_type": "code",
   "execution_count": 22,
   "outputs": [
    {
     "data": {
      "text/plain": "0.050591377543843026"
     },
     "execution_count": 22,
     "metadata": {},
     "output_type": "execute_result"
    }
   ],
   "source": [
    "from statistics import stdev\n",
    "errorePos = stdev(freqAmpPositive)\n",
    "erroreNeg = stdev(freqAmpNegative)\n",
    "\n",
    "errorePercentuale = errorePos*100/2.5\n",
    "\n",
    "errorePos"
   ],
   "metadata": {
    "collapsed": false,
    "pycharm": {
     "name": "#%%\n"
    }
   }
  }
 ],
 "metadata": {
  "kernelspec": {
   "display_name": "Python 3",
   "language": "python",
   "name": "python3"
  },
  "language_info": {
   "codemirror_mode": {
    "name": "ipython",
    "version": 2
   },
   "file_extension": ".py",
   "mimetype": "text/x-python",
   "name": "python",
   "nbconvert_exporter": "python",
   "pygments_lexer": "ipython2",
   "version": "2.7.6"
  }
 },
 "nbformat": 4,
 "nbformat_minor": 0
}